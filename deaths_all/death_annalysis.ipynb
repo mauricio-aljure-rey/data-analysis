{
 "cells": [
  {
   "cell_type": "markdown",
   "id": "8c2fdfa1-2ab0-4141-86f5-6768814f01b6",
   "metadata": {},
   "source": [
    "# Intro"
   ]
  },
  {
   "cell_type": "markdown",
   "id": "75095ef1-809d-4cae-b2fb-605f4d99c15f",
   "metadata": {},
   "source": [
    "Data taken from https://platform.who.int/mortality/themes/theme-details/MDB/all-causes. Contains all countries, many years, number of deaths. "
   ]
  },
  {
   "cell_type": "markdown",
   "id": "ecd3b16f-691e-4e62-aad5-1aef53b4a40f",
   "metadata": {},
   "source": [
    "## Imports"
   ]
  },
  {
   "cell_type": "code",
   "execution_count": 3,
   "id": "bae88a82-2bb1-4af9-96ba-2da759d86887",
   "metadata": {
    "tags": []
   },
   "outputs": [],
   "source": [
    "import pandas as pd"
   ]
  },
  {
   "cell_type": "markdown",
   "id": "213b6201-117c-4390-8d9e-d2287e4944f4",
   "metadata": {},
   "source": [
    "## Load the Excel file"
   ]
  },
  {
   "cell_type": "code",
   "execution_count": 6,
   "id": "be1bea8b-126a-44e9-930d-a44b4a8cb9b8",
   "metadata": {
    "tags": []
   },
   "outputs": [],
   "source": [
    "file_path = 'data_deaths.csv'\n",
    "df = pd.read_csv(file_path)"
   ]
  },
  {
   "cell_type": "markdown",
   "id": "ac9097ab-7e4f-4a25-8aab-270266d8b204",
   "metadata": {},
   "source": [
    "# Exploratory analysis"
   ]
  },
  {
   "cell_type": "markdown",
   "id": "f098ff6d-3b54-438d-a437-9f3e02331383",
   "metadata": {},
   "source": [
    "## Basic info"
   ]
  },
  {
   "cell_type": "code",
   "execution_count": 7,
   "id": "42d97741-ea77-4aba-ad0f-85fd145be0b2",
   "metadata": {
    "tags": []
   },
   "outputs": [
    {
     "name": "stdout",
     "output_type": "stream",
     "text": [
      "Basic Information:\n",
      "<class 'pandas.core.frame.DataFrame'>\n",
      "RangeIndex: 314055 entries, 0 to 314054\n",
      "Data columns (total 12 columns):\n",
      " #   Column                                                       Non-Null Count   Dtype  \n",
      "---  ------                                                       --------------   -----  \n",
      " 0   Region Code                                                  314055 non-null  object \n",
      " 1   Region Name                                                  314055 non-null  object \n",
      " 2   Country Code                                                 314055 non-null  object \n",
      " 3   Country Name                                                 314055 non-null  object \n",
      " 4   Year                                                         314055 non-null  int64  \n",
      " 5   Sex                                                          314055 non-null  object \n",
      " 6   Age group code                                               314055 non-null  object \n",
      " 7   Age Group                                                    314055 non-null  object \n",
      " 8   Number                                                       312378 non-null  float64\n",
      " 9   Percentage of cause-specific deaths out of total deaths      314055 non-null  int64  \n",
      " 10  Age-standardized death rate per 100 000 standard population  14328 non-null   float64\n",
      " 11  Death rate per 100 000 population                            283980 non-null  float64\n",
      "dtypes: float64(3), int64(2), object(7)\n",
      "memory usage: 28.8+ MB\n",
      "None\n"
     ]
    }
   ],
   "source": [
    "print(\"Basic Information:\")\n",
    "print(df.info())\n"
   ]
  },
  {
   "cell_type": "markdown",
   "id": "046b4114-d4fb-4941-8585-bb6e77e090cc",
   "metadata": {},
   "source": [
    "## Statistics Summary"
   ]
  },
  {
   "cell_type": "code",
   "execution_count": 8,
   "id": "06a3e56a-3bfe-4afa-a64e-3e0da14b7c65",
   "metadata": {
    "tags": []
   },
   "outputs": [
    {
     "name": "stdout",
     "output_type": "stream",
     "text": [
      "\n",
      "Summary Statistics:\n",
      "       Region Code Region Name Country Code Country Name           Year  \\\n",
      "count       314055      314055       314055       314055  314055.000000   \n",
      "unique           6           6          119          119            NaN   \n",
      "top             EU      Europe          MEX       Mexico            NaN   \n",
      "freq        126105      126105         4725         4725            NaN   \n",
      "mean           NaN         NaN          NaN          NaN    1993.423537   \n",
      "std            NaN         NaN          NaN          NaN      18.275490   \n",
      "min            NaN         NaN          NaN          NaN    1950.000000   \n",
      "25%            NaN         NaN          NaN          NaN    1980.000000   \n",
      "50%            NaN         NaN          NaN          NaN    1996.000000   \n",
      "75%            NaN         NaN          NaN          NaN    2009.000000   \n",
      "max            NaN         NaN          NaN          NaN    2022.000000   \n",
      "\n",
      "           Sex Age group code Age Group        Number  \\\n",
      "count   314055         314055    314055  3.123780e+05   \n",
      "unique       4             21        21           NaN   \n",
      "top        All        Age_all     [All]           NaN   \n",
      "freq    102249          14955     14955           NaN   \n",
      "mean       NaN            NaN       NaN  1.121549e+04   \n",
      "std        NaN            NaN       NaN  6.458636e+04   \n",
      "min        NaN            NaN       NaN  0.000000e+00   \n",
      "25%        NaN            NaN       NaN  8.800000e+01   \n",
      "50%        NaN            NaN       NaN  6.720000e+02   \n",
      "75%        NaN            NaN       NaN  3.956000e+03   \n",
      "max        NaN            NaN       NaN  3.464231e+06   \n",
      "\n",
      "        Percentage of cause-specific deaths out of total deaths  \\\n",
      "count                                            314055.0         \n",
      "unique                                                NaN         \n",
      "top                                                   NaN         \n",
      "freq                                                  NaN         \n",
      "mean                                                100.0         \n",
      "std                                                   0.0         \n",
      "min                                                 100.0         \n",
      "25%                                                 100.0         \n",
      "50%                                                 100.0         \n",
      "75%                                                 100.0         \n",
      "max                                                 100.0         \n",
      "\n",
      "        Age-standardized death rate per 100 000 standard population  \\\n",
      "count                                        14328.000000             \n",
      "unique                                                NaN             \n",
      "top                                                   NaN             \n",
      "freq                                                  NaN             \n",
      "mean                                           743.039159             \n",
      "std                                            288.610507             \n",
      "min                                            203.363799             \n",
      "25%                                            524.092649             \n",
      "50%                                            709.145493             \n",
      "75%                                            912.658249             \n",
      "max                                           2620.111063             \n",
      "\n",
      "        Death rate per 100 000 population  \n",
      "count                       283980.000000  \n",
      "unique                                NaN  \n",
      "top                                   NaN  \n",
      "freq                                  NaN  \n",
      "mean                          2417.696407  \n",
      "std                           5023.236637  \n",
      "min                              0.000000  \n",
      "25%                             97.965230  \n",
      "50%                            459.733636  \n",
      "75%                           2027.442924  \n",
      "max                         239215.686270  \n"
     ]
    }
   ],
   "source": [
    "print(\"\\nSummary Statistics:\")\n",
    "print(df.describe(include='all'))"
   ]
  },
  {
   "cell_type": "markdown",
   "id": "88025a78-db1a-4a32-9adc-41898616f83f",
   "metadata": {},
   "source": [
    "## NaN values"
   ]
  },
  {
   "cell_type": "code",
   "execution_count": 10,
   "id": "ee266a0e-a581-47a6-a4bc-4f6da443d126",
   "metadata": {
    "tags": []
   },
   "outputs": [
    {
     "name": "stdout",
     "output_type": "stream",
     "text": [
      "\n",
      "NaN Values per Column:\n",
      "Region Code                                                         0\n",
      "Region Name                                                         0\n",
      "Country Code                                                        0\n",
      "Country Name                                                        0\n",
      "Year                                                                0\n",
      "Sex                                                                 0\n",
      "Age group code                                                      0\n",
      "Age Group                                                           0\n",
      "Number                                                           1677\n",
      "Percentage of cause-specific deaths out of total deaths             0\n",
      "Age-standardized death rate per 100 000 standard population    299727\n",
      "Death rate per 100 000 population                               30075\n",
      "dtype: int64\n"
     ]
    }
   ],
   "source": [
    "print(\"\\nNaN Values per Column:\")\n",
    "print(df.isna().sum())"
   ]
  },
  {
   "cell_type": "markdown",
   "id": "d266d41b-e1c5-4bfa-a848-a66ddb5f29cd",
   "metadata": {},
   "source": [
    "## Empty values "
   ]
  },
  {
   "cell_type": "markdown",
   "id": "0105476f-3d10-483a-96d1-316542bd429b",
   "metadata": {},
   "source": [
    "Assuming empty values are represented as empty strings"
   ]
  },
  {
   "cell_type": "code",
   "execution_count": 11,
   "id": "c984cc26-dfec-4c0f-9474-10fb923e0c5d",
   "metadata": {
    "tags": []
   },
   "outputs": [
    {
     "name": "stdout",
     "output_type": "stream",
     "text": [
      "\n",
      "Empty Values per Column:\n",
      "Region Code                                                    0\n",
      "Region Name                                                    0\n",
      "Country Code                                                   0\n",
      "Country Name                                                   0\n",
      "Year                                                           0\n",
      "Sex                                                            0\n",
      "Age group code                                                 0\n",
      "Age Group                                                      0\n",
      "Number                                                         0\n",
      "Percentage of cause-specific deaths out of total deaths        0\n",
      "Age-standardized death rate per 100 000 standard population    0\n",
      "Death rate per 100 000 population                              0\n",
      "dtype: int64\n"
     ]
    }
   ],
   "source": [
    "print(\"\\nEmpty Values per Column:\")\n",
    "print((df == '').sum())\n"
   ]
  },
  {
   "cell_type": "markdown",
   "id": "d15afa15-4587-4a50-92c3-a53ef95d2c67",
   "metadata": {
    "tags": []
   },
   "source": [
    "## Unique values"
   ]
  },
  {
   "cell_type": "code",
   "execution_count": 12,
   "id": "13c1c58b-ac92-4a5c-8bf2-07bcf9724c26",
   "metadata": {
    "tags": []
   },
   "outputs": [
    {
     "name": "stdout",
     "output_type": "stream",
     "text": [
      "\n",
      "Unique Values per Column:\n",
      "Region Code: 6 unique values\n",
      "Region Name: 6 unique values\n",
      "Country Code: 119 unique values\n",
      "Country Name: 119 unique values\n",
      "Year: 73 unique values\n",
      "Sex: 4 unique values\n",
      "Age group code: 21 unique values\n",
      "Age Group: 21 unique values\n",
      "Number: 41935 unique values\n",
      "Percentage of cause-specific deaths out of total deaths: 1 unique values\n",
      "Age-standardized death rate per 100 000 standard population: 14329 unique values\n",
      "Death rate per 100 000 population: 267220 unique values\n"
     ]
    }
   ],
   "source": [
    "\n",
    "print(\"\\nUnique Values per Column:\")\n",
    "for column in df.columns:\n",
    "    unique_values = df[column].unique()\n",
    "    print(f\"{column}: {len(unique_values)} unique values\")\n"
   ]
  },
  {
   "cell_type": "markdown",
   "id": "aebc70a9-c668-4912-b511-67b60fb8bddb",
   "metadata": {},
   "source": [
    "# Totals per country"
   ]
  },
  {
   "cell_type": "markdown",
   "id": "8f1fb770-38e4-44cf-bb2a-e295d7db39cf",
   "metadata": {
    "tags": []
   },
   "source": [
    "This section analyzes the data as grouped by country.  "
   ]
  },
  {
   "cell_type": "code",
   "execution_count": 26,
   "id": "05b7a883-a7be-4f98-bd69-9a04d0dd976d",
   "metadata": {
    "tags": []
   },
   "outputs": [
    {
     "data": {
      "text/html": [
       "<div>\n",
       "<style scoped>\n",
       "    .dataframe tbody tr th:only-of-type {\n",
       "        vertical-align: middle;\n",
       "    }\n",
       "\n",
       "    .dataframe tbody tr th {\n",
       "        vertical-align: top;\n",
       "    }\n",
       "\n",
       "    .dataframe thead th {\n",
       "        text-align: right;\n",
       "    }\n",
       "</style>\n",
       "<table border=\"1\" class=\"dataframe\">\n",
       "  <thead>\n",
       "    <tr style=\"text-align: right;\">\n",
       "      <th></th>\n",
       "      <th></th>\n",
       "      <th>Death rate per 100 000 population</th>\n",
       "    </tr>\n",
       "    <tr>\n",
       "      <th>Country Name</th>\n",
       "      <th>Year</th>\n",
       "      <th></th>\n",
       "    </tr>\n",
       "  </thead>\n",
       "  <tbody>\n",
       "    <tr>\n",
       "      <th rowspan=\"5\" valign=\"top\">Albania</th>\n",
       "      <th>1987</th>\n",
       "      <td>60</td>\n",
       "    </tr>\n",
       "    <tr>\n",
       "      <th>1988</th>\n",
       "      <td>60</td>\n",
       "    </tr>\n",
       "    <tr>\n",
       "      <th>1989</th>\n",
       "      <td>60</td>\n",
       "    </tr>\n",
       "    <tr>\n",
       "      <th>1992</th>\n",
       "      <td>60</td>\n",
       "    </tr>\n",
       "    <tr>\n",
       "      <th>1993</th>\n",
       "      <td>60</td>\n",
       "    </tr>\n",
       "    <tr>\n",
       "      <th>...</th>\n",
       "      <th>...</th>\n",
       "      <td>...</td>\n",
       "    </tr>\n",
       "    <tr>\n",
       "      <th rowspan=\"5\" valign=\"top\">Venezuela (Bolivarian Republic of)</th>\n",
       "      <th>2012</th>\n",
       "      <td>60</td>\n",
       "    </tr>\n",
       "    <tr>\n",
       "      <th>2013</th>\n",
       "      <td>60</td>\n",
       "    </tr>\n",
       "    <tr>\n",
       "      <th>2014</th>\n",
       "      <td>60</td>\n",
       "    </tr>\n",
       "    <tr>\n",
       "      <th>2015</th>\n",
       "      <td>60</td>\n",
       "    </tr>\n",
       "    <tr>\n",
       "      <th>2016</th>\n",
       "      <td>60</td>\n",
       "    </tr>\n",
       "  </tbody>\n",
       "</table>\n",
       "<p>4869 rows × 1 columns</p>\n",
       "</div>"
      ],
      "text/plain": [
       "                                         Death rate per 100 000 population\n",
       "Country Name                       Year                                   \n",
       "Albania                            1987                                 60\n",
       "                                   1988                                 60\n",
       "                                   1989                                 60\n",
       "                                   1992                                 60\n",
       "                                   1993                                 60\n",
       "...                                                                    ...\n",
       "Venezuela (Bolivarian Republic of) 2012                                 60\n",
       "                                   2013                                 60\n",
       "                                   2014                                 60\n",
       "                                   2015                                 60\n",
       "                                   2016                                 60\n",
       "\n",
       "[4869 rows x 1 columns]"
      ]
     },
     "execution_count": 26,
     "metadata": {},
     "output_type": "execute_result"
    }
   ],
   "source": [
    "df_country = df[[\"Country Name\", \"Death rate per 100 000 population\", \"Year\"]].groupby([\"Country Name\", \"Year\"]).count()\n",
    "df_country"
   ]
  },
  {
   "cell_type": "code",
   "execution_count": 28,
   "id": "cbdc6429-5659-495a-9d76-4851ab4d8f8b",
   "metadata": {
    "tags": []
   },
   "outputs": [
    {
     "data": {
      "text/html": [
       "<div>\n",
       "<style scoped>\n",
       "    .dataframe tbody tr th:only-of-type {\n",
       "        vertical-align: middle;\n",
       "    }\n",
       "\n",
       "    .dataframe tbody tr th {\n",
       "        vertical-align: top;\n",
       "    }\n",
       "\n",
       "    .dataframe thead th {\n",
       "        text-align: right;\n",
       "    }\n",
       "</style>\n",
       "<table border=\"1\" class=\"dataframe\">\n",
       "  <thead>\n",
       "    <tr style=\"text-align: right;\">\n",
       "      <th></th>\n",
       "      <th>Region Code</th>\n",
       "      <th>Region Name</th>\n",
       "      <th>Country Code</th>\n",
       "      <th>Country Name</th>\n",
       "      <th>Year</th>\n",
       "      <th>Sex</th>\n",
       "      <th>Age group code</th>\n",
       "      <th>Age Group</th>\n",
       "      <th>Number</th>\n",
       "      <th>Percentage of cause-specific deaths out of total deaths</th>\n",
       "      <th>Age-standardized death rate per 100 000 standard population</th>\n",
       "      <th>Death rate per 100 000 population</th>\n",
       "    </tr>\n",
       "  </thead>\n",
       "  <tbody>\n",
       "    <tr>\n",
       "      <th>233457</th>\n",
       "      <td>EU</td>\n",
       "      <td>Europe</td>\n",
       "      <td>SWE</td>\n",
       "      <td>Sweden</td>\n",
       "      <td>1951</td>\n",
       "      <td>All</td>\n",
       "      <td>Age_all</td>\n",
       "      <td>[All]</td>\n",
       "      <td>69799.0</td>\n",
       "      <td>100</td>\n",
       "      <td>878.907709</td>\n",
       "      <td>987.214121</td>\n",
       "    </tr>\n",
       "    <tr>\n",
       "      <th>233458</th>\n",
       "      <td>EU</td>\n",
       "      <td>Europe</td>\n",
       "      <td>SWE</td>\n",
       "      <td>Sweden</td>\n",
       "      <td>1951</td>\n",
       "      <td>All</td>\n",
       "      <td>Age00</td>\n",
       "      <td>[0]</td>\n",
       "      <td>2378.0</td>\n",
       "      <td>100</td>\n",
       "      <td>NaN</td>\n",
       "      <td>2152.036199</td>\n",
       "    </tr>\n",
       "    <tr>\n",
       "      <th>233459</th>\n",
       "      <td>EU</td>\n",
       "      <td>Europe</td>\n",
       "      <td>SWE</td>\n",
       "      <td>Sweden</td>\n",
       "      <td>1951</td>\n",
       "      <td>All</td>\n",
       "      <td>Age01_04</td>\n",
       "      <td>[1-4]</td>\n",
       "      <td>600.0</td>\n",
       "      <td>100</td>\n",
       "      <td>NaN</td>\n",
       "      <td>122.649223</td>\n",
       "    </tr>\n",
       "    <tr>\n",
       "      <th>233460</th>\n",
       "      <td>EU</td>\n",
       "      <td>Europe</td>\n",
       "      <td>SWE</td>\n",
       "      <td>Sweden</td>\n",
       "      <td>1951</td>\n",
       "      <td>All</td>\n",
       "      <td>Age05_09</td>\n",
       "      <td>[5-9]</td>\n",
       "      <td>363.0</td>\n",
       "      <td>100</td>\n",
       "      <td>NaN</td>\n",
       "      <td>59.861478</td>\n",
       "    </tr>\n",
       "    <tr>\n",
       "      <th>233461</th>\n",
       "      <td>EU</td>\n",
       "      <td>Europe</td>\n",
       "      <td>SWE</td>\n",
       "      <td>Sweden</td>\n",
       "      <td>1951</td>\n",
       "      <td>All</td>\n",
       "      <td>Age10_14</td>\n",
       "      <td>[10-14]</td>\n",
       "      <td>210.0</td>\n",
       "      <td>100</td>\n",
       "      <td>NaN</td>\n",
       "      <td>45.971979</td>\n",
       "    </tr>\n",
       "    <tr>\n",
       "      <th>...</th>\n",
       "      <td>...</td>\n",
       "      <td>...</td>\n",
       "      <td>...</td>\n",
       "      <td>...</td>\n",
       "      <td>...</td>\n",
       "      <td>...</td>\n",
       "      <td>...</td>\n",
       "      <td>...</td>\n",
       "      <td>...</td>\n",
       "      <td>...</td>\n",
       "      <td>...</td>\n",
       "      <td>...</td>\n",
       "    </tr>\n",
       "    <tr>\n",
       "      <th>313357</th>\n",
       "      <td>EU</td>\n",
       "      <td>Europe</td>\n",
       "      <td>SWE</td>\n",
       "      <td>Sweden</td>\n",
       "      <td>2019</td>\n",
       "      <td>Unknown</td>\n",
       "      <td>Age70_74</td>\n",
       "      <td>[70-74]</td>\n",
       "      <td>12.0</td>\n",
       "      <td>100</td>\n",
       "      <td>NaN</td>\n",
       "      <td>NaN</td>\n",
       "    </tr>\n",
       "    <tr>\n",
       "      <th>313358</th>\n",
       "      <td>EU</td>\n",
       "      <td>Europe</td>\n",
       "      <td>SWE</td>\n",
       "      <td>Sweden</td>\n",
       "      <td>2019</td>\n",
       "      <td>Unknown</td>\n",
       "      <td>Age75_79</td>\n",
       "      <td>[75-79]</td>\n",
       "      <td>7.0</td>\n",
       "      <td>100</td>\n",
       "      <td>NaN</td>\n",
       "      <td>NaN</td>\n",
       "    </tr>\n",
       "    <tr>\n",
       "      <th>313359</th>\n",
       "      <td>EU</td>\n",
       "      <td>Europe</td>\n",
       "      <td>SWE</td>\n",
       "      <td>Sweden</td>\n",
       "      <td>2019</td>\n",
       "      <td>Unknown</td>\n",
       "      <td>Age80_84</td>\n",
       "      <td>[80-84]</td>\n",
       "      <td>3.0</td>\n",
       "      <td>100</td>\n",
       "      <td>NaN</td>\n",
       "      <td>NaN</td>\n",
       "    </tr>\n",
       "    <tr>\n",
       "      <th>313360</th>\n",
       "      <td>EU</td>\n",
       "      <td>Europe</td>\n",
       "      <td>SWE</td>\n",
       "      <td>Sweden</td>\n",
       "      <td>2019</td>\n",
       "      <td>Unknown</td>\n",
       "      <td>Age85_over</td>\n",
       "      <td>[85+]</td>\n",
       "      <td>10.0</td>\n",
       "      <td>100</td>\n",
       "      <td>NaN</td>\n",
       "      <td>NaN</td>\n",
       "    </tr>\n",
       "    <tr>\n",
       "      <th>313361</th>\n",
       "      <td>EU</td>\n",
       "      <td>Europe</td>\n",
       "      <td>SWE</td>\n",
       "      <td>Sweden</td>\n",
       "      <td>2019</td>\n",
       "      <td>Unknown</td>\n",
       "      <td>Age_unknown</td>\n",
       "      <td>[Unknown]</td>\n",
       "      <td>0.0</td>\n",
       "      <td>100</td>\n",
       "      <td>NaN</td>\n",
       "      <td>NaN</td>\n",
       "    </tr>\n",
       "  </tbody>\n",
       "</table>\n",
       "<p>4578 rows × 12 columns</p>\n",
       "</div>"
      ],
      "text/plain": [
       "       Region Code Region Name Country Code Country Name  Year      Sex  \\\n",
       "233457          EU      Europe          SWE       Sweden  1951      All   \n",
       "233458          EU      Europe          SWE       Sweden  1951      All   \n",
       "233459          EU      Europe          SWE       Sweden  1951      All   \n",
       "233460          EU      Europe          SWE       Sweden  1951      All   \n",
       "233461          EU      Europe          SWE       Sweden  1951      All   \n",
       "...            ...         ...          ...          ...   ...      ...   \n",
       "313357          EU      Europe          SWE       Sweden  2019  Unknown   \n",
       "313358          EU      Europe          SWE       Sweden  2019  Unknown   \n",
       "313359          EU      Europe          SWE       Sweden  2019  Unknown   \n",
       "313360          EU      Europe          SWE       Sweden  2019  Unknown   \n",
       "313361          EU      Europe          SWE       Sweden  2019  Unknown   \n",
       "\n",
       "       Age group code  Age Group   Number  \\\n",
       "233457        Age_all      [All]  69799.0   \n",
       "233458          Age00        [0]   2378.0   \n",
       "233459       Age01_04      [1-4]    600.0   \n",
       "233460       Age05_09      [5-9]    363.0   \n",
       "233461       Age10_14    [10-14]    210.0   \n",
       "...               ...        ...      ...   \n",
       "313357       Age70_74    [70-74]     12.0   \n",
       "313358       Age75_79    [75-79]      7.0   \n",
       "313359       Age80_84    [80-84]      3.0   \n",
       "313360     Age85_over      [85+]     10.0   \n",
       "313361    Age_unknown  [Unknown]      0.0   \n",
       "\n",
       "        Percentage of cause-specific deaths out of total deaths  \\\n",
       "233457                                                100         \n",
       "233458                                                100         \n",
       "233459                                                100         \n",
       "233460                                                100         \n",
       "233461                                                100         \n",
       "...                                                   ...         \n",
       "313357                                                100         \n",
       "313358                                                100         \n",
       "313359                                                100         \n",
       "313360                                                100         \n",
       "313361                                                100         \n",
       "\n",
       "        Age-standardized death rate per 100 000 standard population  \\\n",
       "233457                                         878.907709             \n",
       "233458                                                NaN             \n",
       "233459                                                NaN             \n",
       "233460                                                NaN             \n",
       "233461                                                NaN             \n",
       "...                                                   ...             \n",
       "313357                                                NaN             \n",
       "313358                                                NaN             \n",
       "313359                                                NaN             \n",
       "313360                                                NaN             \n",
       "313361                                                NaN             \n",
       "\n",
       "        Death rate per 100 000 population  \n",
       "233457                         987.214121  \n",
       "233458                        2152.036199  \n",
       "233459                         122.649223  \n",
       "233460                          59.861478  \n",
       "233461                          45.971979  \n",
       "...                                   ...  \n",
       "313357                                NaN  \n",
       "313358                                NaN  \n",
       "313359                                NaN  \n",
       "313360                                NaN  \n",
       "313361                                NaN  \n",
       "\n",
       "[4578 rows x 12 columns]"
      ]
     },
     "execution_count": 28,
     "metadata": {},
     "output_type": "execute_result"
    }
   ],
   "source": [
    "df[df[\"Country Name\"] == \"Sweden\"]"
   ]
  },
  {
   "cell_type": "code",
   "execution_count": null,
   "id": "e135c625-5b30-4f1a-b3f2-c849548c2fae",
   "metadata": {},
   "outputs": [],
   "source": []
  }
 ],
 "metadata": {
  "kernelspec": {
   "display_name": "Python 3 (ipykernel)",
   "language": "python",
   "name": "python3"
  },
  "language_info": {
   "codemirror_mode": {
    "name": "ipython",
    "version": 3
   },
   "file_extension": ".py",
   "mimetype": "text/x-python",
   "name": "python",
   "nbconvert_exporter": "python",
   "pygments_lexer": "ipython3",
   "version": "3.10.12"
  }
 },
 "nbformat": 4,
 "nbformat_minor": 5
}
