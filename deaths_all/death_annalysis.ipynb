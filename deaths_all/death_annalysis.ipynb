{
 "cells": [
  {
   "cell_type": "markdown",
   "id": "8c2fdfa1-2ab0-4141-86f5-6768814f01b6",
   "metadata": {},
   "source": [
    "# Intro"
   ]
  },
  {
   "cell_type": "markdown",
   "id": "75095ef1-809d-4cae-b2fb-605f4d99c15f",
   "metadata": {},
   "source": [
    "Data taken from https://platform.who.int/mortality/themes/theme-details/MDB/all-causes. Contains all countries, many years, number of deaths. "
   ]
  },
  {
   "cell_type": "markdown",
   "id": "ecd3b16f-691e-4e62-aad5-1aef53b4a40f",
   "metadata": {},
   "source": [
    "## Imports"
   ]
  },
  {
   "cell_type": "code",
   "execution_count": 40,
   "id": "bae88a82-2bb1-4af9-96ba-2da759d86887",
   "metadata": {
    "tags": []
   },
   "outputs": [],
   "source": [
    "import pandas as pd\n",
    "import plotly.express as px\n",
    "import plotly.graph_objects as go\n",
    "from plotly.subplots import make_subplots"
   ]
  },
  {
   "cell_type": "markdown",
   "id": "213b6201-117c-4390-8d9e-d2287e4944f4",
   "metadata": {},
   "source": [
    "## Load the Excel file"
   ]
  },
  {
   "cell_type": "code",
   "execution_count": 3,
   "id": "be1bea8b-126a-44e9-930d-a44b4a8cb9b8",
   "metadata": {
    "tags": []
   },
   "outputs": [],
   "source": [
    "file_path = 'data_deaths.csv'\n",
    "df = pd.read_csv(file_path)"
   ]
  },
  {
   "cell_type": "markdown",
   "id": "ac9097ab-7e4f-4a25-8aab-270266d8b204",
   "metadata": {},
   "source": [
    "# Exploratory analysis"
   ]
  },
  {
   "cell_type": "markdown",
   "id": "f098ff6d-3b54-438d-a437-9f3e02331383",
   "metadata": {},
   "source": [
    "## Basic info"
   ]
  },
  {
   "cell_type": "code",
   "execution_count": 4,
   "id": "42d97741-ea77-4aba-ad0f-85fd145be0b2",
   "metadata": {
    "tags": []
   },
   "outputs": [
    {
     "name": "stdout",
     "output_type": "stream",
     "text": [
      "Basic Information:\n",
      "<class 'pandas.core.frame.DataFrame'>\n",
      "RangeIndex: 314055 entries, 0 to 314054\n",
      "Data columns (total 12 columns):\n",
      " #   Column                                                       Non-Null Count   Dtype  \n",
      "---  ------                                                       --------------   -----  \n",
      " 0   Region Code                                                  314055 non-null  object \n",
      " 1   Region Name                                                  314055 non-null  object \n",
      " 2   Country Code                                                 314055 non-null  object \n",
      " 3   Country Name                                                 314055 non-null  object \n",
      " 4   Year                                                         314055 non-null  int64  \n",
      " 5   Sex                                                          314055 non-null  object \n",
      " 6   Age group code                                               314055 non-null  object \n",
      " 7   Age Group                                                    314055 non-null  object \n",
      " 8   Number                                                       312378 non-null  float64\n",
      " 9   Percentage of cause-specific deaths out of total deaths      314055 non-null  int64  \n",
      " 10  Age-standardized death rate per 100 000 standard population  14328 non-null   float64\n",
      " 11  Death rate per 100 000 population                            283980 non-null  float64\n",
      "dtypes: float64(3), int64(2), object(7)\n",
      "memory usage: 28.8+ MB\n",
      "None\n"
     ]
    }
   ],
   "source": [
    "print(\"Basic Information:\")\n",
    "print(df.info())\n"
   ]
  },
  {
   "cell_type": "markdown",
   "id": "046b4114-d4fb-4941-8585-bb6e77e090cc",
   "metadata": {},
   "source": [
    "## Statistics Summary"
   ]
  },
  {
   "cell_type": "code",
   "execution_count": 5,
   "id": "06a3e56a-3bfe-4afa-a64e-3e0da14b7c65",
   "metadata": {
    "tags": []
   },
   "outputs": [
    {
     "name": "stdout",
     "output_type": "stream",
     "text": [
      "\n",
      "Summary Statistics:\n",
      "       Region Code Region Name Country Code Country Name           Year  \\\n",
      "count       314055      314055       314055       314055  314055.000000   \n",
      "unique           6           6          119          119            NaN   \n",
      "top             EU      Europe          MEX       Mexico            NaN   \n",
      "freq        126105      126105         4725         4725            NaN   \n",
      "mean           NaN         NaN          NaN          NaN    1993.423537   \n",
      "std            NaN         NaN          NaN          NaN      18.275490   \n",
      "min            NaN         NaN          NaN          NaN    1950.000000   \n",
      "25%            NaN         NaN          NaN          NaN    1980.000000   \n",
      "50%            NaN         NaN          NaN          NaN    1996.000000   \n",
      "75%            NaN         NaN          NaN          NaN    2009.000000   \n",
      "max            NaN         NaN          NaN          NaN    2022.000000   \n",
      "\n",
      "           Sex Age group code Age Group        Number  \\\n",
      "count   314055         314055    314055  3.123780e+05   \n",
      "unique       4             21        21           NaN   \n",
      "top        All        Age_all     [All]           NaN   \n",
      "freq    102249          14955     14955           NaN   \n",
      "mean       NaN            NaN       NaN  1.121549e+04   \n",
      "std        NaN            NaN       NaN  6.458636e+04   \n",
      "min        NaN            NaN       NaN  0.000000e+00   \n",
      "25%        NaN            NaN       NaN  8.800000e+01   \n",
      "50%        NaN            NaN       NaN  6.720000e+02   \n",
      "75%        NaN            NaN       NaN  3.956000e+03   \n",
      "max        NaN            NaN       NaN  3.464231e+06   \n",
      "\n",
      "        Percentage of cause-specific deaths out of total deaths  \\\n",
      "count                                            314055.0         \n",
      "unique                                                NaN         \n",
      "top                                                   NaN         \n",
      "freq                                                  NaN         \n",
      "mean                                                100.0         \n",
      "std                                                   0.0         \n",
      "min                                                 100.0         \n",
      "25%                                                 100.0         \n",
      "50%                                                 100.0         \n",
      "75%                                                 100.0         \n",
      "max                                                 100.0         \n",
      "\n",
      "        Age-standardized death rate per 100 000 standard population  \\\n",
      "count                                        14328.000000             \n",
      "unique                                                NaN             \n",
      "top                                                   NaN             \n",
      "freq                                                  NaN             \n",
      "mean                                           743.039159             \n",
      "std                                            288.610507             \n",
      "min                                            203.363799             \n",
      "25%                                            524.092649             \n",
      "50%                                            709.145493             \n",
      "75%                                            912.658249             \n",
      "max                                           2620.111063             \n",
      "\n",
      "        Death rate per 100 000 population  \n",
      "count                       283980.000000  \n",
      "unique                                NaN  \n",
      "top                                   NaN  \n",
      "freq                                  NaN  \n",
      "mean                          2417.696407  \n",
      "std                           5023.236637  \n",
      "min                              0.000000  \n",
      "25%                             97.965230  \n",
      "50%                            459.733636  \n",
      "75%                           2027.442924  \n",
      "max                         239215.686270  \n"
     ]
    }
   ],
   "source": [
    "print(\"\\nSummary Statistics:\")\n",
    "print(df.describe(include='all'))"
   ]
  },
  {
   "cell_type": "markdown",
   "id": "88025a78-db1a-4a32-9adc-41898616f83f",
   "metadata": {},
   "source": [
    "## NaN values"
   ]
  },
  {
   "cell_type": "code",
   "execution_count": 6,
   "id": "ee266a0e-a581-47a6-a4bc-4f6da443d126",
   "metadata": {
    "tags": []
   },
   "outputs": [
    {
     "name": "stdout",
     "output_type": "stream",
     "text": [
      "\n",
      "NaN Values per Column:\n",
      "Region Code                                                         0\n",
      "Region Name                                                         0\n",
      "Country Code                                                        0\n",
      "Country Name                                                        0\n",
      "Year                                                                0\n",
      "Sex                                                                 0\n",
      "Age group code                                                      0\n",
      "Age Group                                                           0\n",
      "Number                                                           1677\n",
      "Percentage of cause-specific deaths out of total deaths             0\n",
      "Age-standardized death rate per 100 000 standard population    299727\n",
      "Death rate per 100 000 population                               30075\n",
      "dtype: int64\n"
     ]
    }
   ],
   "source": [
    "print(\"\\nNaN Values per Column:\")\n",
    "print(df.isna().sum())"
   ]
  },
  {
   "cell_type": "markdown",
   "id": "d266d41b-e1c5-4bfa-a848-a66ddb5f29cd",
   "metadata": {},
   "source": [
    "## Empty values "
   ]
  },
  {
   "cell_type": "markdown",
   "id": "0105476f-3d10-483a-96d1-316542bd429b",
   "metadata": {},
   "source": [
    "Assuming empty values are represented as empty strings"
   ]
  },
  {
   "cell_type": "code",
   "execution_count": 7,
   "id": "c984cc26-dfec-4c0f-9474-10fb923e0c5d",
   "metadata": {
    "tags": []
   },
   "outputs": [
    {
     "name": "stdout",
     "output_type": "stream",
     "text": [
      "\n",
      "Empty Values per Column:\n",
      "Region Code                                                    0\n",
      "Region Name                                                    0\n",
      "Country Code                                                   0\n",
      "Country Name                                                   0\n",
      "Year                                                           0\n",
      "Sex                                                            0\n",
      "Age group code                                                 0\n",
      "Age Group                                                      0\n",
      "Number                                                         0\n",
      "Percentage of cause-specific deaths out of total deaths        0\n",
      "Age-standardized death rate per 100 000 standard population    0\n",
      "Death rate per 100 000 population                              0\n",
      "dtype: int64\n"
     ]
    }
   ],
   "source": [
    "print(\"\\nEmpty Values per Column:\")\n",
    "print((df == '').sum())\n"
   ]
  },
  {
   "cell_type": "markdown",
   "id": "d15afa15-4587-4a50-92c3-a53ef95d2c67",
   "metadata": {
    "tags": []
   },
   "source": [
    "## Unique values"
   ]
  },
  {
   "cell_type": "code",
   "execution_count": 8,
   "id": "13c1c58b-ac92-4a5c-8bf2-07bcf9724c26",
   "metadata": {
    "tags": []
   },
   "outputs": [
    {
     "name": "stdout",
     "output_type": "stream",
     "text": [
      "\n",
      "Unique Values per Column:\n",
      "Region Code: 6 unique values\n",
      "Region Name: 6 unique values\n",
      "Country Code: 119 unique values\n",
      "Country Name: 119 unique values\n",
      "Year: 73 unique values\n",
      "Sex: 4 unique values\n",
      "Age group code: 21 unique values\n",
      "Age Group: 21 unique values\n",
      "Number: 41935 unique values\n",
      "Percentage of cause-specific deaths out of total deaths: 1 unique values\n",
      "Age-standardized death rate per 100 000 standard population: 14329 unique values\n",
      "Death rate per 100 000 population: 267220 unique values\n"
     ]
    }
   ],
   "source": [
    "\n",
    "print(\"\\nUnique Values per Column:\")\n",
    "for column in df.columns:\n",
    "    unique_values = df[column].unique()\n",
    "    print(f\"{column}: {len(unique_values)} unique values\")\n"
   ]
  },
  {
   "cell_type": "markdown",
   "id": "bda21bfd-7740-465f-b14d-4379c7680aab",
   "metadata": {},
   "source": [
    "## Description of the data-set"
   ]
  },
  {
   "cell_type": "markdown",
   "id": "fc74eead-4716-49dc-881f-11c47b3f654a",
   "metadata": {},
   "source": [
    "What is the data in this dataset? \n",
    "- Region code and Name, Country Code and Name. \n",
    "- Years: 1950 - 2022\n",
    "- Sex: All, Male, Female, Unknown. \n",
    "- Age group code, Age Group: Every 4 years up to 85+.\n",
    "- Number and following: the data itself."
   ]
  },
  {
   "cell_type": "markdown",
   "id": "1087f58e-d6d7-486c-a32e-7f0b6edae31e",
   "metadata": {},
   "source": [
    "Checking for Sweden, 2015, all Age Group, and having a look on the data structure for the Sex. "
   ]
  },
  {
   "cell_type": "code",
   "execution_count": 25,
   "id": "003db4ea-c277-4f18-9185-3f8e1e4b639b",
   "metadata": {
    "tags": []
   },
   "outputs": [
    {
     "data": {
      "text/html": [
       "<div>\n",
       "<style scoped>\n",
       "    .dataframe tbody tr th:only-of-type {\n",
       "        vertical-align: middle;\n",
       "    }\n",
       "\n",
       "    .dataframe tbody tr th {\n",
       "        vertical-align: top;\n",
       "    }\n",
       "\n",
       "    .dataframe thead th {\n",
       "        text-align: right;\n",
       "    }\n",
       "</style>\n",
       "<table border=\"1\" class=\"dataframe\">\n",
       "  <thead>\n",
       "    <tr style=\"text-align: right;\">\n",
       "      <th></th>\n",
       "      <th>Region Code</th>\n",
       "      <th>Region Name</th>\n",
       "      <th>Country Code</th>\n",
       "      <th>Country Name</th>\n",
       "      <th>Year</th>\n",
       "      <th>Sex</th>\n",
       "      <th>Age group code</th>\n",
       "      <th>Age Group</th>\n",
       "      <th>Number</th>\n",
       "      <th>Percentage of cause-specific deaths out of total deaths</th>\n",
       "      <th>Age-standardized death rate per 100 000 standard population</th>\n",
       "      <th>Death rate per 100 000 population</th>\n",
       "    </tr>\n",
       "  </thead>\n",
       "  <tbody>\n",
       "    <tr>\n",
       "      <th>305298</th>\n",
       "      <td>EU</td>\n",
       "      <td>Europe</td>\n",
       "      <td>SWE</td>\n",
       "      <td>Sweden</td>\n",
       "      <td>2015</td>\n",
       "      <td>All</td>\n",
       "      <td>Age_all</td>\n",
       "      <td>[All]</td>\n",
       "      <td>91002.0</td>\n",
       "      <td>100</td>\n",
       "      <td>369.747821</td>\n",
       "      <td>938.541381</td>\n",
       "    </tr>\n",
       "    <tr>\n",
       "      <th>305319</th>\n",
       "      <td>EU</td>\n",
       "      <td>Europe</td>\n",
       "      <td>SWE</td>\n",
       "      <td>Sweden</td>\n",
       "      <td>2015</td>\n",
       "      <td>Male</td>\n",
       "      <td>Age_all</td>\n",
       "      <td>[All]</td>\n",
       "      <td>44542.0</td>\n",
       "      <td>100</td>\n",
       "      <td>443.052593</td>\n",
       "      <td>919.662499</td>\n",
       "    </tr>\n",
       "    <tr>\n",
       "      <th>305340</th>\n",
       "      <td>EU</td>\n",
       "      <td>Europe</td>\n",
       "      <td>SWE</td>\n",
       "      <td>Sweden</td>\n",
       "      <td>2015</td>\n",
       "      <td>Female</td>\n",
       "      <td>Age_all</td>\n",
       "      <td>[All]</td>\n",
       "      <td>46460.0</td>\n",
       "      <td>100</td>\n",
       "      <td>307.394514</td>\n",
       "      <td>957.383257</td>\n",
       "    </tr>\n",
       "  </tbody>\n",
       "</table>\n",
       "</div>"
      ],
      "text/plain": [
       "       Region Code Region Name Country Code Country Name  Year     Sex  \\\n",
       "305298          EU      Europe          SWE       Sweden  2015     All   \n",
       "305319          EU      Europe          SWE       Sweden  2015    Male   \n",
       "305340          EU      Europe          SWE       Sweden  2015  Female   \n",
       "\n",
       "       Age group code Age Group   Number  \\\n",
       "305298        Age_all     [All]  91002.0   \n",
       "305319        Age_all     [All]  44542.0   \n",
       "305340        Age_all     [All]  46460.0   \n",
       "\n",
       "        Percentage of cause-specific deaths out of total deaths  \\\n",
       "305298                                                100         \n",
       "305319                                                100         \n",
       "305340                                                100         \n",
       "\n",
       "        Age-standardized death rate per 100 000 standard population  \\\n",
       "305298                                         369.747821             \n",
       "305319                                         443.052593             \n",
       "305340                                         307.394514             \n",
       "\n",
       "        Death rate per 100 000 population  \n",
       "305298                         938.541381  \n",
       "305319                         919.662499  \n",
       "305340                         957.383257  "
      ]
     },
     "execution_count": 25,
     "metadata": {},
     "output_type": "execute_result"
    }
   ],
   "source": [
    "df_example = df[(df[\"Age Group\"] == \"[All]\") & \\\n",
    "               (df[\"Year\"] == 2015) & \\\n",
    "               (df[\"Country Name\"] == \"Sweden\") ]\n",
    "df_example"
   ]
  },
  {
   "cell_type": "markdown",
   "id": "76700871-cbb6-4446-b453-2e7b511a29d6",
   "metadata": {},
   "source": [
    "Here, it is clear that the Sex \"All\" is the sum of \"Male\" and \"Female\". Doing the same for understanding the \"Sex\" column, "
   ]
  },
  {
   "cell_type": "code",
   "execution_count": 26,
   "id": "c50ab7e1-1cc1-473c-bc42-e11a91f5746f",
   "metadata": {
    "tags": []
   },
   "outputs": [
    {
     "data": {
      "text/html": [
       "<div>\n",
       "<style scoped>\n",
       "    .dataframe tbody tr th:only-of-type {\n",
       "        vertical-align: middle;\n",
       "    }\n",
       "\n",
       "    .dataframe tbody tr th {\n",
       "        vertical-align: top;\n",
       "    }\n",
       "\n",
       "    .dataframe thead th {\n",
       "        text-align: right;\n",
       "    }\n",
       "</style>\n",
       "<table border=\"1\" class=\"dataframe\">\n",
       "  <thead>\n",
       "    <tr style=\"text-align: right;\">\n",
       "      <th></th>\n",
       "      <th>Region Code</th>\n",
       "      <th>Region Name</th>\n",
       "      <th>Country Code</th>\n",
       "      <th>Country Name</th>\n",
       "      <th>Year</th>\n",
       "      <th>Sex</th>\n",
       "      <th>Age group code</th>\n",
       "      <th>Age Group</th>\n",
       "      <th>Number</th>\n",
       "      <th>Percentage of cause-specific deaths out of total deaths</th>\n",
       "      <th>Age-standardized death rate per 100 000 standard population</th>\n",
       "      <th>Death rate per 100 000 population</th>\n",
       "    </tr>\n",
       "  </thead>\n",
       "  <tbody>\n",
       "    <tr>\n",
       "      <th>305298</th>\n",
       "      <td>EU</td>\n",
       "      <td>Europe</td>\n",
       "      <td>SWE</td>\n",
       "      <td>Sweden</td>\n",
       "      <td>2015</td>\n",
       "      <td>All</td>\n",
       "      <td>Age_all</td>\n",
       "      <td>[All]</td>\n",
       "      <td>91002.0</td>\n",
       "      <td>100</td>\n",
       "      <td>369.747821</td>\n",
       "      <td>938.541381</td>\n",
       "    </tr>\n",
       "    <tr>\n",
       "      <th>305299</th>\n",
       "      <td>EU</td>\n",
       "      <td>Europe</td>\n",
       "      <td>SWE</td>\n",
       "      <td>Sweden</td>\n",
       "      <td>2015</td>\n",
       "      <td>All</td>\n",
       "      <td>Age00</td>\n",
       "      <td>[0]</td>\n",
       "      <td>282.0</td>\n",
       "      <td>100</td>\n",
       "      <td>NaN</td>\n",
       "      <td>245.336860</td>\n",
       "    </tr>\n",
       "    <tr>\n",
       "      <th>305300</th>\n",
       "      <td>EU</td>\n",
       "      <td>Europe</td>\n",
       "      <td>SWE</td>\n",
       "      <td>Sweden</td>\n",
       "      <td>2015</td>\n",
       "      <td>All</td>\n",
       "      <td>Age01_04</td>\n",
       "      <td>[1-4]</td>\n",
       "      <td>59.0</td>\n",
       "      <td>100</td>\n",
       "      <td>NaN</td>\n",
       "      <td>12.643471</td>\n",
       "    </tr>\n",
       "    <tr>\n",
       "      <th>305301</th>\n",
       "      <td>EU</td>\n",
       "      <td>Europe</td>\n",
       "      <td>SWE</td>\n",
       "      <td>Sweden</td>\n",
       "      <td>2015</td>\n",
       "      <td>All</td>\n",
       "      <td>Age05_09</td>\n",
       "      <td>[5-9]</td>\n",
       "      <td>38.0</td>\n",
       "      <td>100</td>\n",
       "      <td>NaN</td>\n",
       "      <td>6.728260</td>\n",
       "    </tr>\n",
       "    <tr>\n",
       "      <th>305302</th>\n",
       "      <td>EU</td>\n",
       "      <td>Europe</td>\n",
       "      <td>SWE</td>\n",
       "      <td>Sweden</td>\n",
       "      <td>2015</td>\n",
       "      <td>All</td>\n",
       "      <td>Age10_14</td>\n",
       "      <td>[10-14]</td>\n",
       "      <td>57.0</td>\n",
       "      <td>100</td>\n",
       "      <td>NaN</td>\n",
       "      <td>11.010301</td>\n",
       "    </tr>\n",
       "    <tr>\n",
       "      <th>305303</th>\n",
       "      <td>EU</td>\n",
       "      <td>Europe</td>\n",
       "      <td>SWE</td>\n",
       "      <td>Sweden</td>\n",
       "      <td>2015</td>\n",
       "      <td>All</td>\n",
       "      <td>Age15_19</td>\n",
       "      <td>[15-19]</td>\n",
       "      <td>123.0</td>\n",
       "      <td>100</td>\n",
       "      <td>NaN</td>\n",
       "      <td>22.972126</td>\n",
       "    </tr>\n",
       "    <tr>\n",
       "      <th>305304</th>\n",
       "      <td>EU</td>\n",
       "      <td>Europe</td>\n",
       "      <td>SWE</td>\n",
       "      <td>Sweden</td>\n",
       "      <td>2015</td>\n",
       "      <td>All</td>\n",
       "      <td>Age20_24</td>\n",
       "      <td>[20-24]</td>\n",
       "      <td>307.0</td>\n",
       "      <td>100</td>\n",
       "      <td>NaN</td>\n",
       "      <td>45.702580</td>\n",
       "    </tr>\n",
       "    <tr>\n",
       "      <th>305305</th>\n",
       "      <td>EU</td>\n",
       "      <td>Europe</td>\n",
       "      <td>SWE</td>\n",
       "      <td>Sweden</td>\n",
       "      <td>2015</td>\n",
       "      <td>All</td>\n",
       "      <td>Age25_29</td>\n",
       "      <td>[25-29]</td>\n",
       "      <td>370.0</td>\n",
       "      <td>100</td>\n",
       "      <td>NaN</td>\n",
       "      <td>57.497611</td>\n",
       "    </tr>\n",
       "    <tr>\n",
       "      <th>305306</th>\n",
       "      <td>EU</td>\n",
       "      <td>Europe</td>\n",
       "      <td>SWE</td>\n",
       "      <td>Sweden</td>\n",
       "      <td>2015</td>\n",
       "      <td>All</td>\n",
       "      <td>Age30_34</td>\n",
       "      <td>[30-34]</td>\n",
       "      <td>340.0</td>\n",
       "      <td>100</td>\n",
       "      <td>NaN</td>\n",
       "      <td>56.227762</td>\n",
       "    </tr>\n",
       "    <tr>\n",
       "      <th>305307</th>\n",
       "      <td>EU</td>\n",
       "      <td>Europe</td>\n",
       "      <td>SWE</td>\n",
       "      <td>Sweden</td>\n",
       "      <td>2015</td>\n",
       "      <td>All</td>\n",
       "      <td>Age35_39</td>\n",
       "      <td>[35-39]</td>\n",
       "      <td>367.0</td>\n",
       "      <td>100</td>\n",
       "      <td>NaN</td>\n",
       "      <td>60.497165</td>\n",
       "    </tr>\n",
       "    <tr>\n",
       "      <th>305308</th>\n",
       "      <td>EU</td>\n",
       "      <td>Europe</td>\n",
       "      <td>SWE</td>\n",
       "      <td>Sweden</td>\n",
       "      <td>2015</td>\n",
       "      <td>All</td>\n",
       "      <td>Age40_44</td>\n",
       "      <td>[40-44]</td>\n",
       "      <td>555.0</td>\n",
       "      <td>100</td>\n",
       "      <td>NaN</td>\n",
       "      <td>85.959020</td>\n",
       "    </tr>\n",
       "    <tr>\n",
       "      <th>305309</th>\n",
       "      <td>EU</td>\n",
       "      <td>Europe</td>\n",
       "      <td>SWE</td>\n",
       "      <td>Sweden</td>\n",
       "      <td>2015</td>\n",
       "      <td>All</td>\n",
       "      <td>Age45_49</td>\n",
       "      <td>[45-49]</td>\n",
       "      <td>911.0</td>\n",
       "      <td>100</td>\n",
       "      <td>NaN</td>\n",
       "      <td>134.775974</td>\n",
       "    </tr>\n",
       "    <tr>\n",
       "      <th>305310</th>\n",
       "      <td>EU</td>\n",
       "      <td>Europe</td>\n",
       "      <td>SWE</td>\n",
       "      <td>Sweden</td>\n",
       "      <td>2015</td>\n",
       "      <td>All</td>\n",
       "      <td>Age50_54</td>\n",
       "      <td>[50-54]</td>\n",
       "      <td>1501.0</td>\n",
       "      <td>100</td>\n",
       "      <td>NaN</td>\n",
       "      <td>245.538471</td>\n",
       "    </tr>\n",
       "    <tr>\n",
       "      <th>305311</th>\n",
       "      <td>EU</td>\n",
       "      <td>Europe</td>\n",
       "      <td>SWE</td>\n",
       "      <td>Sweden</td>\n",
       "      <td>2015</td>\n",
       "      <td>All</td>\n",
       "      <td>Age55_59</td>\n",
       "      <td>[55-59]</td>\n",
       "      <td>2362.0</td>\n",
       "      <td>100</td>\n",
       "      <td>NaN</td>\n",
       "      <td>408.882903</td>\n",
       "    </tr>\n",
       "    <tr>\n",
       "      <th>305312</th>\n",
       "      <td>EU</td>\n",
       "      <td>Europe</td>\n",
       "      <td>SWE</td>\n",
       "      <td>Sweden</td>\n",
       "      <td>2015</td>\n",
       "      <td>All</td>\n",
       "      <td>Age60_64</td>\n",
       "      <td>[60-64]</td>\n",
       "      <td>3733.0</td>\n",
       "      <td>100</td>\n",
       "      <td>NaN</td>\n",
       "      <td>658.460458</td>\n",
       "    </tr>\n",
       "    <tr>\n",
       "      <th>305313</th>\n",
       "      <td>EU</td>\n",
       "      <td>Europe</td>\n",
       "      <td>SWE</td>\n",
       "      <td>Sweden</td>\n",
       "      <td>2015</td>\n",
       "      <td>All</td>\n",
       "      <td>Age65_69</td>\n",
       "      <td>[65-69]</td>\n",
       "      <td>6494.0</td>\n",
       "      <td>100</td>\n",
       "      <td>NaN</td>\n",
       "      <td>1080.088549</td>\n",
       "    </tr>\n",
       "    <tr>\n",
       "      <th>305314</th>\n",
       "      <td>EU</td>\n",
       "      <td>Europe</td>\n",
       "      <td>SWE</td>\n",
       "      <td>Sweden</td>\n",
       "      <td>2015</td>\n",
       "      <td>All</td>\n",
       "      <td>Age70_74</td>\n",
       "      <td>[70-74]</td>\n",
       "      <td>8765.0</td>\n",
       "      <td>100</td>\n",
       "      <td>NaN</td>\n",
       "      <td>1888.831543</td>\n",
       "    </tr>\n",
       "    <tr>\n",
       "      <th>305315</th>\n",
       "      <td>EU</td>\n",
       "      <td>Europe</td>\n",
       "      <td>SWE</td>\n",
       "      <td>Sweden</td>\n",
       "      <td>2015</td>\n",
       "      <td>All</td>\n",
       "      <td>Age75_79</td>\n",
       "      <td>[75-79]</td>\n",
       "      <td>10494.0</td>\n",
       "      <td>100</td>\n",
       "      <td>NaN</td>\n",
       "      <td>3192.649665</td>\n",
       "    </tr>\n",
       "    <tr>\n",
       "      <th>305316</th>\n",
       "      <td>EU</td>\n",
       "      <td>Europe</td>\n",
       "      <td>SWE</td>\n",
       "      <td>Sweden</td>\n",
       "      <td>2015</td>\n",
       "      <td>All</td>\n",
       "      <td>Age80_84</td>\n",
       "      <td>[80-84]</td>\n",
       "      <td>14193.0</td>\n",
       "      <td>100</td>\n",
       "      <td>NaN</td>\n",
       "      <td>5845.407445</td>\n",
       "    </tr>\n",
       "    <tr>\n",
       "      <th>305317</th>\n",
       "      <td>EU</td>\n",
       "      <td>Europe</td>\n",
       "      <td>SWE</td>\n",
       "      <td>Sweden</td>\n",
       "      <td>2015</td>\n",
       "      <td>All</td>\n",
       "      <td>Age85_over</td>\n",
       "      <td>[85+]</td>\n",
       "      <td>40051.0</td>\n",
       "      <td>100</td>\n",
       "      <td>NaN</td>\n",
       "      <td>15659.817053</td>\n",
       "    </tr>\n",
       "    <tr>\n",
       "      <th>305318</th>\n",
       "      <td>EU</td>\n",
       "      <td>Europe</td>\n",
       "      <td>SWE</td>\n",
       "      <td>Sweden</td>\n",
       "      <td>2015</td>\n",
       "      <td>All</td>\n",
       "      <td>Age_unknown</td>\n",
       "      <td>[Unknown]</td>\n",
       "      <td>0.0</td>\n",
       "      <td>100</td>\n",
       "      <td>NaN</td>\n",
       "      <td>NaN</td>\n",
       "    </tr>\n",
       "  </tbody>\n",
       "</table>\n",
       "</div>"
      ],
      "text/plain": [
       "       Region Code Region Name Country Code Country Name  Year  Sex  \\\n",
       "305298          EU      Europe          SWE       Sweden  2015  All   \n",
       "305299          EU      Europe          SWE       Sweden  2015  All   \n",
       "305300          EU      Europe          SWE       Sweden  2015  All   \n",
       "305301          EU      Europe          SWE       Sweden  2015  All   \n",
       "305302          EU      Europe          SWE       Sweden  2015  All   \n",
       "305303          EU      Europe          SWE       Sweden  2015  All   \n",
       "305304          EU      Europe          SWE       Sweden  2015  All   \n",
       "305305          EU      Europe          SWE       Sweden  2015  All   \n",
       "305306          EU      Europe          SWE       Sweden  2015  All   \n",
       "305307          EU      Europe          SWE       Sweden  2015  All   \n",
       "305308          EU      Europe          SWE       Sweden  2015  All   \n",
       "305309          EU      Europe          SWE       Sweden  2015  All   \n",
       "305310          EU      Europe          SWE       Sweden  2015  All   \n",
       "305311          EU      Europe          SWE       Sweden  2015  All   \n",
       "305312          EU      Europe          SWE       Sweden  2015  All   \n",
       "305313          EU      Europe          SWE       Sweden  2015  All   \n",
       "305314          EU      Europe          SWE       Sweden  2015  All   \n",
       "305315          EU      Europe          SWE       Sweden  2015  All   \n",
       "305316          EU      Europe          SWE       Sweden  2015  All   \n",
       "305317          EU      Europe          SWE       Sweden  2015  All   \n",
       "305318          EU      Europe          SWE       Sweden  2015  All   \n",
       "\n",
       "       Age group code  Age Group   Number  \\\n",
       "305298        Age_all      [All]  91002.0   \n",
       "305299          Age00        [0]    282.0   \n",
       "305300       Age01_04      [1-4]     59.0   \n",
       "305301       Age05_09      [5-9]     38.0   \n",
       "305302       Age10_14    [10-14]     57.0   \n",
       "305303       Age15_19    [15-19]    123.0   \n",
       "305304       Age20_24    [20-24]    307.0   \n",
       "305305       Age25_29    [25-29]    370.0   \n",
       "305306       Age30_34    [30-34]    340.0   \n",
       "305307       Age35_39    [35-39]    367.0   \n",
       "305308       Age40_44    [40-44]    555.0   \n",
       "305309       Age45_49    [45-49]    911.0   \n",
       "305310       Age50_54    [50-54]   1501.0   \n",
       "305311       Age55_59    [55-59]   2362.0   \n",
       "305312       Age60_64    [60-64]   3733.0   \n",
       "305313       Age65_69    [65-69]   6494.0   \n",
       "305314       Age70_74    [70-74]   8765.0   \n",
       "305315       Age75_79    [75-79]  10494.0   \n",
       "305316       Age80_84    [80-84]  14193.0   \n",
       "305317     Age85_over      [85+]  40051.0   \n",
       "305318    Age_unknown  [Unknown]      0.0   \n",
       "\n",
       "        Percentage of cause-specific deaths out of total deaths  \\\n",
       "305298                                                100         \n",
       "305299                                                100         \n",
       "305300                                                100         \n",
       "305301                                                100         \n",
       "305302                                                100         \n",
       "305303                                                100         \n",
       "305304                                                100         \n",
       "305305                                                100         \n",
       "305306                                                100         \n",
       "305307                                                100         \n",
       "305308                                                100         \n",
       "305309                                                100         \n",
       "305310                                                100         \n",
       "305311                                                100         \n",
       "305312                                                100         \n",
       "305313                                                100         \n",
       "305314                                                100         \n",
       "305315                                                100         \n",
       "305316                                                100         \n",
       "305317                                                100         \n",
       "305318                                                100         \n",
       "\n",
       "        Age-standardized death rate per 100 000 standard population  \\\n",
       "305298                                         369.747821             \n",
       "305299                                                NaN             \n",
       "305300                                                NaN             \n",
       "305301                                                NaN             \n",
       "305302                                                NaN             \n",
       "305303                                                NaN             \n",
       "305304                                                NaN             \n",
       "305305                                                NaN             \n",
       "305306                                                NaN             \n",
       "305307                                                NaN             \n",
       "305308                                                NaN             \n",
       "305309                                                NaN             \n",
       "305310                                                NaN             \n",
       "305311                                                NaN             \n",
       "305312                                                NaN             \n",
       "305313                                                NaN             \n",
       "305314                                                NaN             \n",
       "305315                                                NaN             \n",
       "305316                                                NaN             \n",
       "305317                                                NaN             \n",
       "305318                                                NaN             \n",
       "\n",
       "        Death rate per 100 000 population  \n",
       "305298                         938.541381  \n",
       "305299                         245.336860  \n",
       "305300                          12.643471  \n",
       "305301                           6.728260  \n",
       "305302                          11.010301  \n",
       "305303                          22.972126  \n",
       "305304                          45.702580  \n",
       "305305                          57.497611  \n",
       "305306                          56.227762  \n",
       "305307                          60.497165  \n",
       "305308                          85.959020  \n",
       "305309                         134.775974  \n",
       "305310                         245.538471  \n",
       "305311                         408.882903  \n",
       "305312                         658.460458  \n",
       "305313                        1080.088549  \n",
       "305314                        1888.831543  \n",
       "305315                        3192.649665  \n",
       "305316                        5845.407445  \n",
       "305317                       15659.817053  \n",
       "305318                                NaN  "
      ]
     },
     "execution_count": 26,
     "metadata": {},
     "output_type": "execute_result"
    }
   ],
   "source": [
    "df_example_2 = df[(df[\"Sex\"] == \"All\") & \\\n",
    "               (df[\"Year\"] == 2015) & \\\n",
    "               (df[\"Country Name\"] == \"Sweden\") ]\n",
    "df_example_2"
   ]
  },
  {
   "cell_type": "code",
   "execution_count": 15,
   "id": "16fea92a-e67b-4a01-8c48-9968b0182caa",
   "metadata": {
    "tags": []
   },
   "outputs": [
    {
     "data": {
      "text/html": [
       "<div>\n",
       "<style scoped>\n",
       "    .dataframe tbody tr th:only-of-type {\n",
       "        vertical-align: middle;\n",
       "    }\n",
       "\n",
       "    .dataframe tbody tr th {\n",
       "        vertical-align: top;\n",
       "    }\n",
       "\n",
       "    .dataframe thead th {\n",
       "        text-align: right;\n",
       "    }\n",
       "</style>\n",
       "<table border=\"1\" class=\"dataframe\">\n",
       "  <thead>\n",
       "    <tr style=\"text-align: right;\">\n",
       "      <th></th>\n",
       "      <th>Region Code</th>\n",
       "      <th>Region Name</th>\n",
       "      <th>Country Code</th>\n",
       "      <th>Country Name</th>\n",
       "      <th>Year</th>\n",
       "      <th>Sex</th>\n",
       "      <th>Age group code</th>\n",
       "      <th>Age Group</th>\n",
       "      <th>Number</th>\n",
       "      <th>Percentage of cause-specific deaths out of total deaths</th>\n",
       "      <th>Age-standardized death rate per 100 000 standard population</th>\n",
       "      <th>Death rate per 100 000 population</th>\n",
       "    </tr>\n",
       "  </thead>\n",
       "  <tbody>\n",
       "  </tbody>\n",
       "</table>\n",
       "</div>"
      ],
      "text/plain": [
       "Empty DataFrame\n",
       "Columns: [Region Code, Region Name, Country Code, Country Name, Year, Sex, Age group code, Age Group, Number, Percentage of cause-specific deaths out of total deaths, Age-standardized death rate per 100 000 standard population, Death rate per 100 000 population]\n",
       "Index: []"
      ]
     },
     "execution_count": 15,
     "metadata": {},
     "output_type": "execute_result"
    }
   ],
   "source": [
    "It is possible then to see that \"All\" have all aggregates, but the data has the individual information. "
   ]
  },
  {
   "cell_type": "code",
   "execution_count": 9,
   "id": "3aeff10d-8235-4b32-9495-7363129896cd",
   "metadata": {
    "tags": []
   },
   "outputs": [
    {
     "data": {
      "text/html": [
       "<div>\n",
       "<style scoped>\n",
       "    .dataframe tbody tr th:only-of-type {\n",
       "        vertical-align: middle;\n",
       "    }\n",
       "\n",
       "    .dataframe tbody tr th {\n",
       "        vertical-align: top;\n",
       "    }\n",
       "\n",
       "    .dataframe thead th {\n",
       "        text-align: right;\n",
       "    }\n",
       "</style>\n",
       "<table border=\"1\" class=\"dataframe\">\n",
       "  <thead>\n",
       "    <tr style=\"text-align: right;\">\n",
       "      <th></th>\n",
       "      <th>Region Code</th>\n",
       "      <th>Region Name</th>\n",
       "      <th>Country Code</th>\n",
       "      <th>Country Name</th>\n",
       "      <th>Year</th>\n",
       "      <th>Sex</th>\n",
       "      <th>Age group code</th>\n",
       "      <th>Age Group</th>\n",
       "      <th>Number</th>\n",
       "      <th>Percentage of cause-specific deaths out of total deaths</th>\n",
       "      <th>Age-standardized death rate per 100 000 standard population</th>\n",
       "      <th>Death rate per 100 000 population</th>\n",
       "    </tr>\n",
       "  </thead>\n",
       "  <tbody>\n",
       "    <tr>\n",
       "      <th>233457</th>\n",
       "      <td>EU</td>\n",
       "      <td>Europe</td>\n",
       "      <td>SWE</td>\n",
       "      <td>Sweden</td>\n",
       "      <td>1951</td>\n",
       "      <td>All</td>\n",
       "      <td>Age_all</td>\n",
       "      <td>[All]</td>\n",
       "      <td>69799.0</td>\n",
       "      <td>100</td>\n",
       "      <td>878.907709</td>\n",
       "      <td>987.214121</td>\n",
       "    </tr>\n",
       "    <tr>\n",
       "      <th>233458</th>\n",
       "      <td>EU</td>\n",
       "      <td>Europe</td>\n",
       "      <td>SWE</td>\n",
       "      <td>Sweden</td>\n",
       "      <td>1951</td>\n",
       "      <td>All</td>\n",
       "      <td>Age00</td>\n",
       "      <td>[0]</td>\n",
       "      <td>2378.0</td>\n",
       "      <td>100</td>\n",
       "      <td>NaN</td>\n",
       "      <td>2152.036199</td>\n",
       "    </tr>\n",
       "    <tr>\n",
       "      <th>233459</th>\n",
       "      <td>EU</td>\n",
       "      <td>Europe</td>\n",
       "      <td>SWE</td>\n",
       "      <td>Sweden</td>\n",
       "      <td>1951</td>\n",
       "      <td>All</td>\n",
       "      <td>Age01_04</td>\n",
       "      <td>[1-4]</td>\n",
       "      <td>600.0</td>\n",
       "      <td>100</td>\n",
       "      <td>NaN</td>\n",
       "      <td>122.649223</td>\n",
       "    </tr>\n",
       "    <tr>\n",
       "      <th>233460</th>\n",
       "      <td>EU</td>\n",
       "      <td>Europe</td>\n",
       "      <td>SWE</td>\n",
       "      <td>Sweden</td>\n",
       "      <td>1951</td>\n",
       "      <td>All</td>\n",
       "      <td>Age05_09</td>\n",
       "      <td>[5-9]</td>\n",
       "      <td>363.0</td>\n",
       "      <td>100</td>\n",
       "      <td>NaN</td>\n",
       "      <td>59.861478</td>\n",
       "    </tr>\n",
       "    <tr>\n",
       "      <th>233461</th>\n",
       "      <td>EU</td>\n",
       "      <td>Europe</td>\n",
       "      <td>SWE</td>\n",
       "      <td>Sweden</td>\n",
       "      <td>1951</td>\n",
       "      <td>All</td>\n",
       "      <td>Age10_14</td>\n",
       "      <td>[10-14]</td>\n",
       "      <td>210.0</td>\n",
       "      <td>100</td>\n",
       "      <td>NaN</td>\n",
       "      <td>45.971979</td>\n",
       "    </tr>\n",
       "    <tr>\n",
       "      <th>...</th>\n",
       "      <td>...</td>\n",
       "      <td>...</td>\n",
       "      <td>...</td>\n",
       "      <td>...</td>\n",
       "      <td>...</td>\n",
       "      <td>...</td>\n",
       "      <td>...</td>\n",
       "      <td>...</td>\n",
       "      <td>...</td>\n",
       "      <td>...</td>\n",
       "      <td>...</td>\n",
       "      <td>...</td>\n",
       "    </tr>\n",
       "    <tr>\n",
       "      <th>313357</th>\n",
       "      <td>EU</td>\n",
       "      <td>Europe</td>\n",
       "      <td>SWE</td>\n",
       "      <td>Sweden</td>\n",
       "      <td>2019</td>\n",
       "      <td>Unknown</td>\n",
       "      <td>Age70_74</td>\n",
       "      <td>[70-74]</td>\n",
       "      <td>12.0</td>\n",
       "      <td>100</td>\n",
       "      <td>NaN</td>\n",
       "      <td>NaN</td>\n",
       "    </tr>\n",
       "    <tr>\n",
       "      <th>313358</th>\n",
       "      <td>EU</td>\n",
       "      <td>Europe</td>\n",
       "      <td>SWE</td>\n",
       "      <td>Sweden</td>\n",
       "      <td>2019</td>\n",
       "      <td>Unknown</td>\n",
       "      <td>Age75_79</td>\n",
       "      <td>[75-79]</td>\n",
       "      <td>7.0</td>\n",
       "      <td>100</td>\n",
       "      <td>NaN</td>\n",
       "      <td>NaN</td>\n",
       "    </tr>\n",
       "    <tr>\n",
       "      <th>313359</th>\n",
       "      <td>EU</td>\n",
       "      <td>Europe</td>\n",
       "      <td>SWE</td>\n",
       "      <td>Sweden</td>\n",
       "      <td>2019</td>\n",
       "      <td>Unknown</td>\n",
       "      <td>Age80_84</td>\n",
       "      <td>[80-84]</td>\n",
       "      <td>3.0</td>\n",
       "      <td>100</td>\n",
       "      <td>NaN</td>\n",
       "      <td>NaN</td>\n",
       "    </tr>\n",
       "    <tr>\n",
       "      <th>313360</th>\n",
       "      <td>EU</td>\n",
       "      <td>Europe</td>\n",
       "      <td>SWE</td>\n",
       "      <td>Sweden</td>\n",
       "      <td>2019</td>\n",
       "      <td>Unknown</td>\n",
       "      <td>Age85_over</td>\n",
       "      <td>[85+]</td>\n",
       "      <td>10.0</td>\n",
       "      <td>100</td>\n",
       "      <td>NaN</td>\n",
       "      <td>NaN</td>\n",
       "    </tr>\n",
       "    <tr>\n",
       "      <th>313361</th>\n",
       "      <td>EU</td>\n",
       "      <td>Europe</td>\n",
       "      <td>SWE</td>\n",
       "      <td>Sweden</td>\n",
       "      <td>2019</td>\n",
       "      <td>Unknown</td>\n",
       "      <td>Age_unknown</td>\n",
       "      <td>[Unknown]</td>\n",
       "      <td>0.0</td>\n",
       "      <td>100</td>\n",
       "      <td>NaN</td>\n",
       "      <td>NaN</td>\n",
       "    </tr>\n",
       "  </tbody>\n",
       "</table>\n",
       "<p>4578 rows × 12 columns</p>\n",
       "</div>"
      ],
      "text/plain": [
       "       Region Code Region Name Country Code Country Name  Year      Sex  \\\n",
       "233457          EU      Europe          SWE       Sweden  1951      All   \n",
       "233458          EU      Europe          SWE       Sweden  1951      All   \n",
       "233459          EU      Europe          SWE       Sweden  1951      All   \n",
       "233460          EU      Europe          SWE       Sweden  1951      All   \n",
       "233461          EU      Europe          SWE       Sweden  1951      All   \n",
       "...            ...         ...          ...          ...   ...      ...   \n",
       "313357          EU      Europe          SWE       Sweden  2019  Unknown   \n",
       "313358          EU      Europe          SWE       Sweden  2019  Unknown   \n",
       "313359          EU      Europe          SWE       Sweden  2019  Unknown   \n",
       "313360          EU      Europe          SWE       Sweden  2019  Unknown   \n",
       "313361          EU      Europe          SWE       Sweden  2019  Unknown   \n",
       "\n",
       "       Age group code  Age Group   Number  \\\n",
       "233457        Age_all      [All]  69799.0   \n",
       "233458          Age00        [0]   2378.0   \n",
       "233459       Age01_04      [1-4]    600.0   \n",
       "233460       Age05_09      [5-9]    363.0   \n",
       "233461       Age10_14    [10-14]    210.0   \n",
       "...               ...        ...      ...   \n",
       "313357       Age70_74    [70-74]     12.0   \n",
       "313358       Age75_79    [75-79]      7.0   \n",
       "313359       Age80_84    [80-84]      3.0   \n",
       "313360     Age85_over      [85+]     10.0   \n",
       "313361    Age_unknown  [Unknown]      0.0   \n",
       "\n",
       "        Percentage of cause-specific deaths out of total deaths  \\\n",
       "233457                                                100         \n",
       "233458                                                100         \n",
       "233459                                                100         \n",
       "233460                                                100         \n",
       "233461                                                100         \n",
       "...                                                   ...         \n",
       "313357                                                100         \n",
       "313358                                                100         \n",
       "313359                                                100         \n",
       "313360                                                100         \n",
       "313361                                                100         \n",
       "\n",
       "        Age-standardized death rate per 100 000 standard population  \\\n",
       "233457                                         878.907709             \n",
       "233458                                                NaN             \n",
       "233459                                                NaN             \n",
       "233460                                                NaN             \n",
       "233461                                                NaN             \n",
       "...                                                   ...             \n",
       "313357                                                NaN             \n",
       "313358                                                NaN             \n",
       "313359                                                NaN             \n",
       "313360                                                NaN             \n",
       "313361                                                NaN             \n",
       "\n",
       "        Death rate per 100 000 population  \n",
       "233457                         987.214121  \n",
       "233458                        2152.036199  \n",
       "233459                         122.649223  \n",
       "233460                          59.861478  \n",
       "233461                          45.971979  \n",
       "...                                   ...  \n",
       "313357                                NaN  \n",
       "313358                                NaN  \n",
       "313359                                NaN  \n",
       "313360                                NaN  \n",
       "313361                                NaN  \n",
       "\n",
       "[4578 rows x 12 columns]"
      ]
     },
     "execution_count": 9,
     "metadata": {},
     "output_type": "execute_result"
    }
   ],
   "source": [
    "df[df[\"Country Name\"] == \"Sweden\"]"
   ]
  },
  {
   "cell_type": "markdown",
   "id": "aebc70a9-c668-4912-b511-67b60fb8bddb",
   "metadata": {},
   "source": [
    "# Totals per country"
   ]
  },
  {
   "cell_type": "markdown",
   "id": "8f1fb770-38e4-44cf-bb2a-e295d7db39cf",
   "metadata": {
    "tags": []
   },
   "source": [
    "Let us check Sweden, all years from 2000, aggregated data. "
   ]
  },
  {
   "cell_type": "code",
   "execution_count": 50,
   "id": "1919a5aa-8849-481b-9d04-64f8e38f997d",
   "metadata": {
    "tags": []
   },
   "outputs": [],
   "source": [
    "df_sweden = df[(df[\"Sex\"] == \"All\") & \\\n",
    "              (df[\"Age Group\"] == \"[All]\") & \\\n",
    "              (df[\"Country Name\"] == \"Sweden\") & \\\n",
    "              (df[\"Year\"] >= 1980)].sort_values(\"Year\")\n"
   ]
  },
  {
   "cell_type": "code",
   "execution_count": 51,
   "id": "ddaa3e17-8d1c-4855-bad7-b0605f41f52e",
   "metadata": {
    "tags": []
   },
   "outputs": [
    {
     "data": {
      "application/vnd.plotly.v1+json": {
       "config": {
        "plotlyServerURL": "https://plot.ly"
       },
       "data": [
        {
         "mode": "lines+markers",
         "name": "Total",
         "type": "scatter",
         "x": [
          1980,
          1981,
          1982,
          1983,
          1984,
          1985,
          1986,
          1987,
          1988,
          1989,
          1990,
          1991,
          1992,
          1993,
          1994,
          1995,
          1996,
          1997,
          1998,
          1999,
          2000,
          2001,
          2002,
          2003,
          2004,
          2005,
          2006,
          2007,
          2008,
          2009,
          2010,
          2011,
          2012,
          2013,
          2014,
          2015,
          2016,
          2017,
          2018,
          2019,
          2020,
          2021,
          2022
         ],
         "xaxis": "x",
         "y": [
          91795,
          92030,
          90666,
          90783,
          90467,
          94013,
          93268,
          93315,
          96756,
          92094,
          95142,
          94936,
          94226,
          96659,
          91450,
          93641,
          93815,
          93349,
          93628,
          95076,
          93516,
          93808,
          95071,
          93003,
          91079,
          91775,
          91271,
          91820,
          91542,
          90177,
          90519,
          89941,
          91990,
          90505,
          89062,
          91002,
          91071,
          92075,
          92250,
          89276,
          98652,
          92079,
          94823
         ],
         "yaxis": "y"
        },
        {
         "mode": "lines+markers",
         "name": "Per 100k",
         "type": "scatter",
         "x": [
          1980,
          1981,
          1982,
          1983,
          1984,
          1985,
          1986,
          1987,
          1988,
          1989,
          1990,
          1991,
          1992,
          1993,
          1994,
          1995,
          1996,
          1997,
          1998,
          1999,
          2000,
          2001,
          2002,
          2003,
          2004,
          2005,
          2006,
          2007,
          2008,
          2009,
          2010,
          2011,
          2012,
          2013,
          2014,
          2015,
          2016,
          2017,
          2018,
          2019,
          2020,
          2021,
          2022
         ],
         "xaxis": "x2",
         "y": [
          1104.5665122,
          1106.0633375,
          1089.0418363,
          1089.9627806,
          1085.17861,
          1125.8502587,
          1114.3396497,
          1111.1838815,
          1146.8872979,
          1084.3518191,
          1111.6277983,
          1102.1512242,
          1087.0432967,
          1108.6527654,
          1041.4768586,
          1060.8474,
          1061.1356181,
          1055.2440596,
          1057.8000723,
          1073.3286589,
          1054.0227815,
          1054.481349,
          1065.2263013,
          1038.1851145,
          1012.7168072,
          1016.3826148,
          1005.1313779,
          1003.7065653,
          992.90232436,
          969.80001645,
          965.21415899,
          951.83588305,
          966.34495437,
          942.72324784,
          918.53335608,
          938.54138095,
          917.76902042,
          915.46797863,
          906.61488331,
          868.53761502,
          952.84254261,
          884.03106028,
          904.20075788
         ],
         "yaxis": "y2"
        }
       ],
       "layout": {
        "annotations": [
         {
          "font": {
           "size": 16
          },
          "showarrow": false,
          "text": "Deaths - Total",
          "x": 0.225,
          "xanchor": "center",
          "xref": "paper",
          "y": 1,
          "yanchor": "bottom",
          "yref": "paper"
         },
         {
          "font": {
           "size": 16
          },
          "showarrow": false,
          "text": "Deaths per 100k",
          "x": 0.775,
          "xanchor": "center",
          "xref": "paper",
          "y": 1,
          "yanchor": "bottom",
          "yref": "paper"
         }
        ],
        "autosize": true,
        "template": {
         "data": {
          "bar": [
           {
            "error_x": {
             "color": "#2a3f5f"
            },
            "error_y": {
             "color": "#2a3f5f"
            },
            "marker": {
             "line": {
              "color": "#E5ECF6",
              "width": 0.5
             },
             "pattern": {
              "fillmode": "overlay",
              "size": 10,
              "solidity": 0.2
             }
            },
            "type": "bar"
           }
          ],
          "barpolar": [
           {
            "marker": {
             "line": {
              "color": "#E5ECF6",
              "width": 0.5
             },
             "pattern": {
              "fillmode": "overlay",
              "size": 10,
              "solidity": 0.2
             }
            },
            "type": "barpolar"
           }
          ],
          "carpet": [
           {
            "aaxis": {
             "endlinecolor": "#2a3f5f",
             "gridcolor": "white",
             "linecolor": "white",
             "minorgridcolor": "white",
             "startlinecolor": "#2a3f5f"
            },
            "baxis": {
             "endlinecolor": "#2a3f5f",
             "gridcolor": "white",
             "linecolor": "white",
             "minorgridcolor": "white",
             "startlinecolor": "#2a3f5f"
            },
            "type": "carpet"
           }
          ],
          "choropleth": [
           {
            "colorbar": {
             "outlinewidth": 0,
             "ticks": ""
            },
            "type": "choropleth"
           }
          ],
          "contour": [
           {
            "colorbar": {
             "outlinewidth": 0,
             "ticks": ""
            },
            "colorscale": [
             [
              0,
              "#0d0887"
             ],
             [
              0.1111111111111111,
              "#46039f"
             ],
             [
              0.2222222222222222,
              "#7201a8"
             ],
             [
              0.3333333333333333,
              "#9c179e"
             ],
             [
              0.4444444444444444,
              "#bd3786"
             ],
             [
              0.5555555555555556,
              "#d8576b"
             ],
             [
              0.6666666666666666,
              "#ed7953"
             ],
             [
              0.7777777777777778,
              "#fb9f3a"
             ],
             [
              0.8888888888888888,
              "#fdca26"
             ],
             [
              1,
              "#f0f921"
             ]
            ],
            "type": "contour"
           }
          ],
          "contourcarpet": [
           {
            "colorbar": {
             "outlinewidth": 0,
             "ticks": ""
            },
            "type": "contourcarpet"
           }
          ],
          "heatmap": [
           {
            "colorbar": {
             "outlinewidth": 0,
             "ticks": ""
            },
            "colorscale": [
             [
              0,
              "#0d0887"
             ],
             [
              0.1111111111111111,
              "#46039f"
             ],
             [
              0.2222222222222222,
              "#7201a8"
             ],
             [
              0.3333333333333333,
              "#9c179e"
             ],
             [
              0.4444444444444444,
              "#bd3786"
             ],
             [
              0.5555555555555556,
              "#d8576b"
             ],
             [
              0.6666666666666666,
              "#ed7953"
             ],
             [
              0.7777777777777778,
              "#fb9f3a"
             ],
             [
              0.8888888888888888,
              "#fdca26"
             ],
             [
              1,
              "#f0f921"
             ]
            ],
            "type": "heatmap"
           }
          ],
          "heatmapgl": [
           {
            "colorbar": {
             "outlinewidth": 0,
             "ticks": ""
            },
            "colorscale": [
             [
              0,
              "#0d0887"
             ],
             [
              0.1111111111111111,
              "#46039f"
             ],
             [
              0.2222222222222222,
              "#7201a8"
             ],
             [
              0.3333333333333333,
              "#9c179e"
             ],
             [
              0.4444444444444444,
              "#bd3786"
             ],
             [
              0.5555555555555556,
              "#d8576b"
             ],
             [
              0.6666666666666666,
              "#ed7953"
             ],
             [
              0.7777777777777778,
              "#fb9f3a"
             ],
             [
              0.8888888888888888,
              "#fdca26"
             ],
             [
              1,
              "#f0f921"
             ]
            ],
            "type": "heatmapgl"
           }
          ],
          "histogram": [
           {
            "marker": {
             "pattern": {
              "fillmode": "overlay",
              "size": 10,
              "solidity": 0.2
             }
            },
            "type": "histogram"
           }
          ],
          "histogram2d": [
           {
            "colorbar": {
             "outlinewidth": 0,
             "ticks": ""
            },
            "colorscale": [
             [
              0,
              "#0d0887"
             ],
             [
              0.1111111111111111,
              "#46039f"
             ],
             [
              0.2222222222222222,
              "#7201a8"
             ],
             [
              0.3333333333333333,
              "#9c179e"
             ],
             [
              0.4444444444444444,
              "#bd3786"
             ],
             [
              0.5555555555555556,
              "#d8576b"
             ],
             [
              0.6666666666666666,
              "#ed7953"
             ],
             [
              0.7777777777777778,
              "#fb9f3a"
             ],
             [
              0.8888888888888888,
              "#fdca26"
             ],
             [
              1,
              "#f0f921"
             ]
            ],
            "type": "histogram2d"
           }
          ],
          "histogram2dcontour": [
           {
            "colorbar": {
             "outlinewidth": 0,
             "ticks": ""
            },
            "colorscale": [
             [
              0,
              "#0d0887"
             ],
             [
              0.1111111111111111,
              "#46039f"
             ],
             [
              0.2222222222222222,
              "#7201a8"
             ],
             [
              0.3333333333333333,
              "#9c179e"
             ],
             [
              0.4444444444444444,
              "#bd3786"
             ],
             [
              0.5555555555555556,
              "#d8576b"
             ],
             [
              0.6666666666666666,
              "#ed7953"
             ],
             [
              0.7777777777777778,
              "#fb9f3a"
             ],
             [
              0.8888888888888888,
              "#fdca26"
             ],
             [
              1,
              "#f0f921"
             ]
            ],
            "type": "histogram2dcontour"
           }
          ],
          "mesh3d": [
           {
            "colorbar": {
             "outlinewidth": 0,
             "ticks": ""
            },
            "type": "mesh3d"
           }
          ],
          "parcoords": [
           {
            "line": {
             "colorbar": {
              "outlinewidth": 0,
              "ticks": ""
             }
            },
            "type": "parcoords"
           }
          ],
          "pie": [
           {
            "automargin": true,
            "type": "pie"
           }
          ],
          "scatter": [
           {
            "fillpattern": {
             "fillmode": "overlay",
             "size": 10,
             "solidity": 0.2
            },
            "type": "scatter"
           }
          ],
          "scatter3d": [
           {
            "line": {
             "colorbar": {
              "outlinewidth": 0,
              "ticks": ""
             }
            },
            "marker": {
             "colorbar": {
              "outlinewidth": 0,
              "ticks": ""
             }
            },
            "type": "scatter3d"
           }
          ],
          "scattercarpet": [
           {
            "marker": {
             "colorbar": {
              "outlinewidth": 0,
              "ticks": ""
             }
            },
            "type": "scattercarpet"
           }
          ],
          "scattergeo": [
           {
            "marker": {
             "colorbar": {
              "outlinewidth": 0,
              "ticks": ""
             }
            },
            "type": "scattergeo"
           }
          ],
          "scattergl": [
           {
            "marker": {
             "colorbar": {
              "outlinewidth": 0,
              "ticks": ""
             }
            },
            "type": "scattergl"
           }
          ],
          "scattermapbox": [
           {
            "marker": {
             "colorbar": {
              "outlinewidth": 0,
              "ticks": ""
             }
            },
            "type": "scattermapbox"
           }
          ],
          "scatterpolar": [
           {
            "marker": {
             "colorbar": {
              "outlinewidth": 0,
              "ticks": ""
             }
            },
            "type": "scatterpolar"
           }
          ],
          "scatterpolargl": [
           {
            "marker": {
             "colorbar": {
              "outlinewidth": 0,
              "ticks": ""
             }
            },
            "type": "scatterpolargl"
           }
          ],
          "scatterternary": [
           {
            "marker": {
             "colorbar": {
              "outlinewidth": 0,
              "ticks": ""
             }
            },
            "type": "scatterternary"
           }
          ],
          "surface": [
           {
            "colorbar": {
             "outlinewidth": 0,
             "ticks": ""
            },
            "colorscale": [
             [
              0,
              "#0d0887"
             ],
             [
              0.1111111111111111,
              "#46039f"
             ],
             [
              0.2222222222222222,
              "#7201a8"
             ],
             [
              0.3333333333333333,
              "#9c179e"
             ],
             [
              0.4444444444444444,
              "#bd3786"
             ],
             [
              0.5555555555555556,
              "#d8576b"
             ],
             [
              0.6666666666666666,
              "#ed7953"
             ],
             [
              0.7777777777777778,
              "#fb9f3a"
             ],
             [
              0.8888888888888888,
              "#fdca26"
             ],
             [
              1,
              "#f0f921"
             ]
            ],
            "type": "surface"
           }
          ],
          "table": [
           {
            "cells": {
             "fill": {
              "color": "#EBF0F8"
             },
             "line": {
              "color": "white"
             }
            },
            "header": {
             "fill": {
              "color": "#C8D4E3"
             },
             "line": {
              "color": "white"
             }
            },
            "type": "table"
           }
          ]
         },
         "layout": {
          "annotationdefaults": {
           "arrowcolor": "#2a3f5f",
           "arrowhead": 0,
           "arrowwidth": 1
          },
          "autotypenumbers": "strict",
          "coloraxis": {
           "colorbar": {
            "outlinewidth": 0,
            "ticks": ""
           }
          },
          "colorscale": {
           "diverging": [
            [
             0,
             "#8e0152"
            ],
            [
             0.1,
             "#c51b7d"
            ],
            [
             0.2,
             "#de77ae"
            ],
            [
             0.3,
             "#f1b6da"
            ],
            [
             0.4,
             "#fde0ef"
            ],
            [
             0.5,
             "#f7f7f7"
            ],
            [
             0.6,
             "#e6f5d0"
            ],
            [
             0.7,
             "#b8e186"
            ],
            [
             0.8,
             "#7fbc41"
            ],
            [
             0.9,
             "#4d9221"
            ],
            [
             1,
             "#276419"
            ]
           ],
           "sequential": [
            [
             0,
             "#0d0887"
            ],
            [
             0.1111111111111111,
             "#46039f"
            ],
            [
             0.2222222222222222,
             "#7201a8"
            ],
            [
             0.3333333333333333,
             "#9c179e"
            ],
            [
             0.4444444444444444,
             "#bd3786"
            ],
            [
             0.5555555555555556,
             "#d8576b"
            ],
            [
             0.6666666666666666,
             "#ed7953"
            ],
            [
             0.7777777777777778,
             "#fb9f3a"
            ],
            [
             0.8888888888888888,
             "#fdca26"
            ],
            [
             1,
             "#f0f921"
            ]
           ],
           "sequentialminus": [
            [
             0,
             "#0d0887"
            ],
            [
             0.1111111111111111,
             "#46039f"
            ],
            [
             0.2222222222222222,
             "#7201a8"
            ],
            [
             0.3333333333333333,
             "#9c179e"
            ],
            [
             0.4444444444444444,
             "#bd3786"
            ],
            [
             0.5555555555555556,
             "#d8576b"
            ],
            [
             0.6666666666666666,
             "#ed7953"
            ],
            [
             0.7777777777777778,
             "#fb9f3a"
            ],
            [
             0.8888888888888888,
             "#fdca26"
            ],
            [
             1,
             "#f0f921"
            ]
           ]
          },
          "colorway": [
           "#636efa",
           "#EF553B",
           "#00cc96",
           "#ab63fa",
           "#FFA15A",
           "#19d3f3",
           "#FF6692",
           "#B6E880",
           "#FF97FF",
           "#FECB52"
          ],
          "font": {
           "color": "#2a3f5f"
          },
          "geo": {
           "bgcolor": "white",
           "lakecolor": "white",
           "landcolor": "#E5ECF6",
           "showlakes": true,
           "showland": true,
           "subunitcolor": "white"
          },
          "hoverlabel": {
           "align": "left"
          },
          "hovermode": "closest",
          "mapbox": {
           "style": "light"
          },
          "paper_bgcolor": "white",
          "plot_bgcolor": "#E5ECF6",
          "polar": {
           "angularaxis": {
            "gridcolor": "white",
            "linecolor": "white",
            "ticks": ""
           },
           "bgcolor": "#E5ECF6",
           "radialaxis": {
            "gridcolor": "white",
            "linecolor": "white",
            "ticks": ""
           }
          },
          "scene": {
           "xaxis": {
            "backgroundcolor": "#E5ECF6",
            "gridcolor": "white",
            "gridwidth": 2,
            "linecolor": "white",
            "showbackground": true,
            "ticks": "",
            "zerolinecolor": "white"
           },
           "yaxis": {
            "backgroundcolor": "#E5ECF6",
            "gridcolor": "white",
            "gridwidth": 2,
            "linecolor": "white",
            "showbackground": true,
            "ticks": "",
            "zerolinecolor": "white"
           },
           "zaxis": {
            "backgroundcolor": "#E5ECF6",
            "gridcolor": "white",
            "gridwidth": 2,
            "linecolor": "white",
            "showbackground": true,
            "ticks": "",
            "zerolinecolor": "white"
           }
          },
          "shapedefaults": {
           "line": {
            "color": "#2a3f5f"
           }
          },
          "ternary": {
           "aaxis": {
            "gridcolor": "white",
            "linecolor": "white",
            "ticks": ""
           },
           "baxis": {
            "gridcolor": "white",
            "linecolor": "white",
            "ticks": ""
           },
           "bgcolor": "#E5ECF6",
           "caxis": {
            "gridcolor": "white",
            "linecolor": "white",
            "ticks": ""
           }
          },
          "title": {
           "x": 0.05
          },
          "xaxis": {
           "automargin": true,
           "gridcolor": "white",
           "linecolor": "white",
           "ticks": "",
           "title": {
            "standoff": 15
           },
           "zerolinecolor": "white",
           "zerolinewidth": 2
          },
          "yaxis": {
           "automargin": true,
           "gridcolor": "white",
           "linecolor": "white",
           "ticks": "",
           "title": {
            "standoff": 15
           },
           "zerolinecolor": "white",
           "zerolinewidth": 2
          }
         }
        },
        "title": {
         "text": "Deaths Sweden"
        },
        "xaxis": {
         "anchor": "y",
         "autorange": true,
         "domain": [
          0,
          0.45
         ],
         "range": [
          1977.1214188904987,
          2024.8785811095013
         ],
         "type": "linear"
        },
        "xaxis2": {
         "anchor": "y2",
         "autorange": true,
         "domain": [
          0.55,
          1
         ],
         "range": [
          1977.1214188904987,
          2024.8785811095013
         ],
         "type": "linear"
        },
        "yaxis": {
         "anchor": "x",
         "autorange": true,
         "domain": [
          0,
          1
         ],
         "range": [
          88270.59223300971,
          99443.40776699029
         ],
         "type": "linear"
        },
        "yaxis2": {
         "anchor": "x2",
         "autorange": true,
         "domain": [
          0,
          1
         ],
         "range": [
          845.5670101221359,
          1169.8579027978642
         ],
         "type": "linear"
        }
       }
      },
      "image/png": "[encoded data removed]",
      "text/html": [
       "<div>                            <div id=\"1bf05ac6-ca54-4c3c-ad9f-484f207f9ed9\" class=\"plotly-graph-div\" style=\"height:525px; width:100%;\"></div>            <script type=\"text/javascript\">                require([\"plotly\"], function(Plotly) {                    window.PLOTLYENV=window.PLOTLYENV || {};                                    if (document.getElementById(\"1bf05ac6-ca54-4c3c-ad9f-484f207f9ed9\")) {                    Plotly.newPlot(                        \"1bf05ac6-ca54-4c3c-ad9f-484f207f9ed9\",                        [{\"mode\":\"lines+markers\",\"name\":\"Total\",\"x\":[1980,1981,1982,1983,1984,1985,1986,1987,1988,1989,1990,1991,1992,1993,1994,1995,1996,1997,1998,1999,2000,2001,2002,2003,2004,2005,2006,2007,2008,2009,2010,2011,2012,2013,2014,2015,2016,2017,2018,2019,2020,2021,2022],\"y\":[91795.0,92030.0,90666.0,90783.0,90467.0,94013.0,93268.0,93315.0,96756.0,92094.0,95142.0,94936.0,94226.0,96659.0,91450.0,93641.0,93815.0,93349.0,93628.0,95076.0,93516.0,93808.0,95071.0,93003.0,91079.0,91775.0,91271.0,91820.0,91542.0,90177.0,90519.0,89941.0,91990.0,90505.0,89062.0,91002.0,91071.0,92075.0,92250.0,89276.0,98652.0,92079.0,94823.0],\"type\":\"scatter\",\"xaxis\":\"x\",\"yaxis\":\"y\"},{\"mode\":\"lines+markers\",\"name\":\"Per 100k\",\"x\":[1980,1981,1982,1983,1984,1985,1986,1987,1988,1989,1990,1991,1992,1993,1994,1995,1996,1997,1998,1999,2000,2001,2002,2003,2004,2005,2006,2007,2008,2009,2010,2011,2012,2013,2014,2015,2016,2017,2018,2019,2020,2021,2022],\"y\":[1104.5665122,1106.0633375,1089.0418363,1089.9627806,1085.17861,1125.8502587,1114.3396497,1111.1838815,1146.8872979,1084.3518191,1111.6277983,1102.1512242,1087.0432967,1108.6527654,1041.4768586,1060.8474,1061.1356181,1055.2440596,1057.8000723,1073.3286589,1054.0227815,1054.481349,1065.2263013,1038.1851145,1012.7168072,1016.3826148,1005.1313779,1003.7065653,992.90232436,969.80001645,965.21415899,951.83588305,966.34495437,942.72324784,918.53335608,938.54138095,917.76902042,915.46797863,906.61488331,868.53761502,952.84254261,884.03106028,904.20075788],\"type\":\"scatter\",\"xaxis\":\"x2\",\"yaxis\":\"y2\"}],                        {\"template\":{\"data\":{\"histogram2dcontour\":[{\"type\":\"histogram2dcontour\",\"colorbar\":{\"outlinewidth\":0,\"ticks\":\"\"},\"colorscale\":[[0.0,\"#0d0887\"],[0.1111111111111111,\"#46039f\"],[0.2222222222222222,\"#7201a8\"],[0.3333333333333333,\"#9c179e\"],[0.4444444444444444,\"#bd3786\"],[0.5555555555555556,\"#d8576b\"],[0.6666666666666666,\"#ed7953\"],[0.7777777777777778,\"#fb9f3a\"],[0.8888888888888888,\"#fdca26\"],[1.0,\"#f0f921\"]]}],\"choropleth\":[{\"type\":\"choropleth\",\"colorbar\":{\"outlinewidth\":0,\"ticks\":\"\"}}],\"histogram2d\":[{\"type\":\"histogram2d\",\"colorbar\":{\"outlinewidth\":0,\"ticks\":\"\"},\"colorscale\":[[0.0,\"#0d0887\"],[0.1111111111111111,\"#46039f\"],[0.2222222222222222,\"#7201a8\"],[0.3333333333333333,\"#9c179e\"],[0.4444444444444444,\"#bd3786\"],[0.5555555555555556,\"#d8576b\"],[0.6666666666666666,\"#ed7953\"],[0.7777777777777778,\"#fb9f3a\"],[0.8888888888888888,\"#fdca26\"],[1.0,\"#f0f921\"]]}],\"heatmap\":[{\"type\":\"heatmap\",\"colorbar\":{\"outlinewidth\":0,\"ticks\":\"\"},\"colorscale\":[[0.0,\"#0d0887\"],[0.1111111111111111,\"#46039f\"],[0.2222222222222222,\"#7201a8\"],[0.3333333333333333,\"#9c179e\"],[0.4444444444444444,\"#bd3786\"],[0.5555555555555556,\"#d8576b\"],[0.6666666666666666,\"#ed7953\"],[0.7777777777777778,\"#fb9f3a\"],[0.8888888888888888,\"#fdca26\"],[1.0,\"#f0f921\"]]}],\"heatmapgl\":[{\"type\":\"heatmapgl\",\"colorbar\":{\"outlinewidth\":0,\"ticks\":\"\"},\"colorscale\":[[0.0,\"#0d0887\"],[0.1111111111111111,\"#46039f\"],[0.2222222222222222,\"#7201a8\"],[0.3333333333333333,\"#9c179e\"],[0.4444444444444444,\"#bd3786\"],[0.5555555555555556,\"#d8576b\"],[0.6666666666666666,\"#ed7953\"],[0.7777777777777778,\"#fb9f3a\"],[0.8888888888888888,\"#fdca26\"],[1.0,\"#f0f921\"]]}],\"contourcarpet\":[{\"type\":\"contourcarpet\",\"colorbar\":{\"outlinewidth\":0,\"ticks\":\"\"}}],\"contour\":[{\"type\":\"contour\",\"colorbar\":{\"outlinewidth\":0,\"ticks\":\"\"},\"colorscale\":[[0.0,\"#0d0887\"],[0.1111111111111111,\"#46039f\"],[0.2222222222222222,\"#7201a8\"],[0.3333333333333333,\"#9c179e\"],[0.4444444444444444,\"#bd3786\"],[0.5555555555555556,\"#d8576b\"],[0.6666666666666666,\"#ed7953\"],[0.7777777777777778,\"#fb9f3a\"],[0.8888888888888888,\"#fdca26\"],[1.0,\"#f0f921\"]]}],\"surface\":[{\"type\":\"surface\",\"colorbar\":{\"outlinewidth\":0,\"ticks\":\"\"},\"colorscale\":[[0.0,\"#0d0887\"],[0.1111111111111111,\"#46039f\"],[0.2222222222222222,\"#7201a8\"],[0.3333333333333333,\"#9c179e\"],[0.4444444444444444,\"#bd3786\"],[0.5555555555555556,\"#d8576b\"],[0.6666666666666666,\"#ed7953\"],[0.7777777777777778,\"#fb9f3a\"],[0.8888888888888888,\"#fdca26\"],[1.0,\"#f0f921\"]]}],\"mesh3d\":[{\"type\":\"mesh3d\",\"colorbar\":{\"outlinewidth\":0,\"ticks\":\"\"}}],\"scatter\":[{\"fillpattern\":{\"fillmode\":\"overlay\",\"size\":10,\"solidity\":0.2},\"type\":\"scatter\"}],\"parcoords\":[{\"type\":\"parcoords\",\"line\":{\"colorbar\":{\"outlinewidth\":0,\"ticks\":\"\"}}}],\"scatterpolargl\":[{\"type\":\"scatterpolargl\",\"marker\":{\"colorbar\":{\"outlinewidth\":0,\"ticks\":\"\"}}}],\"bar\":[{\"error_x\":{\"color\":\"#2a3f5f\"},\"error_y\":{\"color\":\"#2a3f5f\"},\"marker\":{\"line\":{\"color\":\"#E5ECF6\",\"width\":0.5},\"pattern\":{\"fillmode\":\"overlay\",\"size\":10,\"solidity\":0.2}},\"type\":\"bar\"}],\"scattergeo\":[{\"type\":\"scattergeo\",\"marker\":{\"colorbar\":{\"outlinewidth\":0,\"ticks\":\"\"}}}],\"scatterpolar\":[{\"type\":\"scatterpolar\",\"marker\":{\"colorbar\":{\"outlinewidth\":0,\"ticks\":\"\"}}}],\"histogram\":[{\"marker\":{\"pattern\":{\"fillmode\":\"overlay\",\"size\":10,\"solidity\":0.2}},\"type\":\"histogram\"}],\"scattergl\":[{\"type\":\"scattergl\",\"marker\":{\"colorbar\":{\"outlinewidth\":0,\"ticks\":\"\"}}}],\"scatter3d\":[{\"type\":\"scatter3d\",\"line\":{\"colorbar\":{\"outlinewidth\":0,\"ticks\":\"\"}},\"marker\":{\"colorbar\":{\"outlinewidth\":0,\"ticks\":\"\"}}}],\"scattermapbox\":[{\"type\":\"scattermapbox\",\"marker\":{\"colorbar\":{\"outlinewidth\":0,\"ticks\":\"\"}}}],\"scatterternary\":[{\"type\":\"scatterternary\",\"marker\":{\"colorbar\":{\"outlinewidth\":0,\"ticks\":\"\"}}}],\"scattercarpet\":[{\"type\":\"scattercarpet\",\"marker\":{\"colorbar\":{\"outlinewidth\":0,\"ticks\":\"\"}}}],\"carpet\":[{\"aaxis\":{\"endlinecolor\":\"#2a3f5f\",\"gridcolor\":\"white\",\"linecolor\":\"white\",\"minorgridcolor\":\"white\",\"startlinecolor\":\"#2a3f5f\"},\"baxis\":{\"endlinecolor\":\"#2a3f5f\",\"gridcolor\":\"white\",\"linecolor\":\"white\",\"minorgridcolor\":\"white\",\"startlinecolor\":\"#2a3f5f\"},\"type\":\"carpet\"}],\"table\":[{\"cells\":{\"fill\":{\"color\":\"#EBF0F8\"},\"line\":{\"color\":\"white\"}},\"header\":{\"fill\":{\"color\":\"#C8D4E3\"},\"line\":{\"color\":\"white\"}},\"type\":\"table\"}],\"barpolar\":[{\"marker\":{\"line\":{\"color\":\"#E5ECF6\",\"width\":0.5},\"pattern\":{\"fillmode\":\"overlay\",\"size\":10,\"solidity\":0.2}},\"type\":\"barpolar\"}],\"pie\":[{\"automargin\":true,\"type\":\"pie\"}]},\"layout\":{\"autotypenumbers\":\"strict\",\"colorway\":[\"#636efa\",\"#EF553B\",\"#00cc96\",\"#ab63fa\",\"#FFA15A\",\"#19d3f3\",\"#FF6692\",\"#B6E880\",\"#FF97FF\",\"#FECB52\"],\"font\":{\"color\":\"#2a3f5f\"},\"hovermode\":\"closest\",\"hoverlabel\":{\"align\":\"left\"},\"paper_bgcolor\":\"white\",\"plot_bgcolor\":\"#E5ECF6\",\"polar\":{\"bgcolor\":\"#E5ECF6\",\"angularaxis\":{\"gridcolor\":\"white\",\"linecolor\":\"white\",\"ticks\":\"\"},\"radialaxis\":{\"gridcolor\":\"white\",\"linecolor\":\"white\",\"ticks\":\"\"}},\"ternary\":{\"bgcolor\":\"#E5ECF6\",\"aaxis\":{\"gridcolor\":\"white\",\"linecolor\":\"white\",\"ticks\":\"\"},\"baxis\":{\"gridcolor\":\"white\",\"linecolor\":\"white\",\"ticks\":\"\"},\"caxis\":{\"gridcolor\":\"white\",\"linecolor\":\"white\",\"ticks\":\"\"}},\"coloraxis\":{\"colorbar\":{\"outlinewidth\":0,\"ticks\":\"\"}},\"colorscale\":{\"sequential\":[[0.0,\"#0d0887\"],[0.1111111111111111,\"#46039f\"],[0.2222222222222222,\"#7201a8\"],[0.3333333333333333,\"#9c179e\"],[0.4444444444444444,\"#bd3786\"],[0.5555555555555556,\"#d8576b\"],[0.6666666666666666,\"#ed7953\"],[0.7777777777777778,\"#fb9f3a\"],[0.8888888888888888,\"#fdca26\"],[1.0,\"#f0f921\"]],\"sequentialminus\":[[0.0,\"#0d0887\"],[0.1111111111111111,\"#46039f\"],[0.2222222222222222,\"#7201a8\"],[0.3333333333333333,\"#9c179e\"],[0.4444444444444444,\"#bd3786\"],[0.5555555555555556,\"#d8576b\"],[0.6666666666666666,\"#ed7953\"],[0.7777777777777778,\"#fb9f3a\"],[0.8888888888888888,\"#fdca26\"],[1.0,\"#f0f921\"]],\"diverging\":[[0,\"#8e0152\"],[0.1,\"#c51b7d\"],[0.2,\"#de77ae\"],[0.3,\"#f1b6da\"],[0.4,\"#fde0ef\"],[0.5,\"#f7f7f7\"],[0.6,\"#e6f5d0\"],[0.7,\"#b8e186\"],[0.8,\"#7fbc41\"],[0.9,\"#4d9221\"],[1,\"#276419\"]]},\"xaxis\":{\"gridcolor\":\"white\",\"linecolor\":\"white\",\"ticks\":\"\",\"title\":{\"standoff\":15},\"zerolinecolor\":\"white\",\"automargin\":true,\"zerolinewidth\":2},\"yaxis\":{\"gridcolor\":\"white\",\"linecolor\":\"white\",\"ticks\":\"\",\"title\":{\"standoff\":15},\"zerolinecolor\":\"white\",\"automargin\":true,\"zerolinewidth\":2},\"scene\":{\"xaxis\":{\"backgroundcolor\":\"#E5ECF6\",\"gridcolor\":\"white\",\"linecolor\":\"white\",\"showbackground\":true,\"ticks\":\"\",\"zerolinecolor\":\"white\",\"gridwidth\":2},\"yaxis\":{\"backgroundcolor\":\"#E5ECF6\",\"gridcolor\":\"white\",\"linecolor\":\"white\",\"showbackground\":true,\"ticks\":\"\",\"zerolinecolor\":\"white\",\"gridwidth\":2},\"zaxis\":{\"backgroundcolor\":\"#E5ECF6\",\"gridcolor\":\"white\",\"linecolor\":\"white\",\"showbackground\":true,\"ticks\":\"\",\"zerolinecolor\":\"white\",\"gridwidth\":2}},\"shapedefaults\":{\"line\":{\"color\":\"#2a3f5f\"}},\"annotationdefaults\":{\"arrowcolor\":\"#2a3f5f\",\"arrowhead\":0,\"arrowwidth\":1},\"geo\":{\"bgcolor\":\"white\",\"landcolor\":\"#E5ECF6\",\"subunitcolor\":\"white\",\"showland\":true,\"showlakes\":true,\"lakecolor\":\"white\"},\"title\":{\"x\":0.05},\"mapbox\":{\"style\":\"light\"}}},\"xaxis\":{\"anchor\":\"y\",\"domain\":[0.0,0.45]},\"yaxis\":{\"anchor\":\"x\",\"domain\":[0.0,1.0]},\"xaxis2\":{\"anchor\":\"y2\",\"domain\":[0.55,1.0]},\"yaxis2\":{\"anchor\":\"x2\",\"domain\":[0.0,1.0]},\"annotations\":[{\"font\":{\"size\":16},\"showarrow\":false,\"text\":\"Deaths - Total\",\"x\":0.225,\"xanchor\":\"center\",\"xref\":\"paper\",\"y\":1.0,\"yanchor\":\"bottom\",\"yref\":\"paper\"},{\"font\":{\"size\":16},\"showarrow\":false,\"text\":\"Deaths per 100k\",\"x\":0.775,\"xanchor\":\"center\",\"xref\":\"paper\",\"y\":1.0,\"yanchor\":\"bottom\",\"yref\":\"paper\"}],\"title\":{\"text\":\"Deaths Sweden\"}},                        {\"responsive\": true}                    ).then(function(){\n",
       "                            \n",
       "var gd = document.getElementById('1bf05ac6-ca54-4c3c-ad9f-484f207f9ed9');\n",
       "var x = new MutationObserver(function (mutations, observer) {{\n",
       "        var display = window.getComputedStyle(gd).display;\n",
       "        if (!display || display === 'none') {{\n",
       "            console.log([gd, 'removed!']);\n",
       "            Plotly.purge(gd);\n",
       "            observer.disconnect();\n",
       "        }}\n",
       "}});\n",
       "\n",
       "// Listen for the removal of the full notebook cells\n",
       "var notebookContainer = gd.closest('#notebook-container');\n",
       "if (notebookContainer) {{\n",
       "    x.observe(notebookContainer, {childList: true});\n",
       "}}\n",
       "\n",
       "// Listen for the clearing of the current output cell\n",
       "var outputEl = gd.closest('.output');\n",
       "if (outputEl) {{\n",
       "    x.observe(outputEl, {childList: true});\n",
       "}}\n",
       "\n",
       "                        })                };                });            </script>        </div>"
      ]
     },
     "metadata": {},
     "output_type": "display_data"
    }
   ],
   "source": [
    "# Create subplots: use 'domain' type for pie charts\n",
    "fig = make_subplots(rows=1, cols=2, subplot_titles=('Deaths - Total', 'Deaths per 100k'))\n",
    "\n",
    "# Add traces\n",
    "fig.add_trace(go.Scatter(x=df_sweden['Year'], y=df_sweden['Number'], mode='lines+markers', name='Total'), row=1, col=1)\n",
    "fig.add_trace(go.Scatter(x=df_sweden['Year'], y=df_sweden['Death rate per 100 000 population'], mode='lines+markers', name='Per 100k'), row=1, col=2)\n",
    "\n",
    "# Update layout\n",
    "fig.update_layout(title_text='Deaths Sweden')\n",
    "\n",
    "# Show the plot\n",
    "fig.show()"
   ]
  },
  {
   "cell_type": "markdown",
   "id": "ca45ff9f-1991-4efc-8636-0239791fa814",
   "metadata": {},
   "source": [
    "Covid started january 31st of 2019 in Sweden. Deaths should have been registered in 2020. Covid vaccines in Sweden started december 27 of 2020. Deaths should have been seen mainly in 2021 (and 3 days of 2020). So, \n",
    "- 2020 due to Covid. \n",
    "- 2021 due to vaccines. \n",
    "\n",
    "Some questions that follow this graph:\n",
    "- What happened in 2022? here seems to be a growing trend of deaths. If \"so many\" died, then next year the deaths should have had decreased, but here it is clearly increasing. \n",
    "- Which age group was most affected due to covid, i.e. 2020? And the vaccine i.e. 2021?\n",
    "- Is there any country that resisted the vaccination? How is this trend looking there? US can be taken as a country that accepted the vaccination, and there are several that rejected: Haiti, Tanzania, and Madagascar from beggining, and Denmark, Norway, Germany, France, and Italy halted the application of the vaccine until it wsa further investigated. \n"
   ]
  },
  {
   "cell_type": "code",
   "execution_count": 34,
   "id": "c70016f2-03a8-4692-b44b-54c3c451d698",
   "metadata": {
    "tags": []
   },
   "outputs": [
    {
     "data": {
      "text/html": [
       "<div>\n",
       "<style scoped>\n",
       "    .dataframe tbody tr th:only-of-type {\n",
       "        vertical-align: middle;\n",
       "    }\n",
       "\n",
       "    .dataframe tbody tr th {\n",
       "        vertical-align: top;\n",
       "    }\n",
       "\n",
       "    .dataframe thead th {\n",
       "        text-align: right;\n",
       "    }\n",
       "</style>\n",
       "<table border=\"1\" class=\"dataframe\">\n",
       "  <thead>\n",
       "    <tr style=\"text-align: right;\">\n",
       "      <th></th>\n",
       "      <th>Region Code</th>\n",
       "      <th>Region Name</th>\n",
       "      <th>Country Code</th>\n",
       "      <th>Country Name</th>\n",
       "      <th>Year</th>\n",
       "      <th>Sex</th>\n",
       "      <th>Age group code</th>\n",
       "      <th>Age Group</th>\n",
       "      <th>Number</th>\n",
       "      <th>Percentage of cause-specific deaths out of total deaths</th>\n",
       "      <th>Age-standardized death rate per 100 000 standard population</th>\n",
       "      <th>Death rate per 100 000 population</th>\n",
       "    </tr>\n",
       "  </thead>\n",
       "  <tbody>\n",
       "    <tr>\n",
       "      <th>237237</th>\n",
       "      <td>EU</td>\n",
       "      <td>Europe</td>\n",
       "      <td>SWE</td>\n",
       "      <td>Sweden</td>\n",
       "      <td>2011</td>\n",
       "      <td>All</td>\n",
       "      <td>Age_all</td>\n",
       "      <td>[All]</td>\n",
       "      <td>89941.0</td>\n",
       "      <td>100</td>\n",
       "      <td>379.000474</td>\n",
       "      <td>951.835883</td>\n",
       "    </tr>\n",
       "    <tr>\n",
       "      <th>237300</th>\n",
       "      <td>EU</td>\n",
       "      <td>Europe</td>\n",
       "      <td>SWE</td>\n",
       "      <td>Sweden</td>\n",
       "      <td>2012</td>\n",
       "      <td>All</td>\n",
       "      <td>Age_all</td>\n",
       "      <td>[All]</td>\n",
       "      <td>91990.0</td>\n",
       "      <td>100</td>\n",
       "      <td>381.568960</td>\n",
       "      <td>966.344954</td>\n",
       "    </tr>\n",
       "    <tr>\n",
       "      <th>237363</th>\n",
       "      <td>EU</td>\n",
       "      <td>Europe</td>\n",
       "      <td>SWE</td>\n",
       "      <td>Sweden</td>\n",
       "      <td>2013</td>\n",
       "      <td>All</td>\n",
       "      <td>Age_all</td>\n",
       "      <td>[All]</td>\n",
       "      <td>90505.0</td>\n",
       "      <td>100</td>\n",
       "      <td>373.733815</td>\n",
       "      <td>942.723248</td>\n",
       "    </tr>\n",
       "    <tr>\n",
       "      <th>237426</th>\n",
       "      <td>EU</td>\n",
       "      <td>Europe</td>\n",
       "      <td>SWE</td>\n",
       "      <td>Sweden</td>\n",
       "      <td>2014</td>\n",
       "      <td>All</td>\n",
       "      <td>Age_all</td>\n",
       "      <td>[All]</td>\n",
       "      <td>89062.0</td>\n",
       "      <td>100</td>\n",
       "      <td>362.983740</td>\n",
       "      <td>918.533356</td>\n",
       "    </tr>\n",
       "    <tr>\n",
       "      <th>305109</th>\n",
       "      <td>EU</td>\n",
       "      <td>Europe</td>\n",
       "      <td>SWE</td>\n",
       "      <td>Sweden</td>\n",
       "      <td>2018</td>\n",
       "      <td>All</td>\n",
       "      <td>Age_all</td>\n",
       "      <td>[All]</td>\n",
       "      <td>92250.0</td>\n",
       "      <td>100</td>\n",
       "      <td>352.890964</td>\n",
       "      <td>906.614883</td>\n",
       "    </tr>\n",
       "    <tr>\n",
       "      <th>305172</th>\n",
       "      <td>EU</td>\n",
       "      <td>Europe</td>\n",
       "      <td>SWE</td>\n",
       "      <td>Sweden</td>\n",
       "      <td>2017</td>\n",
       "      <td>All</td>\n",
       "      <td>Age_all</td>\n",
       "      <td>[All]</td>\n",
       "      <td>92075.0</td>\n",
       "      <td>100</td>\n",
       "      <td>357.081770</td>\n",
       "      <td>915.467979</td>\n",
       "    </tr>\n",
       "    <tr>\n",
       "      <th>305235</th>\n",
       "      <td>EU</td>\n",
       "      <td>Europe</td>\n",
       "      <td>SWE</td>\n",
       "      <td>Sweden</td>\n",
       "      <td>2016</td>\n",
       "      <td>All</td>\n",
       "      <td>Age_all</td>\n",
       "      <td>[All]</td>\n",
       "      <td>91071.0</td>\n",
       "      <td>100</td>\n",
       "      <td>359.802655</td>\n",
       "      <td>917.769020</td>\n",
       "    </tr>\n",
       "    <tr>\n",
       "      <th>305298</th>\n",
       "      <td>EU</td>\n",
       "      <td>Europe</td>\n",
       "      <td>SWE</td>\n",
       "      <td>Sweden</td>\n",
       "      <td>2015</td>\n",
       "      <td>All</td>\n",
       "      <td>Age_all</td>\n",
       "      <td>[All]</td>\n",
       "      <td>91002.0</td>\n",
       "      <td>100</td>\n",
       "      <td>369.747821</td>\n",
       "      <td>938.541381</td>\n",
       "    </tr>\n",
       "    <tr>\n",
       "      <th>313068</th>\n",
       "      <td>EU</td>\n",
       "      <td>Europe</td>\n",
       "      <td>SWE</td>\n",
       "      <td>Sweden</td>\n",
       "      <td>2022</td>\n",
       "      <td>All</td>\n",
       "      <td>Age_all</td>\n",
       "      <td>[All]</td>\n",
       "      <td>94823.0</td>\n",
       "      <td>100</td>\n",
       "      <td>335.376554</td>\n",
       "      <td>904.200758</td>\n",
       "    </tr>\n",
       "    <tr>\n",
       "      <th>313131</th>\n",
       "      <td>EU</td>\n",
       "      <td>Europe</td>\n",
       "      <td>SWE</td>\n",
       "      <td>Sweden</td>\n",
       "      <td>2021</td>\n",
       "      <td>All</td>\n",
       "      <td>Age_all</td>\n",
       "      <td>[All]</td>\n",
       "      <td>92079.0</td>\n",
       "      <td>100</td>\n",
       "      <td>335.911070</td>\n",
       "      <td>884.031060</td>\n",
       "    </tr>\n",
       "    <tr>\n",
       "      <th>313185</th>\n",
       "      <td>EU</td>\n",
       "      <td>Europe</td>\n",
       "      <td>SWE</td>\n",
       "      <td>Sweden</td>\n",
       "      <td>2020</td>\n",
       "      <td>All</td>\n",
       "      <td>Age_all</td>\n",
       "      <td>[All]</td>\n",
       "      <td>98652.0</td>\n",
       "      <td>100</td>\n",
       "      <td>361.366074</td>\n",
       "      <td>952.842543</td>\n",
       "    </tr>\n",
       "    <tr>\n",
       "      <th>313278</th>\n",
       "      <td>EU</td>\n",
       "      <td>Europe</td>\n",
       "      <td>SWE</td>\n",
       "      <td>Sweden</td>\n",
       "      <td>2019</td>\n",
       "      <td>All</td>\n",
       "      <td>Age_all</td>\n",
       "      <td>[All]</td>\n",
       "      <td>89276.0</td>\n",
       "      <td>100</td>\n",
       "      <td>336.989684</td>\n",
       "      <td>868.537615</td>\n",
       "    </tr>\n",
       "  </tbody>\n",
       "</table>\n",
       "</div>"
      ],
      "text/plain": [
       "       Region Code Region Name Country Code Country Name  Year  Sex  \\\n",
       "237237          EU      Europe          SWE       Sweden  2011  All   \n",
       "237300          EU      Europe          SWE       Sweden  2012  All   \n",
       "237363          EU      Europe          SWE       Sweden  2013  All   \n",
       "237426          EU      Europe          SWE       Sweden  2014  All   \n",
       "305109          EU      Europe          SWE       Sweden  2018  All   \n",
       "305172          EU      Europe          SWE       Sweden  2017  All   \n",
       "305235          EU      Europe          SWE       Sweden  2016  All   \n",
       "305298          EU      Europe          SWE       Sweden  2015  All   \n",
       "313068          EU      Europe          SWE       Sweden  2022  All   \n",
       "313131          EU      Europe          SWE       Sweden  2021  All   \n",
       "313185          EU      Europe          SWE       Sweden  2020  All   \n",
       "313278          EU      Europe          SWE       Sweden  2019  All   \n",
       "\n",
       "       Age group code Age Group   Number  \\\n",
       "237237        Age_all     [All]  89941.0   \n",
       "237300        Age_all     [All]  91990.0   \n",
       "237363        Age_all     [All]  90505.0   \n",
       "237426        Age_all     [All]  89062.0   \n",
       "305109        Age_all     [All]  92250.0   \n",
       "305172        Age_all     [All]  92075.0   \n",
       "305235        Age_all     [All]  91071.0   \n",
       "305298        Age_all     [All]  91002.0   \n",
       "313068        Age_all     [All]  94823.0   \n",
       "313131        Age_all     [All]  92079.0   \n",
       "313185        Age_all     [All]  98652.0   \n",
       "313278        Age_all     [All]  89276.0   \n",
       "\n",
       "        Percentage of cause-specific deaths out of total deaths  \\\n",
       "237237                                                100         \n",
       "237300                                                100         \n",
       "237363                                                100         \n",
       "237426                                                100         \n",
       "305109                                                100         \n",
       "305172                                                100         \n",
       "305235                                                100         \n",
       "305298                                                100         \n",
       "313068                                                100         \n",
       "313131                                                100         \n",
       "313185                                                100         \n",
       "313278                                                100         \n",
       "\n",
       "        Age-standardized death rate per 100 000 standard population  \\\n",
       "237237                                         379.000474             \n",
       "237300                                         381.568960             \n",
       "237363                                         373.733815             \n",
       "237426                                         362.983740             \n",
       "305109                                         352.890964             \n",
       "305172                                         357.081770             \n",
       "305235                                         359.802655             \n",
       "305298                                         369.747821             \n",
       "313068                                         335.376554             \n",
       "313131                                         335.911070             \n",
       "313185                                         361.366074             \n",
       "313278                                         336.989684             \n",
       "\n",
       "        Death rate per 100 000 population  \n",
       "237237                         951.835883  \n",
       "237300                         966.344954  \n",
       "237363                         942.723248  \n",
       "237426                         918.533356  \n",
       "305109                         906.614883  \n",
       "305172                         915.467979  \n",
       "305235                         917.769020  \n",
       "305298                         938.541381  \n",
       "313068                         904.200758  \n",
       "313131                         884.031060  \n",
       "313185                         952.842543  \n",
       "313278                         868.537615  "
      ]
     },
     "execution_count": 34,
     "metadata": {},
     "output_type": "execute_result"
    }
   ],
   "source": [
    "df_swe_2015 = df_sweden[df_sweden[\"Year\"] > 2010]\n",
    "df_swe_2015"
   ]
  },
  {
   "cell_type": "code",
   "execution_count": 26,
   "id": "05b7a883-a7be-4f98-bd69-9a04d0dd976d",
   "metadata": {
    "tags": []
   },
   "outputs": [
    {
     "data": {
      "text/html": [
       "<div>\n",
       "<style scoped>\n",
       "    .dataframe tbody tr th:only-of-type {\n",
       "        vertical-align: middle;\n",
       "    }\n",
       "\n",
       "    .dataframe tbody tr th {\n",
       "        vertical-align: top;\n",
       "    }\n",
       "\n",
       "    .dataframe thead th {\n",
       "        text-align: right;\n",
       "    }\n",
       "</style>\n",
       "<table border=\"1\" class=\"dataframe\">\n",
       "  <thead>\n",
       "    <tr style=\"text-align: right;\">\n",
       "      <th></th>\n",
       "      <th></th>\n",
       "      <th>Death rate per 100 000 population</th>\n",
       "    </tr>\n",
       "    <tr>\n",
       "      <th>Country Name</th>\n",
       "      <th>Year</th>\n",
       "      <th></th>\n",
       "    </tr>\n",
       "  </thead>\n",
       "  <tbody>\n",
       "    <tr>\n",
       "      <th rowspan=\"5\" valign=\"top\">Albania</th>\n",
       "      <th>1987</th>\n",
       "      <td>60</td>\n",
       "    </tr>\n",
       "    <tr>\n",
       "      <th>1988</th>\n",
       "      <td>60</td>\n",
       "    </tr>\n",
       "    <tr>\n",
       "      <th>1989</th>\n",
       "      <td>60</td>\n",
       "    </tr>\n",
       "    <tr>\n",
       "      <th>1992</th>\n",
       "      <td>60</td>\n",
       "    </tr>\n",
       "    <tr>\n",
       "      <th>1993</th>\n",
       "      <td>60</td>\n",
       "    </tr>\n",
       "    <tr>\n",
       "      <th>...</th>\n",
       "      <th>...</th>\n",
       "      <td>...</td>\n",
       "    </tr>\n",
       "    <tr>\n",
       "      <th rowspan=\"5\" valign=\"top\">Venezuela (Bolivarian Republic of)</th>\n",
       "      <th>2012</th>\n",
       "      <td>60</td>\n",
       "    </tr>\n",
       "    <tr>\n",
       "      <th>2013</th>\n",
       "      <td>60</td>\n",
       "    </tr>\n",
       "    <tr>\n",
       "      <th>2014</th>\n",
       "      <td>60</td>\n",
       "    </tr>\n",
       "    <tr>\n",
       "      <th>2015</th>\n",
       "      <td>60</td>\n",
       "    </tr>\n",
       "    <tr>\n",
       "      <th>2016</th>\n",
       "      <td>60</td>\n",
       "    </tr>\n",
       "  </tbody>\n",
       "</table>\n",
       "<p>4869 rows × 1 columns</p>\n",
       "</div>"
      ],
      "text/plain": [
       "                                         Death rate per 100 000 population\n",
       "Country Name                       Year                                   \n",
       "Albania                            1987                                 60\n",
       "                                   1988                                 60\n",
       "                                   1989                                 60\n",
       "                                   1992                                 60\n",
       "                                   1993                                 60\n",
       "...                                                                    ...\n",
       "Venezuela (Bolivarian Republic of) 2012                                 60\n",
       "                                   2013                                 60\n",
       "                                   2014                                 60\n",
       "                                   2015                                 60\n",
       "                                   2016                                 60\n",
       "\n",
       "[4869 rows x 1 columns]"
      ]
     },
     "execution_count": 26,
     "metadata": {},
     "output_type": "execute_result"
    }
   ],
   "source": [
    "df_country = df[[\"Country Name\", \"Death rate per 100 000 population\", \"Year\"]].groupby([\"Country Name\", \"Year\"]).count()\n",
    "df_country"
   ]
  },
  {
   "cell_type": "code",
   "execution_count": 28,
   "id": "cbdc6429-5659-495a-9d76-4851ab4d8f8b",
   "metadata": {
    "tags": []
   },
   "outputs": [
    {
     "data": {
      "text/html": [
       "<div>\n",
       "<style scoped>\n",
       "    .dataframe tbody tr th:only-of-type {\n",
       "        vertical-align: middle;\n",
       "    }\n",
       "\n",
       "    .dataframe tbody tr th {\n",
       "        vertical-align: top;\n",
       "    }\n",
       "\n",
       "    .dataframe thead th {\n",
       "        text-align: right;\n",
       "    }\n",
       "</style>\n",
       "<table border=\"1\" class=\"dataframe\">\n",
       "  <thead>\n",
       "    <tr style=\"text-align: right;\">\n",
       "      <th></th>\n",
       "      <th>Region Code</th>\n",
       "      <th>Region Name</th>\n",
       "      <th>Country Code</th>\n",
       "      <th>Country Name</th>\n",
       "      <th>Year</th>\n",
       "      <th>Sex</th>\n",
       "      <th>Age group code</th>\n",
       "      <th>Age Group</th>\n",
       "      <th>Number</th>\n",
       "      <th>Percentage of cause-specific deaths out of total deaths</th>\n",
       "      <th>Age-standardized death rate per 100 000 standard population</th>\n",
       "      <th>Death rate per 100 000 population</th>\n",
       "    </tr>\n",
       "  </thead>\n",
       "  <tbody>\n",
       "    <tr>\n",
       "      <th>233457</th>\n",
       "      <td>EU</td>\n",
       "      <td>Europe</td>\n",
       "      <td>SWE</td>\n",
       "      <td>Sweden</td>\n",
       "      <td>1951</td>\n",
       "      <td>All</td>\n",
       "      <td>Age_all</td>\n",
       "      <td>[All]</td>\n",
       "      <td>69799.0</td>\n",
       "      <td>100</td>\n",
       "      <td>878.907709</td>\n",
       "      <td>987.214121</td>\n",
       "    </tr>\n",
       "    <tr>\n",
       "      <th>233458</th>\n",
       "      <td>EU</td>\n",
       "      <td>Europe</td>\n",
       "      <td>SWE</td>\n",
       "      <td>Sweden</td>\n",
       "      <td>1951</td>\n",
       "      <td>All</td>\n",
       "      <td>Age00</td>\n",
       "      <td>[0]</td>\n",
       "      <td>2378.0</td>\n",
       "      <td>100</td>\n",
       "      <td>NaN</td>\n",
       "      <td>2152.036199</td>\n",
       "    </tr>\n",
       "    <tr>\n",
       "      <th>233459</th>\n",
       "      <td>EU</td>\n",
       "      <td>Europe</td>\n",
       "      <td>SWE</td>\n",
       "      <td>Sweden</td>\n",
       "      <td>1951</td>\n",
       "      <td>All</td>\n",
       "      <td>Age01_04</td>\n",
       "      <td>[1-4]</td>\n",
       "      <td>600.0</td>\n",
       "      <td>100</td>\n",
       "      <td>NaN</td>\n",
       "      <td>122.649223</td>\n",
       "    </tr>\n",
       "    <tr>\n",
       "      <th>233460</th>\n",
       "      <td>EU</td>\n",
       "      <td>Europe</td>\n",
       "      <td>SWE</td>\n",
       "      <td>Sweden</td>\n",
       "      <td>1951</td>\n",
       "      <td>All</td>\n",
       "      <td>Age05_09</td>\n",
       "      <td>[5-9]</td>\n",
       "      <td>363.0</td>\n",
       "      <td>100</td>\n",
       "      <td>NaN</td>\n",
       "      <td>59.861478</td>\n",
       "    </tr>\n",
       "    <tr>\n",
       "      <th>233461</th>\n",
       "      <td>EU</td>\n",
       "      <td>Europe</td>\n",
       "      <td>SWE</td>\n",
       "      <td>Sweden</td>\n",
       "      <td>1951</td>\n",
       "      <td>All</td>\n",
       "      <td>Age10_14</td>\n",
       "      <td>[10-14]</td>\n",
       "      <td>210.0</td>\n",
       "      <td>100</td>\n",
       "      <td>NaN</td>\n",
       "      <td>45.971979</td>\n",
       "    </tr>\n",
       "    <tr>\n",
       "      <th>...</th>\n",
       "      <td>...</td>\n",
       "      <td>...</td>\n",
       "      <td>...</td>\n",
       "      <td>...</td>\n",
       "      <td>...</td>\n",
       "      <td>...</td>\n",
       "      <td>...</td>\n",
       "      <td>...</td>\n",
       "      <td>...</td>\n",
       "      <td>...</td>\n",
       "      <td>...</td>\n",
       "      <td>...</td>\n",
       "    </tr>\n",
       "    <tr>\n",
       "      <th>313357</th>\n",
       "      <td>EU</td>\n",
       "      <td>Europe</td>\n",
       "      <td>SWE</td>\n",
       "      <td>Sweden</td>\n",
       "      <td>2019</td>\n",
       "      <td>Unknown</td>\n",
       "      <td>Age70_74</td>\n",
       "      <td>[70-74]</td>\n",
       "      <td>12.0</td>\n",
       "      <td>100</td>\n",
       "      <td>NaN</td>\n",
       "      <td>NaN</td>\n",
       "    </tr>\n",
       "    <tr>\n",
       "      <th>313358</th>\n",
       "      <td>EU</td>\n",
       "      <td>Europe</td>\n",
       "      <td>SWE</td>\n",
       "      <td>Sweden</td>\n",
       "      <td>2019</td>\n",
       "      <td>Unknown</td>\n",
       "      <td>Age75_79</td>\n",
       "      <td>[75-79]</td>\n",
       "      <td>7.0</td>\n",
       "      <td>100</td>\n",
       "      <td>NaN</td>\n",
       "      <td>NaN</td>\n",
       "    </tr>\n",
       "    <tr>\n",
       "      <th>313359</th>\n",
       "      <td>EU</td>\n",
       "      <td>Europe</td>\n",
       "      <td>SWE</td>\n",
       "      <td>Sweden</td>\n",
       "      <td>2019</td>\n",
       "      <td>Unknown</td>\n",
       "      <td>Age80_84</td>\n",
       "      <td>[80-84]</td>\n",
       "      <td>3.0</td>\n",
       "      <td>100</td>\n",
       "      <td>NaN</td>\n",
       "      <td>NaN</td>\n",
       "    </tr>\n",
       "    <tr>\n",
       "      <th>313360</th>\n",
       "      <td>EU</td>\n",
       "      <td>Europe</td>\n",
       "      <td>SWE</td>\n",
       "      <td>Sweden</td>\n",
       "      <td>2019</td>\n",
       "      <td>Unknown</td>\n",
       "      <td>Age85_over</td>\n",
       "      <td>[85+]</td>\n",
       "      <td>10.0</td>\n",
       "      <td>100</td>\n",
       "      <td>NaN</td>\n",
       "      <td>NaN</td>\n",
       "    </tr>\n",
       "    <tr>\n",
       "      <th>313361</th>\n",
       "      <td>EU</td>\n",
       "      <td>Europe</td>\n",
       "      <td>SWE</td>\n",
       "      <td>Sweden</td>\n",
       "      <td>2019</td>\n",
       "      <td>Unknown</td>\n",
       "      <td>Age_unknown</td>\n",
       "      <td>[Unknown]</td>\n",
       "      <td>0.0</td>\n",
       "      <td>100</td>\n",
       "      <td>NaN</td>\n",
       "      <td>NaN</td>\n",
       "    </tr>\n",
       "  </tbody>\n",
       "</table>\n",
       "<p>4578 rows × 12 columns</p>\n",
       "</div>"
      ],
      "text/plain": [
       "       Region Code Region Name Country Code Country Name  Year      Sex  \\\n",
       "233457          EU      Europe          SWE       Sweden  1951      All   \n",
       "233458          EU      Europe          SWE       Sweden  1951      All   \n",
       "233459          EU      Europe          SWE       Sweden  1951      All   \n",
       "233460          EU      Europe          SWE       Sweden  1951      All   \n",
       "233461          EU      Europe          SWE       Sweden  1951      All   \n",
       "...            ...         ...          ...          ...   ...      ...   \n",
       "313357          EU      Europe          SWE       Sweden  2019  Unknown   \n",
       "313358          EU      Europe          SWE       Sweden  2019  Unknown   \n",
       "313359          EU      Europe          SWE       Sweden  2019  Unknown   \n",
       "313360          EU      Europe          SWE       Sweden  2019  Unknown   \n",
       "313361          EU      Europe          SWE       Sweden  2019  Unknown   \n",
       "\n",
       "       Age group code  Age Group   Number  \\\n",
       "233457        Age_all      [All]  69799.0   \n",
       "233458          Age00        [0]   2378.0   \n",
       "233459       Age01_04      [1-4]    600.0   \n",
       "233460       Age05_09      [5-9]    363.0   \n",
       "233461       Age10_14    [10-14]    210.0   \n",
       "...               ...        ...      ...   \n",
       "313357       Age70_74    [70-74]     12.0   \n",
       "313358       Age75_79    [75-79]      7.0   \n",
       "313359       Age80_84    [80-84]      3.0   \n",
       "313360     Age85_over      [85+]     10.0   \n",
       "313361    Age_unknown  [Unknown]      0.0   \n",
       "\n",
       "        Percentage of cause-specific deaths out of total deaths  \\\n",
       "233457                                                100         \n",
       "233458                                                100         \n",
       "233459                                                100         \n",
       "233460                                                100         \n",
       "233461                                                100         \n",
       "...                                                   ...         \n",
       "313357                                                100         \n",
       "313358                                                100         \n",
       "313359                                                100         \n",
       "313360                                                100         \n",
       "313361                                                100         \n",
       "\n",
       "        Age-standardized death rate per 100 000 standard population  \\\n",
       "233457                                         878.907709             \n",
       "233458                                                NaN             \n",
       "233459                                                NaN             \n",
       "233460                                                NaN             \n",
       "233461                                                NaN             \n",
       "...                                                   ...             \n",
       "313357                                                NaN             \n",
       "313358                                                NaN             \n",
       "313359                                                NaN             \n",
       "313360                                                NaN             \n",
       "313361                                                NaN             \n",
       "\n",
       "        Death rate per 100 000 population  \n",
       "233457                         987.214121  \n",
       "233458                        2152.036199  \n",
       "233459                         122.649223  \n",
       "233460                          59.861478  \n",
       "233461                          45.971979  \n",
       "...                                   ...  \n",
       "313357                                NaN  \n",
       "313358                                NaN  \n",
       "313359                                NaN  \n",
       "313360                                NaN  \n",
       "313361                                NaN  \n",
       "\n",
       "[4578 rows x 12 columns]"
      ]
     },
     "execution_count": 28,
     "metadata": {},
     "output_type": "execute_result"
    }
   ],
   "source": []
  },
  {
   "cell_type": "code",
   "execution_count": null,
   "id": "e135c625-5b30-4f1a-b3f2-c849548c2fae",
   "metadata": {},
   "outputs": [],
   "source": []
  }
 ],
 "metadata": {
  "kernelspec": {
   "display_name": "Python 3 (ipykernel)",
   "language": "python",
   "name": "python3"
  },
  "language_info": {
   "codemirror_mode": {
    "name": "ipython",
    "version": 3
   },
   "file_extension": ".py",
   "mimetype": "text/x-python",
   "name": "python",
   "nbconvert_exporter": "python",
   "pygments_lexer": "ipython3",
   "version": "3.10.12"
  }
 },
 "nbformat": 4,
 "nbformat_minor": 5
}
