{
 "cells": [
  {
   "cell_type": "markdown",
   "metadata": {},
   "source": [
    "# Notebook analyzing a data set of the winners of the Nobel Prize "
   ]
  },
  {
   "cell_type": "markdown",
   "metadata": {},
   "source": [
    "Notebook taken from online course"
   ]
  },
  {
   "cell_type": "markdown",
   "metadata": {},
   "source": [
    "## Importing Statements"
   ]
  },
  {
   "cell_type": "code",
   "execution_count": 1,
   "metadata": {},
   "outputs": [],
   "source": [
    "import pandas as pd\n",
    "import json\n",
    "import numpy as np\n",
    "import matplotlib.pyplot as plt\n",
    "import plotly.express as px\n",
    "import plotly.graph_objects as go"
   ]
  },
  {
   "cell_type": "code",
   "execution_count": 2,
   "metadata": {},
   "outputs": [],
   "source": [
    "data = pd.read_csv(\"nobel_prize_data.csv\")"
   ]
  },
  {
   "cell_type": "markdown",
   "metadata": {},
   "source": [
    "## Data exploration"
   ]
  },
  {
   "cell_type": "markdown",
   "metadata": {},
   "source": [
    "### Shape of the data"
   ]
  },
  {
   "cell_type": "code",
   "execution_count": 3,
   "metadata": {},
   "outputs": [
    {
     "name": "stdout",
     "output_type": "stream",
     "text": [
      "The data has 962 rows and 16 columns.\n"
     ]
    }
   ],
   "source": [
    "rows, cols = data.shape\n",
    "print(f\"The data has {rows} rows and {cols} columns.\")"
   ]
  },
  {
   "cell_type": "markdown",
   "metadata": {},
   "source": [
    "### Columns name and data type"
   ]
  },
  {
   "cell_type": "code",
   "execution_count": 4,
   "metadata": {},
   "outputs": [
    {
     "name": "stdout",
     "output_type": "stream",
     "text": [
      "The coloumns are:\n",
      "year\n",
      "category\n",
      "prize\n",
      "motivation\n",
      "prize_share\n",
      "laureate_type\n",
      "full_name\n",
      "birth_date\n",
      "birth_city\n",
      "birth_country\n",
      "birth_country_current\n",
      "sex\n",
      "organization_name\n",
      "organization_city\n",
      "organization_country\n",
      "ISO\n"
     ]
    }
   ],
   "source": [
    "print(f\"The coloumns are:\")\n",
    "for item in data.columns:\n",
    "    print(item)"
   ]
  },
  {
   "cell_type": "code",
   "execution_count": 5,
   "metadata": {},
   "outputs": [
    {
     "name": "stdout",
     "output_type": "stream",
     "text": [
      "The type of data within the columns are:\n",
      "year                      int64\n",
      "category                 object\n",
      "prize                    object\n",
      "motivation               object\n",
      "prize_share              object\n",
      "laureate_type            object\n",
      "full_name                object\n",
      "birth_date               object\n",
      "birth_city               object\n",
      "birth_country            object\n",
      "birth_country_current    object\n",
      "sex                      object\n",
      "organization_name        object\n",
      "organization_city        object\n",
      "organization_country     object\n",
      "ISO                      object\n",
      "dtype: object\n"
     ]
    }
   ],
   "source": [
    "print(\"The type of data within the columns are:\")\n",
    "print(data.dtypes)"
   ]
  },
  {
   "cell_type": "markdown",
   "metadata": {},
   "source": [
    "### First and last years"
   ]
  },
  {
   "cell_type": "code",
   "execution_count": 6,
   "metadata": {},
   "outputs": [
    {
     "data": {
      "text/html": [
       "<div>\n",
       "<style scoped>\n",
       "    .dataframe tbody tr th:only-of-type {\n",
       "        vertical-align: middle;\n",
       "    }\n",
       "\n",
       "    .dataframe tbody tr th {\n",
       "        vertical-align: top;\n",
       "    }\n",
       "\n",
       "    .dataframe thead th {\n",
       "        text-align: right;\n",
       "    }\n",
       "</style>\n",
       "<table border=\"1\" class=\"dataframe\">\n",
       "  <thead>\n",
       "    <tr style=\"text-align: right;\">\n",
       "      <th></th>\n",
       "      <th>year</th>\n",
       "      <th>category</th>\n",
       "      <th>prize</th>\n",
       "      <th>motivation</th>\n",
       "      <th>prize_share</th>\n",
       "      <th>laureate_type</th>\n",
       "      <th>full_name</th>\n",
       "      <th>birth_date</th>\n",
       "      <th>birth_city</th>\n",
       "      <th>birth_country</th>\n",
       "      <th>birth_country_current</th>\n",
       "      <th>sex</th>\n",
       "      <th>organization_name</th>\n",
       "      <th>organization_city</th>\n",
       "      <th>organization_country</th>\n",
       "      <th>ISO</th>\n",
       "    </tr>\n",
       "  </thead>\n",
       "  <tbody>\n",
       "    <tr>\n",
       "      <th>0</th>\n",
       "      <td>1901</td>\n",
       "      <td>Chemistry</td>\n",
       "      <td>The Nobel Prize in Chemistry 1901</td>\n",
       "      <td>\"in recognition of the extraordinary services ...</td>\n",
       "      <td>1/1</td>\n",
       "      <td>Individual</td>\n",
       "      <td>Jacobus Henricus van 't Hoff</td>\n",
       "      <td>1852-08-30</td>\n",
       "      <td>Rotterdam</td>\n",
       "      <td>Netherlands</td>\n",
       "      <td>Netherlands</td>\n",
       "      <td>Male</td>\n",
       "      <td>Berlin University</td>\n",
       "      <td>Berlin</td>\n",
       "      <td>Germany</td>\n",
       "      <td>NLD</td>\n",
       "    </tr>\n",
       "    <tr>\n",
       "      <th>1</th>\n",
       "      <td>1901</td>\n",
       "      <td>Literature</td>\n",
       "      <td>The Nobel Prize in Literature 1901</td>\n",
       "      <td>\"in special recognition of his poetic composit...</td>\n",
       "      <td>1/1</td>\n",
       "      <td>Individual</td>\n",
       "      <td>Sully Prudhomme</td>\n",
       "      <td>1839-03-16</td>\n",
       "      <td>Paris</td>\n",
       "      <td>France</td>\n",
       "      <td>France</td>\n",
       "      <td>Male</td>\n",
       "      <td>NaN</td>\n",
       "      <td>NaN</td>\n",
       "      <td>NaN</td>\n",
       "      <td>FRA</td>\n",
       "    </tr>\n",
       "    <tr>\n",
       "      <th>4</th>\n",
       "      <td>1901</td>\n",
       "      <td>Peace</td>\n",
       "      <td>The Nobel Peace Prize 1901</td>\n",
       "      <td>NaN</td>\n",
       "      <td>1/2</td>\n",
       "      <td>Individual</td>\n",
       "      <td>Jean Henry Dunant</td>\n",
       "      <td>1828-05-08</td>\n",
       "      <td>Geneva</td>\n",
       "      <td>Switzerland</td>\n",
       "      <td>Switzerland</td>\n",
       "      <td>Male</td>\n",
       "      <td>NaN</td>\n",
       "      <td>NaN</td>\n",
       "      <td>NaN</td>\n",
       "      <td>CHE</td>\n",
       "    </tr>\n",
       "    <tr>\n",
       "      <th>3</th>\n",
       "      <td>1901</td>\n",
       "      <td>Peace</td>\n",
       "      <td>The Nobel Peace Prize 1901</td>\n",
       "      <td>NaN</td>\n",
       "      <td>1/2</td>\n",
       "      <td>Individual</td>\n",
       "      <td>Frédéric Passy</td>\n",
       "      <td>1822-05-20</td>\n",
       "      <td>Paris</td>\n",
       "      <td>France</td>\n",
       "      <td>France</td>\n",
       "      <td>Male</td>\n",
       "      <td>NaN</td>\n",
       "      <td>NaN</td>\n",
       "      <td>NaN</td>\n",
       "      <td>FRA</td>\n",
       "    </tr>\n",
       "    <tr>\n",
       "      <th>2</th>\n",
       "      <td>1901</td>\n",
       "      <td>Medicine</td>\n",
       "      <td>The Nobel Prize in Physiology or Medicine 1901</td>\n",
       "      <td>\"for his work on serum therapy, especially its...</td>\n",
       "      <td>1/1</td>\n",
       "      <td>Individual</td>\n",
       "      <td>Emil Adolf von Behring</td>\n",
       "      <td>1854-03-15</td>\n",
       "      <td>Hansdorf (Lawice)</td>\n",
       "      <td>Prussia (Poland)</td>\n",
       "      <td>Poland</td>\n",
       "      <td>Male</td>\n",
       "      <td>Marburg University</td>\n",
       "      <td>Marburg</td>\n",
       "      <td>Germany</td>\n",
       "      <td>POL</td>\n",
       "    </tr>\n",
       "    <tr>\n",
       "      <th>...</th>\n",
       "      <td>...</td>\n",
       "      <td>...</td>\n",
       "      <td>...</td>\n",
       "      <td>...</td>\n",
       "      <td>...</td>\n",
       "      <td>...</td>\n",
       "      <td>...</td>\n",
       "      <td>...</td>\n",
       "      <td>...</td>\n",
       "      <td>...</td>\n",
       "      <td>...</td>\n",
       "      <td>...</td>\n",
       "      <td>...</td>\n",
       "      <td>...</td>\n",
       "      <td>...</td>\n",
       "      <td>...</td>\n",
       "    </tr>\n",
       "    <tr>\n",
       "      <th>956</th>\n",
       "      <td>2020</td>\n",
       "      <td>Medicine</td>\n",
       "      <td>The Nobel Prize in Physiology or Medicine 2020</td>\n",
       "      <td>“for the discovery of Hepatitis C virus”</td>\n",
       "      <td>1/3</td>\n",
       "      <td>Individual</td>\n",
       "      <td>Harvey J. Alter</td>\n",
       "      <td>1935-09-12</td>\n",
       "      <td>New York, NY</td>\n",
       "      <td>United States of America</td>\n",
       "      <td>United States of America</td>\n",
       "      <td>Male</td>\n",
       "      <td>National Institutes of Health</td>\n",
       "      <td>Bethesda, MD</td>\n",
       "      <td>United States of America</td>\n",
       "      <td>USA</td>\n",
       "    </tr>\n",
       "    <tr>\n",
       "      <th>957</th>\n",
       "      <td>2020</td>\n",
       "      <td>Medicine</td>\n",
       "      <td>The Nobel Prize in Physiology or Medicine 2020</td>\n",
       "      <td>“for the discovery of Hepatitis C virus”</td>\n",
       "      <td>1/3</td>\n",
       "      <td>Individual</td>\n",
       "      <td>Michael Houghton</td>\n",
       "      <td>1949-07-02</td>\n",
       "      <td>NaN</td>\n",
       "      <td>United Kingdom</td>\n",
       "      <td>United Kingdom</td>\n",
       "      <td>Male</td>\n",
       "      <td>University of Alberta</td>\n",
       "      <td>Edmonton</td>\n",
       "      <td>Canada</td>\n",
       "      <td>GBR</td>\n",
       "    </tr>\n",
       "    <tr>\n",
       "      <th>950</th>\n",
       "      <td>2020</td>\n",
       "      <td>Chemistry</td>\n",
       "      <td>The Nobel Prize in Chemistry 2020</td>\n",
       "      <td>“for the development of a method for genome ed...</td>\n",
       "      <td>1/2</td>\n",
       "      <td>Individual</td>\n",
       "      <td>Emmanuelle Charpentier</td>\n",
       "      <td>1968-12-11</td>\n",
       "      <td>Juvisy-sur-Orge</td>\n",
       "      <td>France</td>\n",
       "      <td>France</td>\n",
       "      <td>Female</td>\n",
       "      <td>Max-Planck-Institut</td>\n",
       "      <td>Berlin</td>\n",
       "      <td>Germany</td>\n",
       "      <td>FRA</td>\n",
       "    </tr>\n",
       "    <tr>\n",
       "      <th>951</th>\n",
       "      <td>2020</td>\n",
       "      <td>Chemistry</td>\n",
       "      <td>The Nobel Prize in Chemistry 2020</td>\n",
       "      <td>“for the development of a method for genome ed...</td>\n",
       "      <td>1/2</td>\n",
       "      <td>Individual</td>\n",
       "      <td>Jennifer A. Doudna</td>\n",
       "      <td>1964-02-19</td>\n",
       "      <td>Washington, DC</td>\n",
       "      <td>United States of America</td>\n",
       "      <td>United States of America</td>\n",
       "      <td>Female</td>\n",
       "      <td>University of California</td>\n",
       "      <td>Berkeley, CA</td>\n",
       "      <td>United States of America</td>\n",
       "      <td>USA</td>\n",
       "    </tr>\n",
       "    <tr>\n",
       "      <th>952</th>\n",
       "      <td>2020</td>\n",
       "      <td>Economics</td>\n",
       "      <td>The Sveriges Riksbank Prize in Economic Scienc...</td>\n",
       "      <td>“for improvements to auction theory and invent...</td>\n",
       "      <td>1/2</td>\n",
       "      <td>Individual</td>\n",
       "      <td>Paul R. Milgrom</td>\n",
       "      <td>1948-04-20</td>\n",
       "      <td>Detroit, MI</td>\n",
       "      <td>United States of America</td>\n",
       "      <td>United States of America</td>\n",
       "      <td>Male</td>\n",
       "      <td>Stanford University</td>\n",
       "      <td>Stanford, CA</td>\n",
       "      <td>United States of America</td>\n",
       "      <td>USA</td>\n",
       "    </tr>\n",
       "  </tbody>\n",
       "</table>\n",
       "<p>962 rows × 16 columns</p>\n",
       "</div>"
      ],
      "text/plain": [
       "     year    category                                              prize  \\\n",
       "0    1901   Chemistry                  The Nobel Prize in Chemistry 1901   \n",
       "1    1901  Literature                 The Nobel Prize in Literature 1901   \n",
       "4    1901       Peace                         The Nobel Peace Prize 1901   \n",
       "3    1901       Peace                         The Nobel Peace Prize 1901   \n",
       "2    1901    Medicine     The Nobel Prize in Physiology or Medicine 1901   \n",
       "..    ...         ...                                                ...   \n",
       "956  2020    Medicine     The Nobel Prize in Physiology or Medicine 2020   \n",
       "957  2020    Medicine     The Nobel Prize in Physiology or Medicine 2020   \n",
       "950  2020   Chemistry                  The Nobel Prize in Chemistry 2020   \n",
       "951  2020   Chemistry                  The Nobel Prize in Chemistry 2020   \n",
       "952  2020   Economics  The Sveriges Riksbank Prize in Economic Scienc...   \n",
       "\n",
       "                                            motivation prize_share  \\\n",
       "0    \"in recognition of the extraordinary services ...         1/1   \n",
       "1    \"in special recognition of his poetic composit...         1/1   \n",
       "4                                                  NaN         1/2   \n",
       "3                                                  NaN         1/2   \n",
       "2    \"for his work on serum therapy, especially its...         1/1   \n",
       "..                                                 ...         ...   \n",
       "956           “for the discovery of Hepatitis C virus”         1/3   \n",
       "957           “for the discovery of Hepatitis C virus”         1/3   \n",
       "950  “for the development of a method for genome ed...         1/2   \n",
       "951  “for the development of a method for genome ed...         1/2   \n",
       "952  “for improvements to auction theory and invent...         1/2   \n",
       "\n",
       "    laureate_type                     full_name  birth_date  \\\n",
       "0      Individual  Jacobus Henricus van 't Hoff  1852-08-30   \n",
       "1      Individual               Sully Prudhomme  1839-03-16   \n",
       "4      Individual             Jean Henry Dunant  1828-05-08   \n",
       "3      Individual                Frédéric Passy  1822-05-20   \n",
       "2      Individual        Emil Adolf von Behring  1854-03-15   \n",
       "..            ...                           ...         ...   \n",
       "956    Individual               Harvey J. Alter  1935-09-12   \n",
       "957    Individual              Michael Houghton  1949-07-02   \n",
       "950    Individual        Emmanuelle Charpentier  1968-12-11   \n",
       "951    Individual            Jennifer A. Doudna  1964-02-19   \n",
       "952    Individual               Paul R. Milgrom  1948-04-20   \n",
       "\n",
       "            birth_city             birth_country     birth_country_current  \\\n",
       "0            Rotterdam               Netherlands               Netherlands   \n",
       "1                Paris                    France                    France   \n",
       "4               Geneva               Switzerland               Switzerland   \n",
       "3                Paris                    France                    France   \n",
       "2    Hansdorf (Lawice)          Prussia (Poland)                    Poland   \n",
       "..                 ...                       ...                       ...   \n",
       "956       New York, NY  United States of America  United States of America   \n",
       "957                NaN            United Kingdom            United Kingdom   \n",
       "950    Juvisy-sur-Orge                    France                    France   \n",
       "951     Washington, DC  United States of America  United States of America   \n",
       "952        Detroit, MI  United States of America  United States of America   \n",
       "\n",
       "        sex              organization_name organization_city  \\\n",
       "0      Male              Berlin University            Berlin   \n",
       "1      Male                            NaN               NaN   \n",
       "4      Male                            NaN               NaN   \n",
       "3      Male                            NaN               NaN   \n",
       "2      Male             Marburg University           Marburg   \n",
       "..      ...                            ...               ...   \n",
       "956    Male  National Institutes of Health      Bethesda, MD   \n",
       "957    Male          University of Alberta          Edmonton   \n",
       "950  Female            Max-Planck-Institut            Berlin   \n",
       "951  Female       University of California      Berkeley, CA   \n",
       "952    Male            Stanford University      Stanford, CA   \n",
       "\n",
       "         organization_country  ISO  \n",
       "0                     Germany  NLD  \n",
       "1                         NaN  FRA  \n",
       "4                         NaN  CHE  \n",
       "3                         NaN  FRA  \n",
       "2                     Germany  POL  \n",
       "..                        ...  ...  \n",
       "956  United States of America  USA  \n",
       "957                    Canada  GBR  \n",
       "950                   Germany  FRA  \n",
       "951  United States of America  USA  \n",
       "952  United States of America  USA  \n",
       "\n",
       "[962 rows x 16 columns]"
      ]
     },
     "execution_count": 6,
     "metadata": {},
     "output_type": "execute_result"
    }
   ],
   "source": [
    "data.sort_values([\"year\"])"
   ]
  },
  {
   "cell_type": "code",
   "execution_count": 7,
   "metadata": {},
   "outputs": [
    {
     "name": "stdout",
     "output_type": "stream",
     "text": [
      "The first year is: 1901\n",
      "The last year is: 2020\n"
     ]
    }
   ],
   "source": [
    "print(f\"The first year is: {data.sort_values(['year'])['year'][0]}\")\n",
    "print(f\"The last year is: {data.sort_values(['year'])['year'].iloc[-1]}\")"
   ]
  },
  {
   "cell_type": "markdown",
   "metadata": {},
   "source": [
    "## Cleaning the data"
   ]
  },
  {
   "cell_type": "markdown",
   "metadata": {},
   "source": [
    "### Finding duplicates"
   ]
  },
  {
   "cell_type": "code",
   "execution_count": 8,
   "metadata": {},
   "outputs": [
    {
     "name": "stdout",
     "output_type": "stream",
     "text": [
      "No duplicates found\n"
     ]
    }
   ],
   "source": [
    "if data[data.duplicated()].empty:\n",
    "    print(\"No duplicates found\")\n",
    "else:\n",
    "    print(\"Duplicated are: \")\n",
    "    data[data.duplicated()]"
   ]
  },
  {
   "cell_type": "markdown",
   "metadata": {},
   "source": [
    "### Finding NaN values"
   ]
  },
  {
   "cell_type": "code",
   "execution_count": 9,
   "metadata": {},
   "outputs": [
    {
     "data": {
      "text/plain": [
       "year                       0\n",
       "category                   0\n",
       "prize                      0\n",
       "motivation                88\n",
       "prize_share                0\n",
       "laureate_type              0\n",
       "full_name                  0\n",
       "birth_date                28\n",
       "birth_city                31\n",
       "birth_country             28\n",
       "birth_country_current     28\n",
       "sex                       28\n",
       "organization_name        255\n",
       "organization_city        255\n",
       "organization_country     254\n",
       "ISO                       28\n",
       "dtype: int64"
      ]
     },
     "execution_count": 9,
     "metadata": {},
     "output_type": "execute_result"
    }
   ],
   "source": [
    "data.isna().sum()"
   ]
  },
  {
   "cell_type": "markdown",
   "metadata": {},
   "source": [
    "The information on organizations tend to have a lot of missing values! Maybe the Nobel prize did not work for an organization?"
   ]
  },
  {
   "cell_type": "markdown",
   "metadata": {},
   "source": [
    "### Converting birthday to date_time object and prize_share to percentage"
   ]
  },
  {
   "cell_type": "code",
   "execution_count": 10,
   "metadata": {},
   "outputs": [],
   "source": [
    "data[\"birth_date\"] = pd.to_datetime(data[\"birth_date\"])"
   ]
  },
  {
   "cell_type": "code",
   "execution_count": 11,
   "metadata": {},
   "outputs": [
    {
     "data": {
      "text/plain": [
       "year                              int64\n",
       "category                         object\n",
       "prize                            object\n",
       "motivation                       object\n",
       "prize_share                      object\n",
       "laureate_type                    object\n",
       "full_name                        object\n",
       "birth_date               datetime64[ns]\n",
       "birth_city                       object\n",
       "birth_country                    object\n",
       "birth_country_current            object\n",
       "sex                              object\n",
       "organization_name                object\n",
       "organization_city                object\n",
       "organization_country             object\n",
       "ISO                              object\n",
       "dtype: object"
      ]
     },
     "execution_count": 11,
     "metadata": {},
     "output_type": "execute_result"
    }
   ],
   "source": [
    "data.dtypes"
   ]
  },
  {
   "cell_type": "code",
   "execution_count": 12,
   "metadata": {},
   "outputs": [
    {
     "data": {
      "text/html": [
       "<div>\n",
       "<style scoped>\n",
       "    .dataframe tbody tr th:only-of-type {\n",
       "        vertical-align: middle;\n",
       "    }\n",
       "\n",
       "    .dataframe tbody tr th {\n",
       "        vertical-align: top;\n",
       "    }\n",
       "\n",
       "    .dataframe thead th {\n",
       "        text-align: right;\n",
       "    }\n",
       "</style>\n",
       "<table border=\"1\" class=\"dataframe\">\n",
       "  <thead>\n",
       "    <tr style=\"text-align: right;\">\n",
       "      <th></th>\n",
       "      <th>year</th>\n",
       "      <th>category</th>\n",
       "      <th>prize</th>\n",
       "      <th>motivation</th>\n",
       "      <th>prize_share</th>\n",
       "      <th>laureate_type</th>\n",
       "      <th>full_name</th>\n",
       "      <th>birth_date</th>\n",
       "      <th>birth_city</th>\n",
       "      <th>birth_country</th>\n",
       "      <th>birth_country_current</th>\n",
       "      <th>sex</th>\n",
       "      <th>organization_name</th>\n",
       "      <th>organization_city</th>\n",
       "      <th>organization_country</th>\n",
       "      <th>ISO</th>\n",
       "    </tr>\n",
       "  </thead>\n",
       "  <tbody>\n",
       "    <tr>\n",
       "      <th>0</th>\n",
       "      <td>1901</td>\n",
       "      <td>Chemistry</td>\n",
       "      <td>The Nobel Prize in Chemistry 1901</td>\n",
       "      <td>\"in recognition of the extraordinary services ...</td>\n",
       "      <td>1/1</td>\n",
       "      <td>Individual</td>\n",
       "      <td>Jacobus Henricus van 't Hoff</td>\n",
       "      <td>1852-08-30</td>\n",
       "      <td>Rotterdam</td>\n",
       "      <td>Netherlands</td>\n",
       "      <td>Netherlands</td>\n",
       "      <td>Male</td>\n",
       "      <td>Berlin University</td>\n",
       "      <td>Berlin</td>\n",
       "      <td>Germany</td>\n",
       "      <td>NLD</td>\n",
       "    </tr>\n",
       "    <tr>\n",
       "      <th>1</th>\n",
       "      <td>1901</td>\n",
       "      <td>Literature</td>\n",
       "      <td>The Nobel Prize in Literature 1901</td>\n",
       "      <td>\"in special recognition of his poetic composit...</td>\n",
       "      <td>1/1</td>\n",
       "      <td>Individual</td>\n",
       "      <td>Sully Prudhomme</td>\n",
       "      <td>1839-03-16</td>\n",
       "      <td>Paris</td>\n",
       "      <td>France</td>\n",
       "      <td>France</td>\n",
       "      <td>Male</td>\n",
       "      <td>NaN</td>\n",
       "      <td>NaN</td>\n",
       "      <td>NaN</td>\n",
       "      <td>FRA</td>\n",
       "    </tr>\n",
       "    <tr>\n",
       "      <th>2</th>\n",
       "      <td>1901</td>\n",
       "      <td>Medicine</td>\n",
       "      <td>The Nobel Prize in Physiology or Medicine 1901</td>\n",
       "      <td>\"for his work on serum therapy, especially its...</td>\n",
       "      <td>1/1</td>\n",
       "      <td>Individual</td>\n",
       "      <td>Emil Adolf von Behring</td>\n",
       "      <td>1854-03-15</td>\n",
       "      <td>Hansdorf (Lawice)</td>\n",
       "      <td>Prussia (Poland)</td>\n",
       "      <td>Poland</td>\n",
       "      <td>Male</td>\n",
       "      <td>Marburg University</td>\n",
       "      <td>Marburg</td>\n",
       "      <td>Germany</td>\n",
       "      <td>POL</td>\n",
       "    </tr>\n",
       "    <tr>\n",
       "      <th>3</th>\n",
       "      <td>1901</td>\n",
       "      <td>Peace</td>\n",
       "      <td>The Nobel Peace Prize 1901</td>\n",
       "      <td>NaN</td>\n",
       "      <td>1/2</td>\n",
       "      <td>Individual</td>\n",
       "      <td>Frédéric Passy</td>\n",
       "      <td>1822-05-20</td>\n",
       "      <td>Paris</td>\n",
       "      <td>France</td>\n",
       "      <td>France</td>\n",
       "      <td>Male</td>\n",
       "      <td>NaN</td>\n",
       "      <td>NaN</td>\n",
       "      <td>NaN</td>\n",
       "      <td>FRA</td>\n",
       "    </tr>\n",
       "    <tr>\n",
       "      <th>4</th>\n",
       "      <td>1901</td>\n",
       "      <td>Peace</td>\n",
       "      <td>The Nobel Peace Prize 1901</td>\n",
       "      <td>NaN</td>\n",
       "      <td>1/2</td>\n",
       "      <td>Individual</td>\n",
       "      <td>Jean Henry Dunant</td>\n",
       "      <td>1828-05-08</td>\n",
       "      <td>Geneva</td>\n",
       "      <td>Switzerland</td>\n",
       "      <td>Switzerland</td>\n",
       "      <td>Male</td>\n",
       "      <td>NaN</td>\n",
       "      <td>NaN</td>\n",
       "      <td>NaN</td>\n",
       "      <td>CHE</td>\n",
       "    </tr>\n",
       "  </tbody>\n",
       "</table>\n",
       "</div>"
      ],
      "text/plain": [
       "   year    category                                           prize  \\\n",
       "0  1901   Chemistry               The Nobel Prize in Chemistry 1901   \n",
       "1  1901  Literature              The Nobel Prize in Literature 1901   \n",
       "2  1901    Medicine  The Nobel Prize in Physiology or Medicine 1901   \n",
       "3  1901       Peace                      The Nobel Peace Prize 1901   \n",
       "4  1901       Peace                      The Nobel Peace Prize 1901   \n",
       "\n",
       "                                          motivation prize_share  \\\n",
       "0  \"in recognition of the extraordinary services ...         1/1   \n",
       "1  \"in special recognition of his poetic composit...         1/1   \n",
       "2  \"for his work on serum therapy, especially its...         1/1   \n",
       "3                                                NaN         1/2   \n",
       "4                                                NaN         1/2   \n",
       "\n",
       "  laureate_type                     full_name birth_date         birth_city  \\\n",
       "0    Individual  Jacobus Henricus van 't Hoff 1852-08-30          Rotterdam   \n",
       "1    Individual               Sully Prudhomme 1839-03-16              Paris   \n",
       "2    Individual        Emil Adolf von Behring 1854-03-15  Hansdorf (Lawice)   \n",
       "3    Individual                Frédéric Passy 1822-05-20              Paris   \n",
       "4    Individual             Jean Henry Dunant 1828-05-08             Geneva   \n",
       "\n",
       "      birth_country birth_country_current   sex   organization_name  \\\n",
       "0       Netherlands           Netherlands  Male   Berlin University   \n",
       "1            France                France  Male                 NaN   \n",
       "2  Prussia (Poland)                Poland  Male  Marburg University   \n",
       "3            France                France  Male                 NaN   \n",
       "4       Switzerland           Switzerland  Male                 NaN   \n",
       "\n",
       "  organization_city organization_country  ISO  \n",
       "0            Berlin              Germany  NLD  \n",
       "1               NaN                  NaN  FRA  \n",
       "2           Marburg              Germany  POL  \n",
       "3               NaN                  NaN  FRA  \n",
       "4               NaN                  NaN  CHE  "
      ]
     },
     "execution_count": 12,
     "metadata": {},
     "output_type": "execute_result"
    }
   ],
   "source": [
    "data.head()"
   ]
  },
  {
   "cell_type": "code",
   "execution_count": 13,
   "metadata": {},
   "outputs": [
    {
     "name": "stdout",
     "output_type": "stream",
     "text": [
      "<class 'pandas.core.frame.DataFrame'>\n",
      "RangeIndex: 962 entries, 0 to 961\n",
      "Data columns (total 17 columns):\n",
      " #   Column                 Non-Null Count  Dtype         \n",
      "---  ------                 --------------  -----         \n",
      " 0   year                   962 non-null    int64         \n",
      " 1   category               962 non-null    object        \n",
      " 2   prize                  962 non-null    object        \n",
      " 3   motivation             874 non-null    object        \n",
      " 4   prize_share            962 non-null    object        \n",
      " 5   laureate_type          962 non-null    object        \n",
      " 6   full_name              962 non-null    object        \n",
      " 7   birth_date             934 non-null    datetime64[ns]\n",
      " 8   birth_city             931 non-null    object        \n",
      " 9   birth_country          934 non-null    object        \n",
      " 10  birth_country_current  934 non-null    object        \n",
      " 11  sex                    934 non-null    object        \n",
      " 12  organization_name      707 non-null    object        \n",
      " 13  organization_city      707 non-null    object        \n",
      " 14  organization_country   708 non-null    object        \n",
      " 15  ISO                    934 non-null    object        \n",
      " 16  prize_pct              962 non-null    float64       \n",
      "dtypes: datetime64[ns](1), float64(1), int64(1), object(14)\n",
      "memory usage: 127.9+ KB\n"
     ]
    }
   ],
   "source": [
    "a = pd.DataFrame([int(item[0]) for item in data[\"prize_share\"]])\n",
    "b = pd.DataFrame([int(item[2]) for item in data[\"prize_share\"]])\n",
    "data[\"prize_pct\"] = a/b\n",
    "data.info()"
   ]
  },
  {
   "cell_type": "markdown",
   "metadata": {},
   "source": [
    "## Men vs Women"
   ]
  },
  {
   "cell_type": "markdown",
   "metadata": {},
   "source": [
    "Let us check the men vs women winners per year!\n",
    "First, year to number convertion."
   ]
  },
  {
   "cell_type": "code",
   "execution_count": 14,
   "metadata": {},
   "outputs": [],
   "source": [
    "data[\"year\"] = data[\"year\"].astype(int)"
   ]
  },
  {
   "cell_type": "markdown",
   "metadata": {},
   "source": [
    "Next, plotting a pie chart! "
   ]
  },
  {
   "cell_type": "code",
   "execution_count": 15,
   "metadata": {},
   "outputs": [
    {
     "data": {
      "image/png": "[encoded data removed]",
      "text/plain": [
       "<Figure size 640x480 with 1 Axes>"
      ]
     },
     "metadata": {},
     "output_type": "display_data"
    }
   ],
   "source": [
    "gender = data.sex.value_counts()\n",
    "def make_autopct(values):\n",
    "    def my_autopct(pct):\n",
    "        total = sum(values)\n",
    "        val = int(round(pct*total/100.0))\n",
    "        return '{p:.2f}%  ({v:d})'.format(p=pct,v=val)\n",
    "    return my_autopct\n",
    "\n",
    "plt.pie(x=gender.values,\n",
    "       labels=gender.index,\n",
    "        autopct=make_autopct(gender.values)\n",
    "       )\n",
    "plt.title(\"Prizes as given to men and women\")\n",
    "plt.show()"
   ]
  },
  {
   "cell_type": "markdown",
   "metadata": {},
   "source": [
    "How many men vs women has won the prize pver the years?"
   ]
  },
  {
   "cell_type": "code",
   "execution_count": null,
   "metadata": {},
   "outputs": [],
   "source": []
  },
  {
   "cell_type": "code",
   "execution_count": 16,
   "metadata": {},
   "outputs": [
    {
     "data": {
      "image/png": "[encoded data removed]",
      "text/plain": [
       "<Figure size 640x480 with 1 Axes>"
      ]
     },
     "metadata": {},
     "output_type": "display_data"
    }
   ],
   "source": [
    "male_time = data[data['sex']=='Male'].groupby(['year']).count()\n",
    "woman_time = data[data['sex']=='Female'].groupby(['year']).count()\n",
    "plt.plot(male_time['sex'], label='Men')\n",
    "plt.plot(woman_time['sex'], label='Women')\n",
    "plt.legend()\n",
    "plt.title('Nobel Prize winners')\n",
    "plt.show()"
   ]
  },
  {
   "cell_type": "markdown",
   "metadata": {},
   "source": [
    "There has been always a woman winning the prize. Only at about 1970 there has been moew than 1. "
   ]
  },
  {
   "cell_type": "markdown",
   "metadata": {},
   "source": [
    "### Three first female laureates"
   ]
  },
  {
   "cell_type": "code",
   "execution_count": 17,
   "metadata": {},
   "outputs": [
    {
     "data": {
      "text/html": [
       "<div>\n",
       "<style scoped>\n",
       "    .dataframe tbody tr th:only-of-type {\n",
       "        vertical-align: middle;\n",
       "    }\n",
       "\n",
       "    .dataframe tbody tr th {\n",
       "        vertical-align: top;\n",
       "    }\n",
       "\n",
       "    .dataframe thead th {\n",
       "        text-align: right;\n",
       "    }\n",
       "</style>\n",
       "<table border=\"1\" class=\"dataframe\">\n",
       "  <thead>\n",
       "    <tr style=\"text-align: right;\">\n",
       "      <th></th>\n",
       "      <th>full_name</th>\n",
       "      <th>prize</th>\n",
       "      <th>birth_country</th>\n",
       "      <th>organization_name</th>\n",
       "    </tr>\n",
       "  </thead>\n",
       "  <tbody>\n",
       "    <tr>\n",
       "      <th>18</th>\n",
       "      <td>Marie Curie, née Sklodowska</td>\n",
       "      <td>The Nobel Prize in Physics 1903</td>\n",
       "      <td>Russian Empire (Poland)</td>\n",
       "      <td>NaN</td>\n",
       "    </tr>\n",
       "    <tr>\n",
       "      <th>29</th>\n",
       "      <td>Baroness Bertha Sophie Felicita von Suttner, n...</td>\n",
       "      <td>The Nobel Peace Prize 1905</td>\n",
       "      <td>Austrian Empire (Czech Republic)</td>\n",
       "      <td>NaN</td>\n",
       "    </tr>\n",
       "    <tr>\n",
       "      <th>51</th>\n",
       "      <td>Selma Ottilia Lovisa Lagerlöf</td>\n",
       "      <td>The Nobel Prize in Literature 1909</td>\n",
       "      <td>Sweden</td>\n",
       "      <td>NaN</td>\n",
       "    </tr>\n",
       "  </tbody>\n",
       "</table>\n",
       "</div>"
      ],
      "text/plain": [
       "                                            full_name  \\\n",
       "18                        Marie Curie, née Sklodowska   \n",
       "29  Baroness Bertha Sophie Felicita von Suttner, n...   \n",
       "51                      Selma Ottilia Lovisa Lagerlöf   \n",
       "\n",
       "                                 prize                     birth_country  \\\n",
       "18     The Nobel Prize in Physics 1903           Russian Empire (Poland)   \n",
       "29          The Nobel Peace Prize 1905  Austrian Empire (Czech Republic)   \n",
       "51  The Nobel Prize in Literature 1909                            Sweden   \n",
       "\n",
       "   organization_name  \n",
       "18               NaN  \n",
       "29               NaN  \n",
       "51               NaN  "
      ]
     },
     "execution_count": 17,
     "metadata": {},
     "output_type": "execute_result"
    }
   ],
   "source": [
    "data[data['sex']=='Female'].sort_values(['year']).head(3)[['full_name', 'prize', 'birth_country', 'organization_name']]"
   ]
  },
  {
   "cell_type": "markdown",
   "metadata": {},
   "source": [
    "### Those who won the Nobel Prize more than once"
   ]
  },
  {
   "cell_type": "code",
   "execution_count": 18,
   "metadata": {},
   "outputs": [
    {
     "data": {
      "text/html": [
       "<div>\n",
       "<style scoped>\n",
       "    .dataframe tbody tr th:only-of-type {\n",
       "        vertical-align: middle;\n",
       "    }\n",
       "\n",
       "    .dataframe tbody tr th {\n",
       "        vertical-align: top;\n",
       "    }\n",
       "\n",
       "    .dataframe thead th {\n",
       "        text-align: right;\n",
       "    }\n",
       "</style>\n",
       "<table border=\"1\" class=\"dataframe\">\n",
       "  <thead>\n",
       "    <tr style=\"text-align: right;\">\n",
       "      <th></th>\n",
       "      <th>prize</th>\n",
       "      <th>full_name</th>\n",
       "      <th>organization_name</th>\n",
       "    </tr>\n",
       "  </thead>\n",
       "  <tbody>\n",
       "    <tr>\n",
       "      <th>89</th>\n",
       "      <td>The Nobel Peace Prize 1917</td>\n",
       "      <td>Comité international de la Croix Rouge (Intern...</td>\n",
       "      <td>NaN</td>\n",
       "    </tr>\n",
       "    <tr>\n",
       "      <th>215</th>\n",
       "      <td>The Nobel Peace Prize 1944</td>\n",
       "      <td>Comité international de la Croix Rouge (Intern...</td>\n",
       "      <td>NaN</td>\n",
       "    </tr>\n",
       "    <tr>\n",
       "      <th>348</th>\n",
       "      <td>The Nobel Peace Prize 1963</td>\n",
       "      <td>Comité international de la Croix Rouge (Intern...</td>\n",
       "      <td>NaN</td>\n",
       "    </tr>\n",
       "    <tr>\n",
       "      <th>306</th>\n",
       "      <td>The Nobel Prize in Chemistry 1958</td>\n",
       "      <td>Frederick Sanger</td>\n",
       "      <td>University of Cambridge</td>\n",
       "    </tr>\n",
       "    <tr>\n",
       "      <th>505</th>\n",
       "      <td>The Nobel Prize in Chemistry 1980</td>\n",
       "      <td>Frederick Sanger</td>\n",
       "      <td>MRC Laboratory of Molecular Biology</td>\n",
       "    </tr>\n",
       "    <tr>\n",
       "      <th>297</th>\n",
       "      <td>The Nobel Prize in Physics 1956</td>\n",
       "      <td>John Bardeen</td>\n",
       "      <td>University of Illinois</td>\n",
       "    </tr>\n",
       "    <tr>\n",
       "      <th>424</th>\n",
       "      <td>The Nobel Prize in Physics 1972</td>\n",
       "      <td>John Bardeen</td>\n",
       "      <td>University of Illinois</td>\n",
       "    </tr>\n",
       "    <tr>\n",
       "      <th>278</th>\n",
       "      <td>The Nobel Prize in Chemistry 1954</td>\n",
       "      <td>Linus Carl Pauling</td>\n",
       "      <td>California Institute of Technology (Caltech)</td>\n",
       "    </tr>\n",
       "    <tr>\n",
       "      <th>340</th>\n",
       "      <td>The Nobel Peace Prize 1962</td>\n",
       "      <td>Linus Carl Pauling</td>\n",
       "      <td>California Institute of Technology (Caltech)</td>\n",
       "    </tr>\n",
       "    <tr>\n",
       "      <th>18</th>\n",
       "      <td>The Nobel Prize in Physics 1903</td>\n",
       "      <td>Marie Curie, née Sklodowska</td>\n",
       "      <td>NaN</td>\n",
       "    </tr>\n",
       "    <tr>\n",
       "      <th>62</th>\n",
       "      <td>The Nobel Prize in Chemistry 1911</td>\n",
       "      <td>Marie Curie, née Sklodowska</td>\n",
       "      <td>Sorbonne University</td>\n",
       "    </tr>\n",
       "    <tr>\n",
       "      <th>283</th>\n",
       "      <td>The Nobel Peace Prize 1954</td>\n",
       "      <td>Office of the United Nations High Commissioner...</td>\n",
       "      <td>NaN</td>\n",
       "    </tr>\n",
       "    <tr>\n",
       "      <th>523</th>\n",
       "      <td>The Nobel Peace Prize 1981</td>\n",
       "      <td>Office of the United Nations High Commissioner...</td>\n",
       "      <td>NaN</td>\n",
       "    </tr>\n",
       "  </tbody>\n",
       "</table>\n",
       "</div>"
      ],
      "text/plain": [
       "                                 prize  \\\n",
       "89          The Nobel Peace Prize 1917   \n",
       "215         The Nobel Peace Prize 1944   \n",
       "348         The Nobel Peace Prize 1963   \n",
       "306  The Nobel Prize in Chemistry 1958   \n",
       "505  The Nobel Prize in Chemistry 1980   \n",
       "297    The Nobel Prize in Physics 1956   \n",
       "424    The Nobel Prize in Physics 1972   \n",
       "278  The Nobel Prize in Chemistry 1954   \n",
       "340         The Nobel Peace Prize 1962   \n",
       "18     The Nobel Prize in Physics 1903   \n",
       "62   The Nobel Prize in Chemistry 1911   \n",
       "283         The Nobel Peace Prize 1954   \n",
       "523         The Nobel Peace Prize 1981   \n",
       "\n",
       "                                             full_name  \\\n",
       "89   Comité international de la Croix Rouge (Intern...   \n",
       "215  Comité international de la Croix Rouge (Intern...   \n",
       "348  Comité international de la Croix Rouge (Intern...   \n",
       "306                                   Frederick Sanger   \n",
       "505                                   Frederick Sanger   \n",
       "297                                       John Bardeen   \n",
       "424                                       John Bardeen   \n",
       "278                                 Linus Carl Pauling   \n",
       "340                                 Linus Carl Pauling   \n",
       "18                         Marie Curie, née Sklodowska   \n",
       "62                         Marie Curie, née Sklodowska   \n",
       "283  Office of the United Nations High Commissioner...   \n",
       "523  Office of the United Nations High Commissioner...   \n",
       "\n",
       "                                organization_name  \n",
       "89                                            NaN  \n",
       "215                                           NaN  \n",
       "348                                           NaN  \n",
       "306                       University of Cambridge  \n",
       "505           MRC Laboratory of Molecular Biology  \n",
       "297                        University of Illinois  \n",
       "424                        University of Illinois  \n",
       "278  California Institute of Technology (Caltech)  \n",
       "340  California Institute of Technology (Caltech)  \n",
       "18                                            NaN  \n",
       "62                            Sorbonne University  \n",
       "283                                           NaN  \n",
       "523                                           NaN  "
      ]
     },
     "execution_count": 18,
     "metadata": {},
     "output_type": "execute_result"
    }
   ],
   "source": [
    "data[data['full_name'].duplicated(keep=False)].sort_values(['full_name'])[['prize', 'full_name', 'organization_name']]"
   ]
  },
  {
   "cell_type": "markdown",
   "metadata": {},
   "source": [
    "Several persons, several years, and several organizations! "
   ]
  },
  {
   "cell_type": "markdown",
   "metadata": {},
   "source": [
    "### Category of prizes"
   ]
  },
  {
   "cell_type": "code",
   "execution_count": 19,
   "metadata": {},
   "outputs": [
    {
     "name": "stdout",
     "output_type": "stream",
     "text": [
      "The categories of the Nobel Prize are:\n",
      "- Chemistry.\n",
      "- Literature.\n",
      "- Medicine.\n",
      "- Peace.\n",
      "- Physics.\n",
      "- Economics.\n"
     ]
    }
   ],
   "source": [
    "categories = data.category.unique()\n",
    "print(f'The categories of the Nobel Prize are:')\n",
    "for cat in categories: \n",
    "    print(f'- {cat}.')\n"
   ]
  },
  {
   "cell_type": "markdown",
   "metadata": {},
   "source": [
    "Number of Nobel Prize per category. "
   ]
  },
  {
   "cell_type": "code",
   "execution_count": 20,
   "metadata": {},
   "outputs": [
    {
     "data": {
      "text/html": [
       "<iframe\n",
       "    scrolling=\"no\"\n",
       "    width=\"100%\"\n",
       "    height=\"545px\"\n",
       "    src=\"iframe_figures/figure_20.html\"\n",
       "    frameborder=\"0\"\n",
       "    allowfullscreen\n",
       "></iframe>\n"
      ]
     },
     "metadata": {},
     "output_type": "display_data"
    }
   ],
   "source": [
    "prize_per_cat = data.category.value_counts()\n",
    "\n",
    "fig = px.bar(x=prize_per_cat.index, \n",
    "             y=prize_per_cat.values,\n",
    "            )\n",
    "\n",
    "fig.update_layout(xaxis_title='Nobel Prize Category', \n",
    "                    yaxis_title='Number of Prizes')\n",
    "fig.show(renderer='iframe')"
   ]
  },
  {
   "cell_type": "markdown",
   "metadata": {},
   "source": [
    "Medicine is the cateogry with most prizes, and economics the one with less! "
   ]
  },
  {
   "cell_type": "markdown",
   "metadata": {},
   "source": [
    "### Economics first prize"
   ]
  },
  {
   "cell_type": "code",
   "execution_count": 21,
   "metadata": {},
   "outputs": [
    {
     "data": {
      "text/html": [
       "<div>\n",
       "<style scoped>\n",
       "    .dataframe tbody tr th:only-of-type {\n",
       "        vertical-align: middle;\n",
       "    }\n",
       "\n",
       "    .dataframe tbody tr th {\n",
       "        vertical-align: top;\n",
       "    }\n",
       "\n",
       "    .dataframe thead th {\n",
       "        text-align: right;\n",
       "    }\n",
       "</style>\n",
       "<table border=\"1\" class=\"dataframe\">\n",
       "  <thead>\n",
       "    <tr style=\"text-align: right;\">\n",
       "      <th></th>\n",
       "      <th>year</th>\n",
       "      <th>category</th>\n",
       "      <th>full_name</th>\n",
       "    </tr>\n",
       "  </thead>\n",
       "  <tbody>\n",
       "    <tr>\n",
       "      <th>393</th>\n",
       "      <td>1969</td>\n",
       "      <td>Economics</td>\n",
       "      <td>Jan Tinbergen</td>\n",
       "    </tr>\n",
       "    <tr>\n",
       "      <th>394</th>\n",
       "      <td>1969</td>\n",
       "      <td>Economics</td>\n",
       "      <td>Ragnar Frisch</td>\n",
       "    </tr>\n",
       "    <tr>\n",
       "      <th>402</th>\n",
       "      <td>1970</td>\n",
       "      <td>Economics</td>\n",
       "      <td>Paul A. Samuelson</td>\n",
       "    </tr>\n",
       "  </tbody>\n",
       "</table>\n",
       "</div>"
      ],
      "text/plain": [
       "     year   category          full_name\n",
       "393  1969  Economics      Jan Tinbergen\n",
       "394  1969  Economics      Ragnar Frisch\n",
       "402  1970  Economics  Paul A. Samuelson"
      ]
     },
     "execution_count": 21,
     "metadata": {},
     "output_type": "execute_result"
    }
   ],
   "source": [
    "data[data['category']=='Economics'][['year', 'category', 'full_name']].sort_values('year').head(3)"
   ]
  },
  {
   "cell_type": "markdown",
   "metadata": {},
   "source": [
    "First prize of economics awarded to Jan Tinbergen in 1969. "
   ]
  },
  {
   "cell_type": "markdown",
   "metadata": {},
   "source": [
    "### Number of Prizes per category and gender"
   ]
  },
  {
   "cell_type": "code",
   "execution_count": 22,
   "metadata": {},
   "outputs": [
    {
     "data": {
      "text/html": [
       "<iframe\n",
       "    scrolling=\"no\"\n",
       "    width=\"100%\"\n",
       "    height=\"545px\"\n",
       "    src=\"iframe_figures/figure_22.html\"\n",
       "    frameborder=\"0\"\n",
       "    allowfullscreen\n",
       "></iframe>\n"
      ]
     },
     "metadata": {},
     "output_type": "display_data"
    }
   ],
   "source": [
    "# data_per_gender = data.groupby(['category','sex'], as_index=False).agg({'prize': pd.Series.count})\n",
    "# data_per_gender\n",
    "data_per_gender = data.groupby(['category','sex'], as_index=False).count()\n",
    "data_per_gender\n",
    "fig = px.bar(data_per_gender,\n",
    "             x='category',\n",
    "             y='prize',\n",
    "             color='sex')\n",
    "fig.update_layout(xaxis={'categoryorder':'total descending'})\n",
    "fig.show(renderer='iframe')\n",
    "# fig.show(renderer='iframe_connected')\n",
    "# fig.show(renderer='colab')"
   ]
  },
  {
   "cell_type": "markdown",
   "metadata": {},
   "source": [
    "## Trends over time"
   ]
  },
  {
   "cell_type": "code",
   "execution_count": 23,
   "metadata": {},
   "outputs": [
    {
     "data": {
      "text/html": [
       "<iframe\n",
       "    scrolling=\"no\"\n",
       "    width=\"100%\"\n",
       "    height=\"545px\"\n",
       "    src=\"iframe_figures/figure_23.html\"\n",
       "    frameborder=\"0\"\n",
       "    allowfullscreen\n",
       "></iframe>\n"
      ]
     },
     "metadata": {},
     "output_type": "display_data"
    }
   ],
   "source": [
    "data_trend = data.groupby('year', as_index=False).count()\n",
    "data_trend['rolling'] = data_trend.prize.rolling(5).mean()\n",
    "data_trend\n",
    "fig = px.line(data_trend,\n",
    "       x='year',\n",
    "       y=['prize', 'rolling'],\n",
    "        title='Number of Nobel prizes vs Year')\n",
    "fig.update_traces(line_width=2)\n",
    "fig.update_layout(yaxis_title=\"prize number and rolling mean (5)\")\n",
    "fig.show(renderer='iframe')\n",
    "\n",
    "# fig.show(renderer='iframe_connected')\n",
    "# fig.show(renderer='colab')"
   ]
  },
  {
   "cell_type": "markdown",
   "metadata": {},
   "source": [
    "Checking the prize share over time"
   ]
  },
  {
   "cell_type": "code",
   "execution_count": 24,
   "metadata": {},
   "outputs": [],
   "source": [
    "prize_share_val = []\n",
    "for share in data.prize_share:\n",
    "    fraction = share.split(\"/\")\n",
    "    fraction = float(fraction[0]) / float(fraction[1])\n",
    "    prize_share_val.append(fraction)\n",
    "    #print(fraction)\n",
    "data['prize_share_val'] = prize_share_val\n"
   ]
  },
  {
   "cell_type": "code",
   "execution_count": 25,
   "metadata": {},
   "outputs": [],
   "source": [
    "#data_trend['prize_share_val'] = data.groupby('year').agg({'prize_share_val': pd.Series.mean})\n",
    "calculation = data.groupby('year').agg({'prize_share_val': pd.Series.mean})\n",
    "data_trend['prize_share_val'] = calculation.values\n"
   ]
  },
  {
   "cell_type": "code",
   "execution_count": 26,
   "metadata": {},
   "outputs": [
    {
     "data": {
      "text/html": [
       "<iframe\n",
       "    scrolling=\"no\"\n",
       "    width=\"100%\"\n",
       "    height=\"545px\"\n",
       "    src=\"iframe_figures/figure_26.html\"\n",
       "    frameborder=\"0\"\n",
       "    allowfullscreen\n",
       "></iframe>\n"
      ]
     },
     "metadata": {},
     "output_type": "display_data"
    }
   ],
   "source": [
    "from plotly.subplots import make_subplots\n",
    " \n",
    "# use specs parameter in make_subplots function\n",
    "# to create secondary y-axis\n",
    "fig = make_subplots(specs=[[{\"secondary_y\": True}]])\n",
    "fig.add_trace(go.Scatter(x=data_trend.year, y=data_trend.prize, mode='lines', name=\"prize\"), secondary_y=False)\n",
    "fig.add_trace(go.Scatter(x=data_trend.year, y=data_trend.prize_share_val, mode='lines', name=\"share\"), secondary_y=True)\n",
    "fig.update_layout(yaxis_title=\"prize and share\", xaxis_title=\"year\")\n",
    "fig.show(renderer='iframe')\n",
    "# fig.show(renderer='iframe_connected')\n",
    "# fig.show(renderer='colab')"
   ]
  },
  {
   "cell_type": "markdown",
   "metadata": {},
   "source": [
    "## Prizes per country"
   ]
  },
  {
   "cell_type": "markdown",
   "metadata": {},
   "source": [
    "There are two columns with birth_country indormation. What is the difference? The following cell shows the countries of the column \"birth_country\". Interestingly, some sountries do not exist any longer. Hence, at the time of birth of the person who won the prize, the countries were different that today. "
   ]
  },
  {
   "cell_type": "code",
   "execution_count": 27,
   "metadata": {},
   "outputs": [
    {
     "name": "stdout",
     "output_type": "stream",
     "text": [
      "Argentina\n",
      "Australia\n",
      "Austria\n",
      "Austria-Hungary (Austria)\n",
      "Austria-Hungary (Bosnia and Herzegovina)\n",
      "Austria-Hungary (Croatia)\n",
      "Austria-Hungary (Czech Republic)\n",
      "Austria-Hungary (Hungary)\n",
      "Austria-Hungary (Poland)\n",
      "Austria-Hungary (Slovenia)\n",
      "Austria-Hungary (Ukraine)\n",
      "Austrian Empire (Austria)\n",
      "Austrian Empire (Czech Republic)\n",
      "Austrian Empire (Italy)\n",
      "Bavaria (Germany)\n",
      "Belgium\n",
      "Bosnia (Bosnia and Herzegovina)\n",
      "Brazil\n",
      "British India (Bangladesh)\n",
      "British India (India)\n",
      "British Mandate of Palestine (Israel)\n",
      "British Protectorate of Palestine (Israel)\n",
      "British West Indies (Saint Lucia)\n",
      "Bulgaria\n",
      "Burma (Myanmar)\n",
      "Canada\n",
      "Chile\n",
      "China\n",
      "Colombia\n",
      "Costa Rica\n",
      "Crete (Greece)\n",
      "Cyprus\n",
      "Czechoslovakia (Czech Republic)\n",
      "Democratic Republic of the Congo\n",
      "Denmark\n",
      "East Friesland (Germany)\n",
      "East Timor\n",
      "Egypt\n",
      "Ethiopia\n",
      "Faroe Islands (Denmark)\n",
      "Finland\n",
      "France\n",
      "Free City of Danzig (Poland)\n",
      "French Algeria (Algeria)\n",
      "German-occupied Poland (Poland)\n",
      "Germany\n",
      "Germany (France)\n",
      "Germany (Poland)\n",
      "Germany (Russia)\n",
      "Gold Coast (Ghana)\n",
      "Guadeloupe Island\n",
      "Guatemala\n",
      "Hesse-Kassel (Germany)\n",
      "Hungary\n",
      "Hungary (Slovakia)\n",
      "Iceland\n",
      "India\n",
      "India (Pakistan)\n",
      "Iran\n",
      "Iraq\n",
      "Ireland\n",
      "Italy\n",
      "Japan\n",
      "Java, Dutch East Indies (Indonesia)\n",
      "Kenya\n",
      "Korea (South Korea)\n",
      "Liberia\n",
      "Lithuania\n",
      "Luxembourg\n",
      "Madagascar\n",
      "Mecklenburg (Germany)\n",
      "Mexico\n",
      "Morocco\n",
      "Netherlands\n",
      "New Zealand\n",
      "Nigeria\n",
      "Northern Ireland\n",
      "Norway\n",
      "Ottoman Empire (Republic of Macedonia)\n",
      "Ottoman Empire (Turkey)\n",
      "Pakistan\n",
      "Persia (Iran)\n",
      "Peru\n",
      "Poland\n",
      "Poland (Belarus)\n",
      "Poland (Lithuania)\n",
      "Poland (Ukraine)\n",
      "Portugal\n",
      "Prussia (Germany)\n",
      "Prussia (Poland)\n",
      "Prussia (Russia)\n",
      "Romania\n",
      "Russia\n",
      "Russian Empire (Azerbaijan)\n",
      "Russian Empire (Belarus)\n",
      "Russian Empire (Finland)\n",
      "Russian Empire (Latvia)\n",
      "Russian Empire (Lithuania)\n",
      "Russian Empire (Poland)\n",
      "Russian Empire (Russia)\n",
      "Russian Empire (Ukraine)\n",
      "Saint Lucia\n",
      "Schleswig (Germany)\n",
      "Scotland\n",
      "South Africa\n",
      "Southern Rhodesia (Zimbabwe)\n",
      "Spain\n",
      "Sweden\n",
      "Switzerland\n",
      "Taiwan\n",
      "Tibet (People's Republic of China)\n",
      "Trinidad\n",
      "Turkey\n",
      "Tuscany (Italy)\n",
      "Ukraine\n",
      "Union of Soviet Socialist Republics (Belarus)\n",
      "Union of Soviet Socialist Republics (Russia)\n",
      "United Kingdom\n",
      "United States of America\n",
      "Venezuela\n",
      "Vietnam\n",
      "W&uuml;rttemberg (Germany)\n",
      "West Germany (Germany)\n",
      "Yemen\n"
     ]
    }
   ],
   "source": [
    "top_country = data[['prize', 'birth_country', 'ISO']].groupby(\"birth_country\", as_index=False).agg({'prize': pd.Series.count, 'ISO': pd.Series.min})\n",
    "for country in top_country['birth_country'].unique():\n",
    "    print(country)"
   ]
  },
  {
   "cell_type": "code",
   "execution_count": 28,
   "metadata": {},
   "outputs": [
    {
     "data": {
      "text/html": [
       "<div>\n",
       "<style scoped>\n",
       "    .dataframe tbody tr th:only-of-type {\n",
       "        vertical-align: middle;\n",
       "    }\n",
       "\n",
       "    .dataframe tbody tr th {\n",
       "        vertical-align: top;\n",
       "    }\n",
       "\n",
       "    .dataframe thead th {\n",
       "        text-align: right;\n",
       "    }\n",
       "</style>\n",
       "<table border=\"1\" class=\"dataframe\">\n",
       "  <thead>\n",
       "    <tr style=\"text-align: right;\">\n",
       "      <th></th>\n",
       "      <th>birth_country_current</th>\n",
       "      <th>prize</th>\n",
       "      <th>ISO</th>\n",
       "    </tr>\n",
       "  </thead>\n",
       "  <tbody>\n",
       "    <tr>\n",
       "      <th>74</th>\n",
       "      <td>United States of America</td>\n",
       "      <td>281</td>\n",
       "      <td>USA</td>\n",
       "    </tr>\n",
       "    <tr>\n",
       "      <th>73</th>\n",
       "      <td>United Kingdom</td>\n",
       "      <td>105</td>\n",
       "      <td>GBR</td>\n",
       "    </tr>\n",
       "    <tr>\n",
       "      <th>26</th>\n",
       "      <td>Germany</td>\n",
       "      <td>84</td>\n",
       "      <td>DEU</td>\n",
       "    </tr>\n",
       "    <tr>\n",
       "      <th>25</th>\n",
       "      <td>France</td>\n",
       "      <td>57</td>\n",
       "      <td>FRA</td>\n",
       "    </tr>\n",
       "    <tr>\n",
       "      <th>67</th>\n",
       "      <td>Sweden</td>\n",
       "      <td>29</td>\n",
       "      <td>SWE</td>\n",
       "    </tr>\n",
       "    <tr>\n",
       "      <th>57</th>\n",
       "      <td>Poland</td>\n",
       "      <td>27</td>\n",
       "      <td>POL</td>\n",
       "    </tr>\n",
       "    <tr>\n",
       "      <th>40</th>\n",
       "      <td>Japan</td>\n",
       "      <td>27</td>\n",
       "      <td>JPN</td>\n",
       "    </tr>\n",
       "    <tr>\n",
       "      <th>61</th>\n",
       "      <td>Russia</td>\n",
       "      <td>26</td>\n",
       "      <td>RUS</td>\n",
       "    </tr>\n",
       "    <tr>\n",
       "      <th>11</th>\n",
       "      <td>Canada</td>\n",
       "      <td>20</td>\n",
       "      <td>CAN</td>\n",
       "    </tr>\n",
       "    <tr>\n",
       "      <th>39</th>\n",
       "      <td>Italy</td>\n",
       "      <td>19</td>\n",
       "      <td>ITA</td>\n",
       "    </tr>\n",
       "    <tr>\n",
       "      <th>68</th>\n",
       "      <td>Switzerland</td>\n",
       "      <td>19</td>\n",
       "      <td>CHE</td>\n",
       "    </tr>\n",
       "    <tr>\n",
       "      <th>3</th>\n",
       "      <td>Austria</td>\n",
       "      <td>18</td>\n",
       "      <td>AUT</td>\n",
       "    </tr>\n",
       "    <tr>\n",
       "      <th>51</th>\n",
       "      <td>Netherlands</td>\n",
       "      <td>18</td>\n",
       "      <td>NLD</td>\n",
       "    </tr>\n",
       "    <tr>\n",
       "      <th>54</th>\n",
       "      <td>Norway</td>\n",
       "      <td>12</td>\n",
       "      <td>NOR</td>\n",
       "    </tr>\n",
       "    <tr>\n",
       "      <th>13</th>\n",
       "      <td>China</td>\n",
       "      <td>12</td>\n",
       "      <td>CHN</td>\n",
       "    </tr>\n",
       "    <tr>\n",
       "      <th>20</th>\n",
       "      <td>Denmark</td>\n",
       "      <td>12</td>\n",
       "      <td>DNK</td>\n",
       "    </tr>\n",
       "    <tr>\n",
       "      <th>2</th>\n",
       "      <td>Australia</td>\n",
       "      <td>10</td>\n",
       "      <td>AUS</td>\n",
       "    </tr>\n",
       "    <tr>\n",
       "      <th>7</th>\n",
       "      <td>Belgium</td>\n",
       "      <td>9</td>\n",
       "      <td>BEL</td>\n",
       "    </tr>\n",
       "    <tr>\n",
       "      <th>31</th>\n",
       "      <td>Hungary</td>\n",
       "      <td>9</td>\n",
       "      <td>HUN</td>\n",
       "    </tr>\n",
       "    <tr>\n",
       "      <th>33</th>\n",
       "      <td>India</td>\n",
       "      <td>9</td>\n",
       "      <td>IND</td>\n",
       "    </tr>\n",
       "  </tbody>\n",
       "</table>\n",
       "</div>"
      ],
      "text/plain": [
       "       birth_country_current  prize  ISO\n",
       "74  United States of America    281  USA\n",
       "73            United Kingdom    105  GBR\n",
       "26                   Germany     84  DEU\n",
       "25                    France     57  FRA\n",
       "67                    Sweden     29  SWE\n",
       "57                    Poland     27  POL\n",
       "40                     Japan     27  JPN\n",
       "61                    Russia     26  RUS\n",
       "11                    Canada     20  CAN\n",
       "39                     Italy     19  ITA\n",
       "68               Switzerland     19  CHE\n",
       "3                    Austria     18  AUT\n",
       "51               Netherlands     18  NLD\n",
       "54                    Norway     12  NOR\n",
       "13                     China     12  CHN\n",
       "20                   Denmark     12  DNK\n",
       "2                  Australia     10  AUS\n",
       "7                    Belgium      9  BEL\n",
       "31                   Hungary      9  HUN\n",
       "33                     India      9  IND"
      ]
     },
     "execution_count": 28,
     "metadata": {},
     "output_type": "execute_result"
    }
   ],
   "source": [
    "top_country_2 = data[['prize', 'birth_country_current', 'ISO']].groupby(\"birth_country_current\", as_index=False).agg({'prize': pd.Series.count, 'ISO': pd.Series.min})\n",
    "top_country_2.sort_values('prize', ascending=False).head(20)"
   ]
  },
  {
   "cell_type": "code",
   "execution_count": 29,
   "metadata": {},
   "outputs": [
    {
     "data": {
      "text/html": [
       "<iframe\n",
       "    scrolling=\"no\"\n",
       "    width=\"100%\"\n",
       "    height=\"1520\"\n",
       "    src=\"iframe_figures/figure_29.html\"\n",
       "    frameborder=\"0\"\n",
       "    allowfullscreen\n",
       "></iframe>\n"
      ]
     },
     "metadata": {},
     "output_type": "display_data"
    }
   ],
   "source": [
    "fig = px.bar(top_country_2.sort_values('prize', ascending=True),\n",
    "            y='birth_country_current',\n",
    "             x='prize',\n",
    "             title='Prizes by Country',\n",
    "            orientation='h' )\n",
    "#fig.update_traces(width=50)\n",
    "#fig.update_xaxes(dtick=50)\n",
    "fig.update_yaxes(dtick=1, gridwidth=1)\n",
    "fig.update_layout(height=1500)\n",
    "fig.show(renderer='iframe')\n",
    "# fig.show(renderer='iframe_connected')\n",
    "# fig.show(renderer='colab')"
   ]
  },
  {
   "cell_type": "code",
   "execution_count": 30,
   "metadata": {},
   "outputs": [
    {
     "data": {
      "text/html": [
       "<iframe\n",
       "    scrolling=\"no\"\n",
       "    width=\"100%\"\n",
       "    height=\"545px\"\n",
       "    src=\"iframe_figures/figure_30.html\"\n",
       "    frameborder=\"0\"\n",
       "    allowfullscreen\n",
       "></iframe>\n"
      ]
     },
     "metadata": {},
     "output_type": "display_data"
    }
   ],
   "source": [
    "fig = px.choropleth(top_country_2.sort_values(\"prize\"),\n",
    "                    locations=\"ISO\",\n",
    "                    color=\"prize\", # lifeExp is a column of gapminder\n",
    "                    hover_name=\"birth_country_current\", # column to add to hover information\n",
    "                    color_continuous_scale='matter',\n",
    "                   title='Number of prizes per birth country.')\n",
    "fig.show(renderer='iframe')\n",
    "#fig.show(renderer='iframe_connected')\n",
    "#fig.show(renderer='colab')"
   ]
  },
  {
   "cell_type": "markdown",
   "metadata": {},
   "source": [
    "Now let us check per country and per category"
   ]
  },
  {
   "cell_type": "code",
   "execution_count": 31,
   "metadata": {},
   "outputs": [
    {
     "data": {
      "text/html": [
       "<div>\n",
       "<style scoped>\n",
       "    .dataframe tbody tr th:only-of-type {\n",
       "        vertical-align: middle;\n",
       "    }\n",
       "\n",
       "    .dataframe tbody tr th {\n",
       "        vertical-align: top;\n",
       "    }\n",
       "\n",
       "    .dataframe thead th {\n",
       "        text-align: right;\n",
       "    }\n",
       "</style>\n",
       "<table border=\"1\" class=\"dataframe\">\n",
       "  <thead>\n",
       "    <tr style=\"text-align: right;\">\n",
       "      <th></th>\n",
       "      <th>birth_country_current</th>\n",
       "      <th>category</th>\n",
       "      <th>prize</th>\n",
       "    </tr>\n",
       "  </thead>\n",
       "  <tbody>\n",
       "    <tr>\n",
       "      <th>204</th>\n",
       "      <td>United States of America</td>\n",
       "      <td>Medicine</td>\n",
       "      <td>78</td>\n",
       "    </tr>\n",
       "    <tr>\n",
       "      <th>206</th>\n",
       "      <td>United States of America</td>\n",
       "      <td>Physics</td>\n",
       "      <td>70</td>\n",
       "    </tr>\n",
       "    <tr>\n",
       "      <th>201</th>\n",
       "      <td>United States of America</td>\n",
       "      <td>Chemistry</td>\n",
       "      <td>55</td>\n",
       "    </tr>\n",
       "    <tr>\n",
       "      <th>202</th>\n",
       "      <td>United States of America</td>\n",
       "      <td>Economics</td>\n",
       "      <td>49</td>\n",
       "    </tr>\n",
       "    <tr>\n",
       "      <th>198</th>\n",
       "      <td>United Kingdom</td>\n",
       "      <td>Medicine</td>\n",
       "      <td>28</td>\n",
       "    </tr>\n",
       "    <tr>\n",
       "      <th>...</th>\n",
       "      <td>...</td>\n",
       "      <td>...</td>\n",
       "      <td>...</td>\n",
       "    </tr>\n",
       "    <tr>\n",
       "      <th>190</th>\n",
       "      <td>Turkey</td>\n",
       "      <td>Chemistry</td>\n",
       "      <td>1</td>\n",
       "    </tr>\n",
       "    <tr>\n",
       "      <th>207</th>\n",
       "      <td>Venezuela</td>\n",
       "      <td>Medicine</td>\n",
       "      <td>1</td>\n",
       "    </tr>\n",
       "    <tr>\n",
       "      <th>208</th>\n",
       "      <td>Vietnam</td>\n",
       "      <td>Peace</td>\n",
       "      <td>1</td>\n",
       "    </tr>\n",
       "    <tr>\n",
       "      <th>209</th>\n",
       "      <td>Yemen</td>\n",
       "      <td>Peace</td>\n",
       "      <td>1</td>\n",
       "    </tr>\n",
       "    <tr>\n",
       "      <th>210</th>\n",
       "      <td>Zimbabwe</td>\n",
       "      <td>Peace</td>\n",
       "      <td>1</td>\n",
       "    </tr>\n",
       "  </tbody>\n",
       "</table>\n",
       "<p>211 rows × 3 columns</p>\n",
       "</div>"
      ],
      "text/plain": [
       "        birth_country_current   category  prize\n",
       "204  United States of America   Medicine     78\n",
       "206  United States of America    Physics     70\n",
       "201  United States of America  Chemistry     55\n",
       "202  United States of America  Economics     49\n",
       "198            United Kingdom   Medicine     28\n",
       "..                        ...        ...    ...\n",
       "190                    Turkey  Chemistry      1\n",
       "207                 Venezuela   Medicine      1\n",
       "208                   Vietnam      Peace      1\n",
       "209                     Yemen      Peace      1\n",
       "210                  Zimbabwe      Peace      1\n",
       "\n",
       "[211 rows x 3 columns]"
      ]
     },
     "execution_count": 31,
     "metadata": {},
     "output_type": "execute_result"
    }
   ],
   "source": [
    "top_country_3 = data[['birth_country_current', 'prize', 'category', 'ISO']].groupby(['birth_country_current', 'category'], as_index=False).agg({'prize': pd.Series.count})\n",
    "top_country_3.sort_values('prize', ascending=False)"
   ]
  },
  {
   "cell_type": "code",
   "execution_count": 32,
   "metadata": {},
   "outputs": [
    {
     "data": {
      "text/html": [
       "<iframe\n",
       "    scrolling=\"no\"\n",
       "    width=\"100%\"\n",
       "    height=\"1520\"\n",
       "    src=\"iframe_figures/figure_32.html\"\n",
       "    frameborder=\"0\"\n",
       "    allowfullscreen\n",
       "></iframe>\n"
      ]
     },
     "metadata": {},
     "output_type": "display_data"
    }
   ],
   "source": [
    "fig = px.bar(top_country_3.sort_values('prize', ascending=False),\n",
    "             y='birth_country_current',\n",
    "             x='prize',\n",
    "             color='category', \n",
    "             title='Prizes by Country and category',\n",
    "             orientation='h' )\n",
    "fig.update_yaxes(dtick=1, gridwidth=1)\n",
    "fig.update_layout(height=1500)\n",
    "fig.show(renderer='iframe')\n",
    "# fig.show(renderer='iframe_connected')\n",
    "# fig.show(renderer='colab')"
   ]
  },
  {
   "cell_type": "markdown",
   "metadata": {},
   "source": [
    "### Prizes per country over time"
   ]
  },
  {
   "cell_type": "code",
   "execution_count": 33,
   "metadata": {},
   "outputs": [
    {
     "data": {
      "text/html": [
       "<div>\n",
       "<style scoped>\n",
       "    .dataframe tbody tr th:only-of-type {\n",
       "        vertical-align: middle;\n",
       "    }\n",
       "\n",
       "    .dataframe tbody tr th {\n",
       "        vertical-align: top;\n",
       "    }\n",
       "\n",
       "    .dataframe thead th {\n",
       "        text-align: right;\n",
       "    }\n",
       "</style>\n",
       "<table border=\"1\" class=\"dataframe\">\n",
       "  <thead>\n",
       "    <tr style=\"text-align: right;\">\n",
       "      <th></th>\n",
       "      <th></th>\n",
       "      <th>prize</th>\n",
       "    </tr>\n",
       "    <tr>\n",
       "      <th>birth_country_current</th>\n",
       "      <th>year</th>\n",
       "      <th></th>\n",
       "    </tr>\n",
       "  </thead>\n",
       "  <tbody>\n",
       "    <tr>\n",
       "      <th rowspan=\"2\" valign=\"top\">Algeria</th>\n",
       "      <th>1957</th>\n",
       "      <td>1</td>\n",
       "    </tr>\n",
       "    <tr>\n",
       "      <th>1997</th>\n",
       "      <td>2</td>\n",
       "    </tr>\n",
       "    <tr>\n",
       "      <th rowspan=\"3\" valign=\"top\">Argentina</th>\n",
       "      <th>1936</th>\n",
       "      <td>1</td>\n",
       "    </tr>\n",
       "    <tr>\n",
       "      <th>1947</th>\n",
       "      <td>2</td>\n",
       "    </tr>\n",
       "    <tr>\n",
       "      <th>1980</th>\n",
       "      <td>3</td>\n",
       "    </tr>\n",
       "    <tr>\n",
       "      <th>...</th>\n",
       "      <th>...</th>\n",
       "      <td>...</td>\n",
       "    </tr>\n",
       "    <tr>\n",
       "      <th>United States of America</th>\n",
       "      <th>2020</th>\n",
       "      <td>281</td>\n",
       "    </tr>\n",
       "    <tr>\n",
       "      <th>Venezuela</th>\n",
       "      <th>1980</th>\n",
       "      <td>1</td>\n",
       "    </tr>\n",
       "    <tr>\n",
       "      <th>Vietnam</th>\n",
       "      <th>1973</th>\n",
       "      <td>1</td>\n",
       "    </tr>\n",
       "    <tr>\n",
       "      <th>Yemen</th>\n",
       "      <th>2011</th>\n",
       "      <td>1</td>\n",
       "    </tr>\n",
       "    <tr>\n",
       "      <th>Zimbabwe</th>\n",
       "      <th>1960</th>\n",
       "      <td>1</td>\n",
       "    </tr>\n",
       "  </tbody>\n",
       "</table>\n",
       "<p>627 rows × 1 columns</p>\n",
       "</div>"
      ],
      "text/plain": [
       "                               prize\n",
       "birth_country_current    year       \n",
       "Algeria                  1957      1\n",
       "                         1997      2\n",
       "Argentina                1936      1\n",
       "                         1947      2\n",
       "                         1980      3\n",
       "...                              ...\n",
       "United States of America 2020    281\n",
       "Venezuela                1980      1\n",
       "Vietnam                  1973      1\n",
       "Yemen                    2011      1\n",
       "Zimbabwe                 1960      1\n",
       "\n",
       "[627 rows x 1 columns]"
      ]
     },
     "execution_count": 33,
     "metadata": {},
     "output_type": "execute_result"
    }
   ],
   "source": [
    "country_time = data[['prize','birth_country_current','year']]\\\n",
    "                    .groupby(['birth_country_current', 'year'], as_index=False).count()\\\n",
    "                    .sort_values('year')\\\n",
    "                    .groupby(['birth_country_current', 'year']).sum()\\\n",
    "                    .groupby('birth_country_current').cumsum()\n",
    "country_time"
   ]
  },
  {
   "cell_type": "code",
   "execution_count": 34,
   "metadata": {},
   "outputs": [
    {
     "data": {
      "text/html": [
       "<iframe\n",
       "    scrolling=\"no\"\n",
       "    width=\"100%\"\n",
       "    height=\"545px\"\n",
       "    src=\"iframe_figures/figure_34.html\"\n",
       "    frameborder=\"0\"\n",
       "    allowfullscreen\n",
       "></iframe>\n"
      ]
     },
     "metadata": {},
     "output_type": "display_data"
    }
   ],
   "source": [
    "country_time.index.get_level_values('year')\n",
    "fig = px.line(country_time,\n",
    "             x=country_time.index.get_level_values('year'),\n",
    "             y='prize',\n",
    "             color=country_time.index.get_level_values('birth_country_current'),\n",
    "             title='Prizes per year for each country')\n",
    "fig.update_layout(xaxis_title=\"year\")\n",
    "fig.show(renderer='iframe')\n",
    "# fig.show(renderer='iframe_connected')\n",
    "# fig.show(renderer='colab')"
   ]
  },
  {
   "cell_type": "markdown",
   "metadata": {},
   "source": [
    "## Prizes per organization and location"
   ]
  },
  {
   "cell_type": "markdown",
   "metadata": {},
   "source": [
    "### Prizes per organization overall"
   ]
  },
  {
   "cell_type": "code",
   "execution_count": 35,
   "metadata": {},
   "outputs": [
    {
     "data": {
      "text/html": [
       "<div>\n",
       "<style scoped>\n",
       "    .dataframe tbody tr th:only-of-type {\n",
       "        vertical-align: middle;\n",
       "    }\n",
       "\n",
       "    .dataframe tbody tr th {\n",
       "        vertical-align: top;\n",
       "    }\n",
       "\n",
       "    .dataframe thead th {\n",
       "        text-align: right;\n",
       "    }\n",
       "</style>\n",
       "<table border=\"1\" class=\"dataframe\">\n",
       "  <thead>\n",
       "    <tr style=\"text-align: right;\">\n",
       "      <th></th>\n",
       "      <th>organization_name</th>\n",
       "      <th>organization_country</th>\n",
       "      <th>prize</th>\n",
       "    </tr>\n",
       "  </thead>\n",
       "  <tbody>\n",
       "    <tr>\n",
       "      <th>163</th>\n",
       "      <td>Sorbonne University</td>\n",
       "      <td>France</td>\n",
       "      <td>7</td>\n",
       "    </tr>\n",
       "    <tr>\n",
       "      <th>67</th>\n",
       "      <td>Harvard Medical School</td>\n",
       "      <td>United States of America</td>\n",
       "      <td>7</td>\n",
       "    </tr>\n",
       "    <tr>\n",
       "      <th>109</th>\n",
       "      <td>London University</td>\n",
       "      <td>United Kingdom</td>\n",
       "      <td>7</td>\n",
       "    </tr>\n",
       "    <tr>\n",
       "      <th>192</th>\n",
       "      <td>University College London</td>\n",
       "      <td>United Kingdom</td>\n",
       "      <td>7</td>\n",
       "    </tr>\n",
       "    <tr>\n",
       "      <th>40</th>\n",
       "      <td>Cornell University</td>\n",
       "      <td>United States of America</td>\n",
       "      <td>8</td>\n",
       "    </tr>\n",
       "    <tr>\n",
       "      <th>12</th>\n",
       "      <td>Bell Laboratories</td>\n",
       "      <td>United States of America</td>\n",
       "      <td>8</td>\n",
       "    </tr>\n",
       "    <tr>\n",
       "      <th>258</th>\n",
       "      <td>Yale University</td>\n",
       "      <td>United States of America</td>\n",
       "      <td>9</td>\n",
       "    </tr>\n",
       "    <tr>\n",
       "      <th>111</th>\n",
       "      <td>MRC Laboratory of Molecular Biology</td>\n",
       "      <td>United Kingdom</td>\n",
       "      <td>10</td>\n",
       "    </tr>\n",
       "    <tr>\n",
       "      <th>222</th>\n",
       "      <td>University of Oxford</td>\n",
       "      <td>United Kingdom</td>\n",
       "      <td>12</td>\n",
       "    </tr>\n",
       "    <tr>\n",
       "      <th>152</th>\n",
       "      <td>Rockefeller University</td>\n",
       "      <td>United States of America</td>\n",
       "      <td>13</td>\n",
       "    </tr>\n",
       "    <tr>\n",
       "      <th>119</th>\n",
       "      <td>Max-Planck-Institut</td>\n",
       "      <td>Germany</td>\n",
       "      <td>13</td>\n",
       "    </tr>\n",
       "    <tr>\n",
       "      <th>146</th>\n",
       "      <td>Princeton University</td>\n",
       "      <td>United States of America</td>\n",
       "      <td>15</td>\n",
       "    </tr>\n",
       "    <tr>\n",
       "      <th>38</th>\n",
       "      <td>Columbia University</td>\n",
       "      <td>United States of America</td>\n",
       "      <td>17</td>\n",
       "    </tr>\n",
       "    <tr>\n",
       "      <th>26</th>\n",
       "      <td>California Institute of Technology (Caltech)</td>\n",
       "      <td>United States of America</td>\n",
       "      <td>17</td>\n",
       "    </tr>\n",
       "    <tr>\n",
       "      <th>197</th>\n",
       "      <td>University of Cambridge</td>\n",
       "      <td>United Kingdom</td>\n",
       "      <td>18</td>\n",
       "    </tr>\n",
       "    <tr>\n",
       "      <th>198</th>\n",
       "      <td>University of Chicago</td>\n",
       "      <td>United States of America</td>\n",
       "      <td>20</td>\n",
       "    </tr>\n",
       "    <tr>\n",
       "      <th>117</th>\n",
       "      <td>Massachusetts Institute of Technology (MIT)</td>\n",
       "      <td>United States of America</td>\n",
       "      <td>21</td>\n",
       "    </tr>\n",
       "    <tr>\n",
       "      <th>167</th>\n",
       "      <td>Stanford University</td>\n",
       "      <td>United States of America</td>\n",
       "      <td>23</td>\n",
       "    </tr>\n",
       "    <tr>\n",
       "      <th>68</th>\n",
       "      <td>Harvard University</td>\n",
       "      <td>United States of America</td>\n",
       "      <td>29</td>\n",
       "    </tr>\n",
       "    <tr>\n",
       "      <th>196</th>\n",
       "      <td>University of California</td>\n",
       "      <td>United States of America</td>\n",
       "      <td>40</td>\n",
       "    </tr>\n",
       "  </tbody>\n",
       "</table>\n",
       "</div>"
      ],
      "text/plain": [
       "                                organization_name      organization_country  \\\n",
       "163                           Sorbonne University                    France   \n",
       "67                         Harvard Medical School  United States of America   \n",
       "109                             London University            United Kingdom   \n",
       "192                     University College London            United Kingdom   \n",
       "40                             Cornell University  United States of America   \n",
       "12                              Bell Laboratories  United States of America   \n",
       "258                               Yale University  United States of America   \n",
       "111           MRC Laboratory of Molecular Biology            United Kingdom   \n",
       "222                          University of Oxford            United Kingdom   \n",
       "152                        Rockefeller University  United States of America   \n",
       "119                           Max-Planck-Institut                   Germany   \n",
       "146                          Princeton University  United States of America   \n",
       "38                            Columbia University  United States of America   \n",
       "26   California Institute of Technology (Caltech)  United States of America   \n",
       "197                       University of Cambridge            United Kingdom   \n",
       "198                         University of Chicago  United States of America   \n",
       "117   Massachusetts Institute of Technology (MIT)  United States of America   \n",
       "167                           Stanford University  United States of America   \n",
       "68                             Harvard University  United States of America   \n",
       "196                      University of California  United States of America   \n",
       "\n",
       "     prize  \n",
       "163      7  \n",
       "67       7  \n",
       "109      7  \n",
       "192      7  \n",
       "40       8  \n",
       "12       8  \n",
       "258      9  \n",
       "111     10  \n",
       "222     12  \n",
       "152     13  \n",
       "119     13  \n",
       "146     15  \n",
       "38      17  \n",
       "26      17  \n",
       "197     18  \n",
       "198     20  \n",
       "117     21  \n",
       "167     23  \n",
       "68      29  \n",
       "196     40  "
      ]
     },
     "execution_count": 35,
     "metadata": {},
     "output_type": "execute_result"
    }
   ],
   "source": [
    "org = data.groupby(['organization_name', 'organization_country'], as_index=False)\\\n",
    "    .agg({'prize': pd.Series.count}).sort_values('prize', ascending=True)\n",
    "org = org.tail(20)\n",
    "org"
   ]
  },
  {
   "cell_type": "code",
   "execution_count": 36,
   "metadata": {},
   "outputs": [
    {
     "data": {
      "text/html": [
       "<iframe\n",
       "    scrolling=\"no\"\n",
       "    width=\"100%\"\n",
       "    height=\"545px\"\n",
       "    src=\"iframe_figures/figure_36.html\"\n",
       "    frameborder=\"0\"\n",
       "    allowfullscreen\n",
       "></iframe>\n"
      ]
     },
     "metadata": {},
     "output_type": "display_data"
    }
   ],
   "source": [
    "fig = px.bar(org,\n",
    "            y='organization_name',\n",
    "            x='prize',\n",
    "            orientation='h',\n",
    "             color='prize',\n",
    "             title='Organizations with more prizes'\n",
    "            )\n",
    "# fig.update_layout(height=500)\n",
    "# fig.update_yaxes(dtick=1, gridwidth=1)\n",
    "fig.show(renderer='iframe')\n",
    "# fig.show(renderer='iframe_connected')\n",
    "# fig.show(renderer='colab')"
   ]
  },
  {
   "cell_type": "markdown",
   "metadata": {},
   "source": [
    "### Prizes per city"
   ]
  },
  {
   "cell_type": "code",
   "execution_count": 37,
   "metadata": {},
   "outputs": [
    {
     "data": {
      "text/html": [
       "<div>\n",
       "<style scoped>\n",
       "    .dataframe tbody tr th:only-of-type {\n",
       "        vertical-align: middle;\n",
       "    }\n",
       "\n",
       "    .dataframe tbody tr th {\n",
       "        vertical-align: top;\n",
       "    }\n",
       "\n",
       "    .dataframe thead th {\n",
       "        text-align: right;\n",
       "    }\n",
       "</style>\n",
       "<table border=\"1\" class=\"dataframe\">\n",
       "  <thead>\n",
       "    <tr style=\"text-align: right;\">\n",
       "      <th></th>\n",
       "      <th>organization_city</th>\n",
       "      <th>prize</th>\n",
       "    </tr>\n",
       "  </thead>\n",
       "  <tbody>\n",
       "    <tr>\n",
       "      <th>78</th>\n",
       "      <td>Ithaca, NY</td>\n",
       "      <td>8</td>\n",
       "    </tr>\n",
       "    <tr>\n",
       "      <th>65</th>\n",
       "      <td>Göttingen</td>\n",
       "      <td>8</td>\n",
       "    </tr>\n",
       "    <tr>\n",
       "      <th>71</th>\n",
       "      <td>Heidelberg</td>\n",
       "      <td>9</td>\n",
       "    </tr>\n",
       "    <tr>\n",
       "      <th>23</th>\n",
       "      <td>Boston, MA</td>\n",
       "      <td>9</td>\n",
       "    </tr>\n",
       "    <tr>\n",
       "      <th>119</th>\n",
       "      <td>New Haven, CT</td>\n",
       "      <td>9</td>\n",
       "    </tr>\n",
       "    <tr>\n",
       "      <th>110</th>\n",
       "      <td>Munich</td>\n",
       "      <td>9</td>\n",
       "    </tr>\n",
       "    <tr>\n",
       "      <th>108</th>\n",
       "      <td>Moscow</td>\n",
       "      <td>10</td>\n",
       "    </tr>\n",
       "    <tr>\n",
       "      <th>157</th>\n",
       "      <td>Stockholm</td>\n",
       "      <td>10</td>\n",
       "    </tr>\n",
       "    <tr>\n",
       "      <th>13</th>\n",
       "      <td>Berlin</td>\n",
       "      <td>12</td>\n",
       "    </tr>\n",
       "    <tr>\n",
       "      <th>126</th>\n",
       "      <td>Oxford</td>\n",
       "      <td>12</td>\n",
       "    </tr>\n",
       "    <tr>\n",
       "      <th>129</th>\n",
       "      <td>Pasadena, CA</td>\n",
       "      <td>17</td>\n",
       "    </tr>\n",
       "    <tr>\n",
       "      <th>135</th>\n",
       "      <td>Princeton, NJ</td>\n",
       "      <td>19</td>\n",
       "    </tr>\n",
       "    <tr>\n",
       "      <th>39</th>\n",
       "      <td>Chicago, IL</td>\n",
       "      <td>20</td>\n",
       "    </tr>\n",
       "    <tr>\n",
       "      <th>12</th>\n",
       "      <td>Berkeley, CA</td>\n",
       "      <td>21</td>\n",
       "    </tr>\n",
       "    <tr>\n",
       "      <th>156</th>\n",
       "      <td>Stanford, CA</td>\n",
       "      <td>24</td>\n",
       "    </tr>\n",
       "    <tr>\n",
       "      <th>128</th>\n",
       "      <td>Paris</td>\n",
       "      <td>25</td>\n",
       "    </tr>\n",
       "    <tr>\n",
       "      <th>92</th>\n",
       "      <td>London</td>\n",
       "      <td>27</td>\n",
       "    </tr>\n",
       "    <tr>\n",
       "      <th>33</th>\n",
       "      <td>Cambridge</td>\n",
       "      <td>31</td>\n",
       "    </tr>\n",
       "    <tr>\n",
       "      <th>121</th>\n",
       "      <td>New York, NY</td>\n",
       "      <td>45</td>\n",
       "    </tr>\n",
       "    <tr>\n",
       "      <th>34</th>\n",
       "      <td>Cambridge, MA</td>\n",
       "      <td>50</td>\n",
       "    </tr>\n",
       "  </tbody>\n",
       "</table>\n",
       "</div>"
      ],
      "text/plain": [
       "    organization_city  prize\n",
       "78         Ithaca, NY      8\n",
       "65          Göttingen      8\n",
       "71         Heidelberg      9\n",
       "23         Boston, MA      9\n",
       "119     New Haven, CT      9\n",
       "110            Munich      9\n",
       "108            Moscow     10\n",
       "157         Stockholm     10\n",
       "13             Berlin     12\n",
       "126            Oxford     12\n",
       "129      Pasadena, CA     17\n",
       "135     Princeton, NJ     19\n",
       "39        Chicago, IL     20\n",
       "12       Berkeley, CA     21\n",
       "156      Stanford, CA     24\n",
       "128             Paris     25\n",
       "92             London     27\n",
       "33          Cambridge     31\n",
       "121      New York, NY     45\n",
       "34      Cambridge, MA     50"
      ]
     },
     "execution_count": 37,
     "metadata": {},
     "output_type": "execute_result"
    }
   ],
   "source": [
    "city = data.groupby(['organization_city'], as_index=False)\\\n",
    "            .agg({'prize': pd.Series.count})\\\n",
    "            .sort_values('prize').tail(20)\n",
    "city"
   ]
  },
  {
   "cell_type": "code",
   "execution_count": 38,
   "metadata": {},
   "outputs": [
    {
     "data": {
      "text/html": [
       "<iframe\n",
       "    scrolling=\"no\"\n",
       "    width=\"100%\"\n",
       "    height=\"545px\"\n",
       "    src=\"iframe_figures/figure_38.html\"\n",
       "    frameborder=\"0\"\n",
       "    allowfullscreen\n",
       "></iframe>\n"
      ]
     },
     "metadata": {},
     "output_type": "display_data"
    }
   ],
   "source": [
    "fig = px.bar(city,\n",
    "            x='prize', \n",
    "            y='organization_city', \n",
    "            color='prize', \n",
    "            orientation='h',\n",
    "            title='Organization Cities with more prizes')\n",
    "fig.show(renderer='iframe')\n",
    "# fig.show(renderer='iframe_connected')\n",
    "# fig.show(renderer='colab')"
   ]
  },
  {
   "cell_type": "markdown",
   "metadata": {},
   "source": [
    "### Prizes vs birth_city"
   ]
  },
  {
   "cell_type": "code",
   "execution_count": 39,
   "metadata": {},
   "outputs": [
    {
     "data": {
      "text/html": [
       "<div>\n",
       "<style scoped>\n",
       "    .dataframe tbody tr th:only-of-type {\n",
       "        vertical-align: middle;\n",
       "    }\n",
       "\n",
       "    .dataframe tbody tr th {\n",
       "        vertical-align: top;\n",
       "    }\n",
       "\n",
       "    .dataframe thead th {\n",
       "        text-align: right;\n",
       "    }\n",
       "</style>\n",
       "<table border=\"1\" class=\"dataframe\">\n",
       "  <thead>\n",
       "    <tr style=\"text-align: right;\">\n",
       "      <th></th>\n",
       "      <th>birth_city</th>\n",
       "      <th>prize</th>\n",
       "    </tr>\n",
       "  </thead>\n",
       "  <tbody>\n",
       "    <tr>\n",
       "      <th>489</th>\n",
       "      <td>Shanghai</td>\n",
       "      <td>3</td>\n",
       "    </tr>\n",
       "    <tr>\n",
       "      <th>428</th>\n",
       "      <td>Pittsburgh, PA</td>\n",
       "      <td>4</td>\n",
       "    </tr>\n",
       "    <tr>\n",
       "      <th>87</th>\n",
       "      <td>Cairo</td>\n",
       "      <td>4</td>\n",
       "    </tr>\n",
       "    <tr>\n",
       "      <th>356</th>\n",
       "      <td>Montreal</td>\n",
       "      <td>4</td>\n",
       "    </tr>\n",
       "    <tr>\n",
       "      <th>440</th>\n",
       "      <td>Prague</td>\n",
       "      <td>5</td>\n",
       "    </tr>\n",
       "    <tr>\n",
       "      <th>167</th>\n",
       "      <td>Frankfurt-on-the-Main</td>\n",
       "      <td>5</td>\n",
       "    </tr>\n",
       "    <tr>\n",
       "      <th>515</th>\n",
       "      <td>Stockholm</td>\n",
       "      <td>6</td>\n",
       "    </tr>\n",
       "    <tr>\n",
       "      <th>210</th>\n",
       "      <td>Hamburg</td>\n",
       "      <td>6</td>\n",
       "    </tr>\n",
       "    <tr>\n",
       "      <th>358</th>\n",
       "      <td>Moscow</td>\n",
       "      <td>7</td>\n",
       "    </tr>\n",
       "    <tr>\n",
       "      <th>363</th>\n",
       "      <td>Munich</td>\n",
       "      <td>7</td>\n",
       "    </tr>\n",
       "    <tr>\n",
       "      <th>80</th>\n",
       "      <td>Budapest</td>\n",
       "      <td>8</td>\n",
       "    </tr>\n",
       "    <tr>\n",
       "      <th>76</th>\n",
       "      <td>Brooklyn, NY</td>\n",
       "      <td>8</td>\n",
       "    </tr>\n",
       "    <tr>\n",
       "      <th>64</th>\n",
       "      <td>Boston, MA</td>\n",
       "      <td>8</td>\n",
       "    </tr>\n",
       "    <tr>\n",
       "      <th>590</th>\n",
       "      <td>Washington, DC</td>\n",
       "      <td>8</td>\n",
       "    </tr>\n",
       "    <tr>\n",
       "      <th>48</th>\n",
       "      <td>Berlin</td>\n",
       "      <td>11</td>\n",
       "    </tr>\n",
       "    <tr>\n",
       "      <th>112</th>\n",
       "      <td>Chicago, IL</td>\n",
       "      <td>12</td>\n",
       "    </tr>\n",
       "    <tr>\n",
       "      <th>572</th>\n",
       "      <td>Vienna</td>\n",
       "      <td>14</td>\n",
       "    </tr>\n",
       "    <tr>\n",
       "      <th>313</th>\n",
       "      <td>London</td>\n",
       "      <td>19</td>\n",
       "    </tr>\n",
       "    <tr>\n",
       "      <th>418</th>\n",
       "      <td>Paris</td>\n",
       "      <td>26</td>\n",
       "    </tr>\n",
       "    <tr>\n",
       "      <th>382</th>\n",
       "      <td>New York, NY</td>\n",
       "      <td>53</td>\n",
       "    </tr>\n",
       "  </tbody>\n",
       "</table>\n",
       "</div>"
      ],
      "text/plain": [
       "                birth_city  prize\n",
       "489               Shanghai      3\n",
       "428         Pittsburgh, PA      4\n",
       "87                   Cairo      4\n",
       "356               Montreal      4\n",
       "440                 Prague      5\n",
       "167  Frankfurt-on-the-Main      5\n",
       "515              Stockholm      6\n",
       "210                Hamburg      6\n",
       "358                 Moscow      7\n",
       "363                 Munich      7\n",
       "80                Budapest      8\n",
       "76            Brooklyn, NY      8\n",
       "64              Boston, MA      8\n",
       "590         Washington, DC      8\n",
       "48                  Berlin     11\n",
       "112            Chicago, IL     12\n",
       "572                 Vienna     14\n",
       "313                 London     19\n",
       "418                  Paris     26\n",
       "382           New York, NY     53"
      ]
     },
     "execution_count": 39,
     "metadata": {},
     "output_type": "execute_result"
    }
   ],
   "source": [
    "birth_city_data = data.groupby(['birth_city'], as_index=False)\\\n",
    "                    .agg({'prize': pd.Series.count})\\\n",
    "                    .sort_values('prize')\\\n",
    "                    .tail(20)\n",
    "birth_city_data"
   ]
  },
  {
   "cell_type": "code",
   "execution_count": 40,
   "metadata": {},
   "outputs": [
    {
     "data": {
      "text/html": [
       "<iframe\n",
       "    scrolling=\"no\"\n",
       "    width=\"100%\"\n",
       "    height=\"545px\"\n",
       "    src=\"iframe_figures/figure_40.html\"\n",
       "    frameborder=\"0\"\n",
       "    allowfullscreen\n",
       "></iframe>\n"
      ]
     },
     "metadata": {},
     "output_type": "display_data"
    }
   ],
   "source": [
    "fig = px.bar(birth_city_data, \n",
    "            y='birth_city',\n",
    "            x='prize',\n",
    "            color='prize',\n",
    "            orientation='h',\n",
    "            title='Birth cities with more prizes')\n",
    "fig.show(renderer='iframe')\n",
    "# fig.show(renderer='iframe_connected')\n",
    "# fig.show(renderer='colab')"
   ]
  },
  {
   "cell_type": "markdown",
   "metadata": {},
   "source": [
    "## Sunburst chart per organization"
   ]
  },
  {
   "cell_type": "code",
   "execution_count": 41,
   "metadata": {},
   "outputs": [],
   "source": [
    "org_data = data.groupby(['organization_name',\\\n",
    "                         'organization_city',\\\n",
    "                         'organization_country'],\\\n",
    "                        as_index=False).\\\n",
    "                        agg({'prize': pd.Series.count})"
   ]
  },
  {
   "cell_type": "code",
   "execution_count": 42,
   "metadata": {},
   "outputs": [
    {
     "data": {
      "text/html": [
       "<iframe\n",
       "    scrolling=\"no\"\n",
       "    width=\"100%\"\n",
       "    height=\"545px\"\n",
       "    src=\"iframe_figures/figure_42.html\"\n",
       "    frameborder=\"0\"\n",
       "    allowfullscreen\n",
       "></iframe>\n"
      ]
     },
     "metadata": {},
     "output_type": "display_data"
    }
   ],
   "source": [
    "fig = px.sunburst(org_data,\n",
    "                 path=['organization_country',\n",
    "                       'organization_city',\n",
    "                       'organization_name'],\n",
    "                  values='prize',\n",
    "                  title='Sunburst of organizations (country, city, name). Click around!'\n",
    "                 )\n",
    "fig.show(renderer='iframe')\n",
    "# fig.show(renderer='iframe_connected')\n",
    "# fig.show(renderer='colab')"
   ]
  },
  {
   "cell_type": "markdown",
   "metadata": {},
   "source": [
    "## Laurates age"
   ]
  },
  {
   "cell_type": "code",
   "execution_count": 43,
   "metadata": {},
   "outputs": [
    {
     "data": {
      "text/plain": [
       "0     1852-08-30\n",
       "1     1839-03-16\n",
       "2     1854-03-15\n",
       "3     1822-05-20\n",
       "4     1828-05-08\n",
       "         ...    \n",
       "957   1949-07-02\n",
       "958          NaT\n",
       "959   1965-06-16\n",
       "960   1952-03-24\n",
       "961   1931-08-08\n",
       "Name: birth_date, Length: 962, dtype: datetime64[ns]"
      ]
     },
     "execution_count": 43,
     "metadata": {},
     "output_type": "execute_result"
    }
   ],
   "source": [
    "data.birth_date"
   ]
  },
  {
   "cell_type": "code",
   "execution_count": 44,
   "metadata": {},
   "outputs": [
    {
     "name": "stdout",
     "output_type": "stream",
     "text": [
      "The oldest winners are:\n"
     ]
    },
    {
     "data": {
      "text/html": [
       "<div>\n",
       "<style scoped>\n",
       "    .dataframe tbody tr th:only-of-type {\n",
       "        vertical-align: middle;\n",
       "    }\n",
       "\n",
       "    .dataframe tbody tr th {\n",
       "        vertical-align: top;\n",
       "    }\n",
       "\n",
       "    .dataframe thead th {\n",
       "        text-align: right;\n",
       "    }\n",
       "</style>\n",
       "<table border=\"1\" class=\"dataframe\">\n",
       "  <thead>\n",
       "    <tr style=\"text-align: right;\">\n",
       "      <th></th>\n",
       "      <th>year</th>\n",
       "      <th>category</th>\n",
       "      <th>prize</th>\n",
       "      <th>full_name</th>\n",
       "      <th>winning_age</th>\n",
       "    </tr>\n",
       "  </thead>\n",
       "  <tbody>\n",
       "    <tr>\n",
       "      <th>856</th>\n",
       "      <td>2012</td>\n",
       "      <td>Economics</td>\n",
       "      <td>The Sveriges Riksbank Prize in Economic Scienc...</td>\n",
       "      <td>Lloyd S. Shapley</td>\n",
       "      <td>89.0</td>\n",
       "    </tr>\n",
       "    <tr>\n",
       "      <th>961</th>\n",
       "      <td>2020</td>\n",
       "      <td>Physics</td>\n",
       "      <td>The Nobel Prize in Physics 2020</td>\n",
       "      <td>Roger Penrose</td>\n",
       "      <td>89.0</td>\n",
       "    </tr>\n",
       "    <tr>\n",
       "      <th>794</th>\n",
       "      <td>2007</td>\n",
       "      <td>Economics</td>\n",
       "      <td>The Sveriges Riksbank Prize in Economic Scienc...</td>\n",
       "      <td>Leonid Hurwicz</td>\n",
       "      <td>90.0</td>\n",
       "    </tr>\n",
       "    <tr>\n",
       "      <th>933</th>\n",
       "      <td>2018</td>\n",
       "      <td>Physics</td>\n",
       "      <td>The Nobel Prize in Physics 2018</td>\n",
       "      <td>Arthur Ashkin</td>\n",
       "      <td>96.0</td>\n",
       "    </tr>\n",
       "    <tr>\n",
       "      <th>937</th>\n",
       "      <td>2019</td>\n",
       "      <td>Chemistry</td>\n",
       "      <td>The Nobel Prize in Chemistry 2019</td>\n",
       "      <td>John Goodenough</td>\n",
       "      <td>97.0</td>\n",
       "    </tr>\n",
       "  </tbody>\n",
       "</table>\n",
       "</div>"
      ],
      "text/plain": [
       "     year   category                                              prize  \\\n",
       "856  2012  Economics  The Sveriges Riksbank Prize in Economic Scienc...   \n",
       "961  2020    Physics                    The Nobel Prize in Physics 2020   \n",
       "794  2007  Economics  The Sveriges Riksbank Prize in Economic Scienc...   \n",
       "933  2018    Physics                    The Nobel Prize in Physics 2018   \n",
       "937  2019  Chemistry                  The Nobel Prize in Chemistry 2019   \n",
       "\n",
       "            full_name  winning_age  \n",
       "856  Lloyd S. Shapley         89.0  \n",
       "961     Roger Penrose         89.0  \n",
       "794    Leonid Hurwicz         90.0  \n",
       "933     Arthur Ashkin         96.0  \n",
       "937   John Goodenough         97.0  "
      ]
     },
     "execution_count": 44,
     "metadata": {},
     "output_type": "execute_result"
    }
   ],
   "source": [
    "data_age = data\n",
    "data_age['winning_age'] = data_age['year'] - data_age['birth_date'].dt.year\n",
    "data_age=data_age.dropna(subset=['winning_age'])\n",
    "print('The oldest winners are:')\n",
    "data_age[['year', 'category', 'prize', 'full_name', 'winning_age']].sort_values(['winning_age']).tail()"
   ]
  },
  {
   "cell_type": "code",
   "execution_count": 45,
   "metadata": {},
   "outputs": [
    {
     "data": {
      "text/html": [
       "<iframe\n",
       "    scrolling=\"no\"\n",
       "    width=\"100%\"\n",
       "    height=\"545px\"\n",
       "    src=\"iframe_figures/figure_45.html\"\n",
       "    frameborder=\"0\"\n",
       "    allowfullscreen\n",
       "></iframe>\n"
      ]
     },
     "metadata": {},
     "output_type": "display_data"
    }
   ],
   "source": [
    "fig = px.histogram(data_age, \n",
    "                  x='winning_age',\n",
    "                  title='The age where most people have won a Nobel Prize')\n",
    "fig.update_layout(yaxis_title=\"Number of winners\", xaxis_title=\"Age when winning\")\n",
    "fig.show(renderer='iframe')\n",
    "# fig.show(renderer='iframe_connected')\n",
    "# fig.show(renderer='colab')"
   ]
  },
  {
   "cell_type": "code",
   "execution_count": 46,
   "metadata": {},
   "outputs": [
    {
     "data": {
      "text/plain": [
       "count    934.000000\n",
       "mean      59.948608\n",
       "std       12.617785\n",
       "min       17.000000\n",
       "25%       51.000000\n",
       "50%       60.000000\n",
       "75%       69.000000\n",
       "max       97.000000\n",
       "Name: winning_age, dtype: float64"
      ]
     },
     "execution_count": 46,
     "metadata": {},
     "output_type": "execute_result"
    }
   ],
   "source": [
    "data_age.winning_age.describe()"
   ]
  },
  {
   "cell_type": "code",
   "execution_count": 47,
   "metadata": {},
   "outputs": [
    {
     "data": {
      "text/html": [
       "<iframe\n",
       "    scrolling=\"no\"\n",
       "    width=\"100%\"\n",
       "    height=\"545px\"\n",
       "    src=\"iframe_figures/figure_47.html\"\n",
       "    frameborder=\"0\"\n",
       "    allowfullscreen\n",
       "></iframe>\n"
      ]
     },
     "metadata": {},
     "output_type": "display_data"
    }
   ],
   "source": [
    "age_over_time = data_age.groupby('year', as_index=False).agg({'winning_age': pd.Series.mean})\n",
    "age_over_time['rolling10'] = age_over_time.winning_age.rolling(10).mean()\n",
    "fig = px.line(age_over_time,\n",
    "             x='year',\n",
    "             y=['winning_age', 'rolling10'],\n",
    "             title='Winning age vs year')\n",
    "fig.update_layout(yaxis_title=\"Winning age and rolling (10)\", xaxis_title=\"year awarded\")\n",
    "fig.show(renderer='iframe')\n",
    "# fig.show(renderer='iframe_connected')\n",
    "# fig.show(renderer='colab')"
   ]
  },
  {
   "cell_type": "code",
   "execution_count": 48,
   "metadata": {},
   "outputs": [
    {
     "data": {
      "text/html": [
       "<iframe\n",
       "    scrolling=\"no\"\n",
       "    width=\"100%\"\n",
       "    height=\"545px\"\n",
       "    src=\"iframe_figures/figure_48.html\"\n",
       "    frameborder=\"0\"\n",
       "    allowfullscreen\n",
       "></iframe>\n"
      ]
     },
     "metadata": {},
     "output_type": "display_data"
    }
   ],
   "source": [
    "fig = px.box(data_age,\n",
    "                y='winning_age',\n",
    "                x='category',\n",
    "            title='Age distribution by cateogry')\n",
    "fig.update_layout(yaxis_title=\"Age when winning\", xaxis_title=\"Category of the prize\")\n",
    "fig.show(renderer='iframe')\n",
    "# fig.show(renderer='iframe_connected')\n",
    "# fig.show(renderer='colab')"
   ]
  }
 ],
 "metadata": {
  "kernelspec": {
   "display_name": "Python 3 (ipykernel)",
   "language": "python",
   "name": "python3"
  },
  "language_info": {
   "codemirror_mode": {
    "name": "ipython",
    "version": 3
   },
   "file_extension": ".py",
   "mimetype": "text/x-python",
   "name": "python",
   "nbconvert_exporter": "python",
   "pygments_lexer": "ipython3",
   "version": "3.9.10"
  }
 },
 "nbformat": 4,
 "nbformat_minor": 4
}
